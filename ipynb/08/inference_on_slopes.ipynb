{
 "cells": [
  {
   "cell_type": "markdown",
   "metadata": {},
   "source": [
    "In [finding slopes](finding_slopes), we found the line the did the best job of predicting one vector of values from another vector of values.\n",
    "\n",
    "Our line was a slope and an intercept.  We used it to predict the Maternal Mortality Ratio (MMR) values from the Fertility Rate (FR) values.\n",
    "\n",
    "We chose the line to minimize the average prediction errors, and the sum of squared prediction errors.\n",
    "\n",
    "Now we may have another question.  Can we believe the slope?   Put more formally, is it possible that there is in fact no underlying positive or negative slope relating FR and MMR, and the slope that we found arose because of *sampling error*.  That is, there was some random fluctuation in the data, perhaps from year to year, and just by chance, the random fluctuation resulted in the slope we observe.\n",
    "\n",
    "This is a very similar problem to the problem of comparing means between two groups.  Like that problem, we can get at our question using a permutation test."
   ]
  },
  {
   "cell_type": "code",
   "execution_count": null,
   "metadata": {},
   "outputs": [],
   "source": [
    "import numpy as np\n",
    "import matplotlib.pyplot as plt\n",
    "%matplotlib inline\n",
    "# Make plots look a little bit more fancy\n",
    "plt.style.use('fivethirtyeight')\n",
    "# Print to 2 decimal places, show tiny values as 0\n",
    "np.set_printoptions(precision=2, suppress=True)\n",
    "import pandas as pd"
   ]
  },
  {
   "cell_type": "markdown",
   "metadata": {},
   "source": [
    "If you are running on your laptop, you will need to download the\n",
    "[gender_stats.csv](https://matthew-brett.github.io/cfd2019/data/gender_stats.csv) file to the same\n",
    "directory as this notebook.\n",
    "\n",
    "We fetch the data and process it again:"
   ]
  },
  {
   "cell_type": "code",
   "execution_count": null,
   "metadata": {},
   "outputs": [],
   "source": [
    "# Load the data file\n",
    "gender_data = pd.read_csv('gender_stats.csv')\n",
    "\n",
    "# Make new data frame with only MMR and FR\n",
    "just_mmr_fr = gender_data[['mat_mort_ratio', 'fert_rate']]\n",
    "\n",
    "# Drop the NaN values, and make into arrays.\n",
    "clean_mmr_fr = just_mmr_fr.dropna()\n",
    "mmr = np.array(clean_mmr_fr['mat_mort_ratio'])\n",
    "fert = np.array(clean_mmr_fr['fert_rate'])"
   ]
  },
  {
   "cell_type": "markdown",
   "metadata": {},
   "source": [
    "The function we want to minimize:"
   ]
  },
  {
   "cell_type": "code",
   "execution_count": null,
   "metadata": {},
   "outputs": [],
   "source": [
    "def sos_si_error(inter_slope):\n",
    "    # inter_slope has two elements, the intercept value, and the slope value\n",
    "    intercept = inter_slope[0]\n",
    "    slope = inter_slope[1]\n",
    "    fitted = intercept + fert * slope\n",
    "    error = mmr - fitted\n",
    "    return np.sum(error ** 2)"
   ]
  },
  {
   "cell_type": "markdown",
   "metadata": {},
   "source": [
    "Find the best intercept and slope:"
   ]
  },
  {
   "cell_type": "code",
   "execution_count": null,
   "metadata": {},
   "outputs": [],
   "source": [
    "from scipy.optimize import minimize\n",
    "observed_result = minimize(sos_si_error, [0, 100])\n",
    "observed_slope = observed_result.x[1]\n",
    "observed_slope"
   ]
  },
  {
   "cell_type": "markdown",
   "metadata": {},
   "source": [
    "This is what we see, in the data we have."
   ]
  },
  {
   "cell_type": "markdown",
   "metadata": {},
   "source": [
    "What would we see, if we took another random sample of FR and MMR values?  We can't easily do this.  Is there a way we can estimate what this would look like?"
   ]
  },
  {
   "cell_type": "markdown",
   "metadata": {},
   "source": [
    "We return to the permutation trick we used in [Brexit\n",
    "ages](../05/brexit_ages).  If there is, in fact, no relationship between MMR\n",
    "and FR, then the slope, suggesting an association of MMR and FR, is just\n",
    "a result of random sampling.\n",
    "\n",
    "We can simulate that random sampling by making a new, fake (FR, MMR) pairing.  We do this by shuffling the MMR (or FR) values, to make the relationship between them random.\n",
    "\n",
    "Then we check what slope we get.\n",
    "\n",
    "We keep doing this, and keep checking the slope, to build up the *sampling distribution* for the slope.\n",
    "\n",
    "Then we compare our actual slope to the sampling distribution.  If the actual slope is not a rare value from the sampling distribution, the slope may have come about because of random sampling.  If it is a rare value, random sampling is an unlikely explanation."
   ]
  },
  {
   "cell_type": "code",
   "execution_count": null,
   "metadata": {},
   "outputs": [],
   "source": [
    "# Store the original MMR values\n",
    "actual_mmr = mmr.copy()"
   ]
  },
  {
   "cell_type": "markdown",
   "metadata": {},
   "source": [
    "Now shuffle the MMR values, to make a fake and random pairing between the FR and MMR values."
   ]
  },
  {
   "cell_type": "code",
   "execution_count": null,
   "metadata": {},
   "outputs": [],
   "source": [
    "# Make a fake pairing of FR and MMR, by shuffling MMR\n",
    "np.random.shuffle(mmr)"
   ]
  },
  {
   "cell_type": "markdown",
   "metadata": {},
   "source": [
    "Use `minimize` to estimate the best-fit slope for this new fake pairing:"
   ]
  },
  {
   "cell_type": "code",
   "execution_count": null,
   "metadata": {},
   "outputs": [],
   "source": [
    "# Estimate the slope for the fake pairing\n",
    "fake_result = minimize(sos_si_error, [0, 100])\n",
    "fake_result.x"
   ]
  },
  {
   "cell_type": "markdown",
   "metadata": {},
   "source": [
    "Get the slope, as our first estimate from the sampling distribution:"
   ]
  },
  {
   "cell_type": "code",
   "execution_count": null,
   "metadata": {},
   "outputs": [],
   "source": [
    "fake_slope = fake_result.x[1]\n",
    "fake_slope"
   ]
  },
  {
   "cell_type": "markdown",
   "metadata": {},
   "source": [
    "We need to do this many times to build up a good estimate of the sampling distribution:"
   ]
  },
  {
   "cell_type": "code",
   "execution_count": null,
   "metadata": {},
   "outputs": [],
   "source": [
    "n_samples = 10000\n",
    "fake_slopes = np.zeros(n_samples)\n",
    "for i in np.arange(n_samples):\n",
    "    np.random.shuffle(mmr)\n",
    "    fake_slope = minimize(sos_si_error, [0, 100]).x[1]\n",
    "    fake_slopes[i] = fake_slope"
   ]
  },
  {
   "cell_type": "markdown",
   "metadata": {},
   "source": [
    "As usual, we display the sampling distribution:"
   ]
  },
  {
   "cell_type": "code",
   "execution_count": null,
   "metadata": {},
   "outputs": [],
   "source": [
    "plt.hist(fake_slopes)\n",
    "plt.xlabel('Fake slope values')\n",
    "plt.title('Sampling distribution for slope')"
   ]
  },
  {
   "cell_type": "markdown",
   "metadata": {},
   "source": [
    "We find the proportion of the sampling distribution that is greater than or equal to the value we saw:"
   ]
  },
  {
   "cell_type": "code",
   "execution_count": null,
   "metadata": {},
   "outputs": [],
   "source": [
    "p = np.count_nonzero(fake_slopes >= observed_slope) / n_samples\n",
    "p"
   ]
  },
  {
   "cell_type": "markdown",
   "metadata": {},
   "source": [
    "The observed slope is very unlikely, given the sampling distribution.  We conclude that the observed slope is unlikely to be the result of random sampling."
   ]
  }
 ],
 "metadata": {
  "jupytext": {
   "metadata_filter": {
    "notebook": {
     "additional": "all",
     "excluded": [
      "language_info"
     ]
    }
   },
   "text_representation": {
    "extension": ".Rmd",
    "format_name": "rmarkdown",
    "format_version": "1.0",
    "jupytext_version": "0.8.6"
   }
  },
  "kernelspec": {
   "display_name": "Python 3",
   "language": "python",
   "name": "python3"
  },
  "language_info": {
   "codemirror_mode": {
    "name": "ipython",
    "version": 3
   },
   "file_extension": ".py",
   "mimetype": "text/x-python",
   "name": "python",
   "nbconvert_exporter": "python",
   "pygments_lexer": "ipython3",
   "version": "3.7.2"
  }
 },
 "nbformat": 4,
 "nbformat_minor": 2
}
