{
 "cells": [
  {
   "cell_type": "markdown",
   "metadata": {},
   "source": [
    "# Three girls"
   ]
  },
  {
   "cell_type": "markdown",
   "metadata": {},
   "source": [
    "In which we solve the three-girls-in-family problem."
   ]
  },
  {
   "cell_type": "code",
   "execution_count": 1,
   "metadata": {},
   "outputs": [],
   "source": [
    "import numpy as np\n",
    "np.set_printoptions(precision=2)"
   ]
  },
  {
   "cell_type": "code",
   "execution_count": 2,
   "metadata": {},
   "outputs": [
    {
     "data": {
      "text/plain": [
       "array([ 0.72,  0.13,  0.7 ,  0.58])"
      ]
     },
     "execution_count": 2,
     "metadata": {},
     "output_type": "execute_result"
    }
   ],
   "source": [
    "one_family = np.random.uniform(size=4)\n",
    "one_family"
   ]
  },
  {
   "cell_type": "code",
   "execution_count": 3,
   "metadata": {},
   "outputs": [
    {
     "data": {
      "text/plain": [
       "array([False,  True, False, False], dtype=bool)"
      ]
     },
     "execution_count": 3,
     "metadata": {},
     "output_type": "execute_result"
    }
   ],
   "source": [
    "girls = one_family < 0.5\n",
    "girls"
   ]
  },
  {
   "cell_type": "code",
   "execution_count": 4,
   "metadata": {},
   "outputs": [
    {
     "data": {
      "text/plain": [
       "1"
      ]
     },
     "execution_count": 4,
     "metadata": {},
     "output_type": "execute_result"
    }
   ],
   "source": [
    "n_girls = np.count_nonzero(girls)\n",
    "n_girls"
   ]
  },
  {
   "cell_type": "code",
   "execution_count": 5,
   "metadata": {},
   "outputs": [
    {
     "data": {
      "text/plain": [
       "array([[ 0.39,  0.03,  0.67,  0.51],\n",
       "       [ 0.6 ,  0.29,  0.2 ,  0.71],\n",
       "       [ 0.04,  0.82,  0.46,  1.  ],\n",
       "       [ 0.51,  0.94,  0.46,  0.15],\n",
       "       [ 0.48,  0.07,  0.36,  0.99],\n",
       "       [ 0.45,  0.14,  0.11,  0.56],\n",
       "       [ 0.33,  0.56,  0.59,  0.63],\n",
       "       [ 0.63,  0.66,  0.18,  0.5 ],\n",
       "       [ 0.26,  0.98,  0.37,  0.49],\n",
       "       [ 0.99,  0.72,  0.76,  0.48]])"
      ]
     },
     "execution_count": 5,
     "metadata": {},
     "output_type": "execute_result"
    }
   ],
   "source": [
    "ten_families = np.random.uniform(size=(10, 4))\n",
    "ten_families"
   ]
  },
  {
   "cell_type": "code",
   "execution_count": 6,
   "metadata": {},
   "outputs": [
    {
     "data": {
      "text/plain": [
       "array([[ True,  True, False, False],\n",
       "       [False,  True,  True, False],\n",
       "       [ True, False,  True, False],\n",
       "       [False, False,  True,  True],\n",
       "       [ True,  True,  True, False],\n",
       "       [ True,  True,  True, False],\n",
       "       [ True, False, False, False],\n",
       "       [False, False,  True, False],\n",
       "       [ True, False,  True,  True],\n",
       "       [False, False, False,  True]], dtype=bool)"
      ]
     },
     "execution_count": 6,
     "metadata": {},
     "output_type": "execute_result"
    }
   ],
   "source": [
    "are_girls = ten_families < 0.5\n",
    "are_girls"
   ]
  },
  {
   "cell_type": "code",
   "execution_count": 7,
   "metadata": {},
   "outputs": [
    {
     "data": {
      "text/plain": [
       "20"
      ]
     },
     "execution_count": 7,
     "metadata": {},
     "output_type": "execute_result"
    }
   ],
   "source": [
    "np.count_nonzero(are_girls)"
   ]
  },
  {
   "cell_type": "code",
   "execution_count": 8,
   "metadata": {},
   "outputs": [
    {
     "data": {
      "text/plain": [
       "array([2, 2, 2, 2, 3, 3, 1, 1, 3, 1])"
      ]
     },
     "execution_count": 8,
     "metadata": {},
     "output_type": "execute_result"
    }
   ],
   "source": [
    "n_girls = np.count_nonzero(are_girls, axis=1)\n",
    "n_girls"
   ]
  },
  {
   "cell_type": "code",
   "execution_count": 9,
   "metadata": {},
   "outputs": [
    {
     "data": {
      "text/plain": [
       "0.3"
      ]
     },
     "execution_count": 9,
     "metadata": {},
     "output_type": "execute_result"
    }
   ],
   "source": [
    "prop_3 = np.count_nonzero(n_girls == 3) / 10\n",
    "prop_3"
   ]
  },
  {
   "cell_type": "code",
   "execution_count": 10,
   "metadata": {},
   "outputs": [
    {
     "data": {
      "text/plain": [
       "0.250004"
      ]
     },
     "execution_count": 10,
     "metadata": {},
     "output_type": "execute_result"
    }
   ],
   "source": [
    "many_families = np.random.uniform(size=[1000000, 4])\n",
    "are_girls = many_families < 0.5\n",
    "n_girls = np.count_nonzero(are_girls, axis=1)\n",
    "prop_3 = np.count_nonzero(n_girls == 3) / 1000000\n",
    "prop_3"
   ]
  }
 ],
 "metadata": {
  "jupytext": {
   "main_language": "python",
   "text_representation": {
    "extension": ".Rmd",
    "format_name": "rmarkdown",
    "format_version": "1.0",
    "jupytext_version": "0.8.2"
   }
  },
  "kernelspec": {
   "display_name": "Python 3",
   "language": "python",
   "name": "python3"
  },
  "language_info": {
   "codemirror_mode": {
    "name": "ipython",
    "version": 3
   },
   "file_extension": ".py",
   "mimetype": "text/x-python",
   "name": "python",
   "nbconvert_exporter": "python",
   "pygments_lexer": "ipython3",
   "version": "3.6.5"
  }
 },
 "nbformat": 4,
 "nbformat_minor": 2
}
