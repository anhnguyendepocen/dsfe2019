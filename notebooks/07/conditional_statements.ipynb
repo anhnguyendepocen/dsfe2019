{
 "cells": [
  {
   "cell_type": "markdown",
   "metadata": {},
   "source": [
    "### Conditional Statements ###\n",
    "\n",
    "In many situations, actions and results depends on a specific set of\n",
    "conditions being satisfied. For example, individuals in randomized\n",
    "controlled trials receive the treatment if they have been assigned to\n",
    "the treatment group. A gambler makes money if she wins her bet. \n",
    "\n",
    "In this section we will learn how to describe such situations using\n",
    "code. A *conditional statement* is a multi-line statement that allows\n",
    "Python to choose among different alternatives based on the truth value\n",
    "of an expression. While conditional statements can appear anywhere,\n",
    "they appear most often within the body of a function in order to\n",
    "express alternative behavior depending on argument values.\n",
    "\n",
    "A conditional statement always begins with an `if` header, which is a single line followed by an indented body. The body is only executed if the expression directly following `if` (called the *if expression*) evaluates to a true value. If the *if expression* evaluates to a false value, then the body of the `if` is skipped.\n",
    "\n",
    "Let us start defining a function that returns the string `'Positive'`  for a positive number:"
   ]
  },
  {
   "cell_type": "code",
   "execution_count": 1,
   "metadata": {},
   "outputs": [],
   "source": [
    "def classify(x):\n",
    "    if x > 0:\n",
    "        return 'Positive'"
   ]
  },
  {
   "cell_type": "markdown",
   "metadata": {},
   "source": [
    "Let us work through what Python will do when we evaluate `classify(3)`.\n",
    "\n",
    "1.  Evaluate `classify` to the internal representation (IR) of the\n",
    "    function;\n",
    "1.  Evaluate `3` to give the IR of the integer 3\n",
    "1.  Call the IR of the function, with the IR of int 3. So:\n",
    "\n",
    "    1. Python enters function world\n",
    "    1. The new variable `x` gets the value IR of int 3.\n",
    "    1. Python executes the function body\n",
    "\n",
    "All this is revision from [functions](functions).\n",
    "\n",
    "What happens in the function body, with `x = 3`?\n",
    "\n",
    "1.   Python evaluates the *if expression* `x > 0`.  The result is the\n",
    "     IR of `True`.  This is a true value, so Python executes the body\n",
    "     of the if statement.\n",
    "1.   The body of the if statement is the single line `return\n",
    "     'Positive'`.  `'Positive'` evaluates to the IR of the string\n",
    "     `'Positive'`.  `return` exits function world, returning this\n",
    "     value."
   ]
  },
  {
   "cell_type": "code",
   "execution_count": 2,
   "metadata": {},
   "outputs": [
    {
     "data": {
      "text/plain": [
       "'Positive'"
      ]
     },
     "execution_count": 2,
     "metadata": {},
     "output_type": "execute_result"
    }
   ],
   "source": [
    "classify(3)"
   ]
  },
  {
   "cell_type": "markdown",
   "metadata": {},
   "source": [
    "The `classify` function returns `'Positive'` if the input is a\n",
    "positive number, like `3`. But if the input is not a positive number,\n",
    "such as `-3`, then this happens, in the function body:\n",
    "\n",
    "1. `x` has the value IR of int -3.\n",
    "1. `x > 0` evaluates to `False`, so Python skips the body of the if\n",
    "   statement.\n",
    "1. The function body ends without executing a `return` statement.\n",
    "\n",
    "So, the function body finishes without a `return`, and the function\n",
    "returns [None](none).  This is invisible to us, so it looks like the\n",
    "function returns nothing at all:"
   ]
  },
  {
   "cell_type": "code",
   "execution_count": 3,
   "metadata": {},
   "outputs": [],
   "source": [
    "classify(-3)"
   ]
  },
  {
   "cell_type": "markdown",
   "metadata": {},
   "source": [
    "We can catch the result, and check it is `None` (see the [None\n",
    "page](none)."
   ]
  },
  {
   "cell_type": "code",
   "execution_count": 4,
   "metadata": {},
   "outputs": [
    {
     "data": {
      "text/plain": [
       "True"
      ]
     },
     "execution_count": 4,
     "metadata": {},
     "output_type": "execute_result"
    }
   ],
   "source": [
    "r = classify(-3)\n",
    "r is None"
   ]
  },
  {
   "cell_type": "markdown",
   "metadata": {},
   "source": [
    "Let us refine our function to return `Not positive` if the input is a\n",
    "negative number. We can do this by adding an `else` clause.  If the *if\n",
    "expression* evaluates to a true value, then Python executes the first\n",
    "clause, after the if expression, as before.  If it evaluates to a false value, Python executes the clause following the `else`, instead."
   ]
  },
  {
   "cell_type": "code",
   "execution_count": 5,
   "metadata": {},
   "outputs": [],
   "source": [
    "def classify(x):\n",
    "    if x > 0:\n",
    "        return 'Positive'\n",
    "    else:\n",
    "        return 'Not positive'"
   ]
  },
  {
   "cell_type": "markdown",
   "metadata": {},
   "source": [
    "Imagine we evaluate `classify(-3)` again.  Python enters function world, and sets `x` to have the value IR of int -3.  It checks `x > 0` and finds a false value, so it skips the first clause, and executes the clause following `else:`.  This `return`s `'Not positive'`.\n",
    "\n",
    "Now imagine we prefer our function to return `'Negative` for negative values and `Zero` if the input value is 0.  It seems like we need three clauses, one each for positive, negative and 0 values.\n",
    "\n",
    "We can do this by adding an `elif` clause, where `elif` is Python's\n",
    "shorthand for the phrase \"else if\"."
   ]
  },
  {
   "cell_type": "code",
   "execution_count": 6,
   "metadata": {},
   "outputs": [],
   "source": [
    "def classify(x):\n",
    "    if x > 0:\n",
    "        return 'Positive'\n",
    "    elif x == 0:\n",
    "        return 'Zero'\n",
    "    else:\n",
    "        return 'Negative'"
   ]
  },
  {
   "cell_type": "markdown",
   "metadata": {},
   "source": [
    "Now `classify` returns the correct answer when the input is -3, 0, or 3:"
   ]
  },
  {
   "cell_type": "code",
   "execution_count": 7,
   "metadata": {},
   "outputs": [
    {
     "data": {
      "text/plain": [
       "'Positive'"
      ]
     },
     "execution_count": 7,
     "metadata": {},
     "output_type": "execute_result"
    }
   ],
   "source": [
    "classify(3)"
   ]
  },
  {
   "cell_type": "code",
   "execution_count": 8,
   "metadata": {},
   "outputs": [
    {
     "data": {
      "text/plain": [
       "'Zero'"
      ]
     },
     "execution_count": 8,
     "metadata": {},
     "output_type": "execute_result"
    }
   ],
   "source": [
    "classify(0)"
   ]
  },
  {
   "cell_type": "code",
   "execution_count": 9,
   "metadata": {},
   "outputs": [
    {
     "data": {
      "text/plain": [
       "'Negative'"
      ]
     },
     "execution_count": 9,
     "metadata": {},
     "output_type": "execute_result"
    }
   ],
   "source": [
    "classify(-3)"
   ]
  },
  {
   "cell_type": "markdown",
   "metadata": {},
   "source": [
    "If the input is 3, Python enters function world, sets `x` to have the value 3, and evaluates the if expression `x < 0`.  The expression is a true value, so Python executes the first clause and `return`s `'Positive'`.\n",
    "\n",
    "If the input is 0, Python enters function world, sets `x` to have the value 0, and evaluates the if expression `x < 0`.  The expression is a false value, so Python moves on to the next clause, which is `elif x == 0:`. This has another *if expression* `x == 0`.  It is a true value, so Python executes this clause, and `return`s `'Zero`.\n",
    "\n",
    "If the input is -3, Python enters function world, sets `x` to have the value -3, and evaluates the if expression `x < 0`.  The expression is a false value, so Python moves on to the next clause, which is `elif x == 0`. This expression is also a false, value so Python moves to the next clause, which is the `else:` clause, and executes that, `return`ing `'Negative'`.\n",
    "\n",
    "We can have as many `elif` clauses as we want.  For example, imagine we\n",
    "want to classify the number into one of the following categories:\n",
    "\n",
    "1. above 10 (`'Large positive'`)\n",
    "1. from (not including) 0 through 10 (`'Small positive'`)\n",
    "1. exactly 0 (`'Zero'`)\n",
    "1. from (not including) 0 through -10 (`'Small negative'`)\n",
    "1. below -10 (`'Large negative'`)\n"
   ]
  },
  {
   "cell_type": "code",
   "execution_count": 10,
   "metadata": {},
   "outputs": [],
   "source": [
    "def classify(x):\n",
    "    if x > 10:\n",
    "        return 'Large positive'\n",
    "    elif x > 0:\n",
    "        return 'Small positive'\n",
    "    elif x == 0:\n",
    "        return 'Zero'\n",
    "    elif x >= -10:  # Greater than or equal to\n",
    "        return 'Small negative'\n",
    "    else:\n",
    "        return 'Large negative'"
   ]
  },
  {
   "cell_type": "code",
   "execution_count": 11,
   "metadata": {},
   "outputs": [
    {
     "data": {
      "text/plain": [
       "'Large negative'"
      ]
     },
     "execution_count": 11,
     "metadata": {},
     "output_type": "execute_result"
    }
   ],
   "source": [
    "classify(-100)"
   ]
  },
  {
   "cell_type": "code",
   "execution_count": 12,
   "metadata": {},
   "outputs": [
    {
     "data": {
      "text/plain": [
       "'Zero'"
      ]
     },
     "execution_count": 12,
     "metadata": {},
     "output_type": "execute_result"
    }
   ],
   "source": [
    "classify(0)"
   ]
  },
  {
   "cell_type": "markdown",
   "metadata": {},
   "source": [
    "### The General Form ###\n",
    "\n",
    "A conditional statement can also have multiple clauses with multiple bodies, and only one of those bodies can ever be executed. The general format of a multi-clause conditional statement appears below.\n",
    "\n",
    "    if <if expression>:\n",
    "        <if body>\n",
    "    elif <elif expression 0>:\n",
    "        <elif body 0>\n",
    "    elif <elif expression 1>:\n",
    "        <elif body 1>\n",
    "    ...\n",
    "    else:\n",
    "        <else body>\n",
    "\n",
    "There is always exactly one `if` clause, but there can be any number of\n",
    "`elif` clauses. Python will evaluate the `if` and `elif` expressions in\n",
    "the headers in order until one is found that is a true value, then\n",
    "execute the corresponding body. The `else` clause is optional. When an\n",
    "`else` header is provided, its *else body* is executed only if none of\n",
    "the header expressions of the previous clauses are true. The `else`\n",
    "clause must always come at the end (or not at all).\n",
    "\n",
    "Now try the [exercises](../exercises/conditional_statements_exercises).\n",
    "\n",
    "{% data8page Conditional_Statements %}"
   ]
  }
 ],
 "metadata": {
  "jupytext": {
   "text_representation": {
    "extension": ".Rmd",
    "format_name": "rmarkdown",
    "format_version": "1.0",
    "jupytext_version": "0.8.6"
   }
  },
  "kernelspec": {
   "display_name": "Python 3",
   "language": "python",
   "name": "python3"
  },
  "language_info": {
   "codemirror_mode": {
    "name": "ipython",
    "version": 3
   },
   "file_extension": ".py",
   "mimetype": "text/x-python",
   "name": "python",
   "nbconvert_exporter": "python",
   "pygments_lexer": "ipython3",
   "version": "3.7.2"
  }
 },
 "nbformat": 4,
 "nbformat_minor": 2
}
