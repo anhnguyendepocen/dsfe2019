{
 "cells": [
  {
   "cell_type": "code",
   "execution_count": 1,
   "metadata": {},
   "outputs": [],
   "source": [
    "import numpy as np\n",
    "import pandas as pd"
   ]
  },
  {
   "cell_type": "code",
   "execution_count": 2,
   "metadata": {},
   "outputs": [
    {
     "data": {
      "text/html": [
       "<div>\n",
       "<style scoped>\n",
       "    .dataframe tbody tr th:only-of-type {\n",
       "        vertical-align: middle;\n",
       "    }\n",
       "\n",
       "    .dataframe tbody tr th {\n",
       "        vertical-align: top;\n",
       "    }\n",
       "\n",
       "    .dataframe thead th {\n",
       "        text-align: right;\n",
       "    }\n",
       "</style>\n",
       "<table border=\"1\" class=\"dataframe\">\n",
       "  <thead>\n",
       "    <tr style=\"text-align: right;\">\n",
       "      <th></th>\n",
       "      <th>country_name</th>\n",
       "      <th>country_code</th>\n",
       "      <th>fert_rate</th>\n",
       "      <th>gdp_us_billion</th>\n",
       "      <th>health_exp_per_cap</th>\n",
       "      <th>health_exp_pub</th>\n",
       "      <th>prim_ed_girls</th>\n",
       "      <th>mat_mort_ratio</th>\n",
       "      <th>population</th>\n",
       "    </tr>\n",
       "  </thead>\n",
       "  <tbody>\n",
       "    <tr>\n",
       "      <th>0</th>\n",
       "      <td>Aruba</td>\n",
       "      <td>ABW</td>\n",
       "      <td>1.66325</td>\n",
       "      <td>NaN</td>\n",
       "      <td>NaN</td>\n",
       "      <td>NaN</td>\n",
       "      <td>48.721939</td>\n",
       "      <td>NaN</td>\n",
       "      <td>0.103744</td>\n",
       "    </tr>\n",
       "    <tr>\n",
       "      <th>1</th>\n",
       "      <td>Afghanistan</td>\n",
       "      <td>AFG</td>\n",
       "      <td>4.95450</td>\n",
       "      <td>19.961015</td>\n",
       "      <td>161.138034</td>\n",
       "      <td>2.834598</td>\n",
       "      <td>40.109708</td>\n",
       "      <td>444.00</td>\n",
       "      <td>32.715838</td>\n",
       "    </tr>\n",
       "    <tr>\n",
       "      <th>2</th>\n",
       "      <td>Angola</td>\n",
       "      <td>AGO</td>\n",
       "      <td>6.12300</td>\n",
       "      <td>111.936542</td>\n",
       "      <td>254.747970</td>\n",
       "      <td>2.447546</td>\n",
       "      <td>NaN</td>\n",
       "      <td>501.25</td>\n",
       "      <td>26.937545</td>\n",
       "    </tr>\n",
       "    <tr>\n",
       "      <th>3</th>\n",
       "      <td>Albania</td>\n",
       "      <td>ALB</td>\n",
       "      <td>1.76925</td>\n",
       "      <td>12.327586</td>\n",
       "      <td>574.202694</td>\n",
       "      <td>2.836021</td>\n",
       "      <td>47.201082</td>\n",
       "      <td>29.25</td>\n",
       "      <td>2.888280</td>\n",
       "    </tr>\n",
       "    <tr>\n",
       "      <th>4</th>\n",
       "      <td>Andorra</td>\n",
       "      <td>AND</td>\n",
       "      <td>NaN</td>\n",
       "      <td>3.197538</td>\n",
       "      <td>4421.224933</td>\n",
       "      <td>7.260281</td>\n",
       "      <td>47.123345</td>\n",
       "      <td>NaN</td>\n",
       "      <td>0.079547</td>\n",
       "    </tr>\n",
       "  </tbody>\n",
       "</table>\n",
       "</div>"
      ],
      "text/plain": [
       "  country_name country_code  fert_rate  gdp_us_billion  health_exp_per_cap  \\\n",
       "0        Aruba          ABW    1.66325             NaN                 NaN   \n",
       "1  Afghanistan          AFG    4.95450       19.961015          161.138034   \n",
       "2       Angola          AGO    6.12300      111.936542          254.747970   \n",
       "3      Albania          ALB    1.76925       12.327586          574.202694   \n",
       "4      Andorra          AND        NaN        3.197538         4421.224933   \n",
       "\n",
       "   health_exp_pub  prim_ed_girls  mat_mort_ratio  population  \n",
       "0             NaN      48.721939             NaN    0.103744  \n",
       "1        2.834598      40.109708          444.00   32.715838  \n",
       "2        2.447546            NaN          501.25   26.937545  \n",
       "3        2.836021      47.201082           29.25    2.888280  \n",
       "4        7.260281      47.123345             NaN    0.079547  "
      ]
     },
     "execution_count": 2,
     "metadata": {},
     "output_type": "execute_result"
    }
   ],
   "source": [
    "gender_stats = pd.read_csv('gender_stats.csv')\n",
    "first_countries = gender_stats.head()\n",
    "first_countries"
   ]
  },
  {
   "cell_type": "code",
   "execution_count": 3,
   "metadata": {},
   "outputs": [
    {
     "data": {
      "text/plain": [
       "0    1.66325\n",
       "1    4.95450\n",
       "2    6.12300\n",
       "3    1.76925\n",
       "4        NaN\n",
       "Name: fert_rate, dtype: float64"
      ]
     },
     "execution_count": 3,
     "metadata": {},
     "output_type": "execute_result"
    }
   ],
   "source": [
    "fert_rate = first_countries['fert_rate']\n",
    "fert_rate"
   ]
  },
  {
   "cell_type": "code",
   "execution_count": 4,
   "metadata": {},
   "outputs": [
    {
     "data": {
      "text/plain": [
       "0    1.66325\n",
       "1    4.95450\n",
       "2    6.12300\n",
       "3    1.76925\n",
       "4        NaN\n",
       "Name: fert_rate, dtype: float64"
      ]
     },
     "execution_count": 4,
     "metadata": {},
     "output_type": "execute_result"
    }
   ],
   "source": [
    "# fert_rate.iloc[0] = 99\n",
    "fert_rate"
   ]
  },
  {
   "cell_type": "code",
   "execution_count": 5,
   "metadata": {},
   "outputs": [
    {
     "data": {
      "text/html": [
       "<div>\n",
       "<style scoped>\n",
       "    .dataframe tbody tr th:only-of-type {\n",
       "        vertical-align: middle;\n",
       "    }\n",
       "\n",
       "    .dataframe tbody tr th {\n",
       "        vertical-align: top;\n",
       "    }\n",
       "\n",
       "    .dataframe thead th {\n",
       "        text-align: right;\n",
       "    }\n",
       "</style>\n",
       "<table border=\"1\" class=\"dataframe\">\n",
       "  <thead>\n",
       "    <tr style=\"text-align: right;\">\n",
       "      <th></th>\n",
       "      <th>country_name</th>\n",
       "      <th>country_code</th>\n",
       "      <th>fert_rate</th>\n",
       "      <th>gdp_us_billion</th>\n",
       "      <th>health_exp_per_cap</th>\n",
       "      <th>health_exp_pub</th>\n",
       "      <th>prim_ed_girls</th>\n",
       "      <th>mat_mort_ratio</th>\n",
       "      <th>population</th>\n",
       "    </tr>\n",
       "  </thead>\n",
       "  <tbody>\n",
       "    <tr>\n",
       "      <th>0</th>\n",
       "      <td>Aruba</td>\n",
       "      <td>ABW</td>\n",
       "      <td>1.66325</td>\n",
       "      <td>NaN</td>\n",
       "      <td>NaN</td>\n",
       "      <td>NaN</td>\n",
       "      <td>48.721939</td>\n",
       "      <td>NaN</td>\n",
       "      <td>0.103744</td>\n",
       "    </tr>\n",
       "    <tr>\n",
       "      <th>1</th>\n",
       "      <td>Afghanistan</td>\n",
       "      <td>AFG</td>\n",
       "      <td>4.95450</td>\n",
       "      <td>19.961015</td>\n",
       "      <td>161.138034</td>\n",
       "      <td>2.834598</td>\n",
       "      <td>40.109708</td>\n",
       "      <td>444.00</td>\n",
       "      <td>32.715838</td>\n",
       "    </tr>\n",
       "    <tr>\n",
       "      <th>2</th>\n",
       "      <td>Angola</td>\n",
       "      <td>AGO</td>\n",
       "      <td>6.12300</td>\n",
       "      <td>111.936542</td>\n",
       "      <td>254.747970</td>\n",
       "      <td>2.447546</td>\n",
       "      <td>NaN</td>\n",
       "      <td>501.25</td>\n",
       "      <td>26.937545</td>\n",
       "    </tr>\n",
       "    <tr>\n",
       "      <th>3</th>\n",
       "      <td>Albania</td>\n",
       "      <td>ALB</td>\n",
       "      <td>1.76925</td>\n",
       "      <td>12.327586</td>\n",
       "      <td>574.202694</td>\n",
       "      <td>2.836021</td>\n",
       "      <td>47.201082</td>\n",
       "      <td>29.25</td>\n",
       "      <td>2.888280</td>\n",
       "    </tr>\n",
       "    <tr>\n",
       "      <th>4</th>\n",
       "      <td>Andorra</td>\n",
       "      <td>AND</td>\n",
       "      <td>NaN</td>\n",
       "      <td>3.197538</td>\n",
       "      <td>4421.224933</td>\n",
       "      <td>7.260281</td>\n",
       "      <td>47.123345</td>\n",
       "      <td>NaN</td>\n",
       "      <td>0.079547</td>\n",
       "    </tr>\n",
       "  </tbody>\n",
       "</table>\n",
       "</div>"
      ],
      "text/plain": [
       "  country_name country_code  fert_rate  gdp_us_billion  health_exp_per_cap  \\\n",
       "0        Aruba          ABW    1.66325             NaN                 NaN   \n",
       "1  Afghanistan          AFG    4.95450       19.961015          161.138034   \n",
       "2       Angola          AGO    6.12300      111.936542          254.747970   \n",
       "3      Albania          ALB    1.76925       12.327586          574.202694   \n",
       "4      Andorra          AND        NaN        3.197538         4421.224933   \n",
       "\n",
       "   health_exp_pub  prim_ed_girls  mat_mort_ratio  population  \n",
       "0             NaN      48.721939             NaN    0.103744  \n",
       "1        2.834598      40.109708          444.00   32.715838  \n",
       "2        2.447546            NaN          501.25   26.937545  \n",
       "3        2.836021      47.201082           29.25    2.888280  \n",
       "4        7.260281      47.123345             NaN    0.079547  "
      ]
     },
     "execution_count": 5,
     "metadata": {},
     "output_type": "execute_result"
    }
   ],
   "source": [
    "first_countries"
   ]
  },
  {
   "cell_type": "code",
   "execution_count": 6,
   "metadata": {},
   "outputs": [],
   "source": [
    "# pd.set_option('mode.chained_assignment','warn')"
   ]
  },
  {
   "cell_type": "code",
   "execution_count": 7,
   "metadata": {},
   "outputs": [
    {
     "data": {
      "text/plain": [
       "1    4.9545\n",
       "2    6.1230\n",
       "Name: fert_rate, dtype: float64"
      ]
     },
     "execution_count": 7,
     "metadata": {},
     "output_type": "execute_result"
    }
   ],
   "source": [
    "fert_fert_rate = first_countries.loc[fert_rate > 2, 'fert_rate']\n",
    "fert_fert_rate"
   ]
  },
  {
   "cell_type": "code",
   "execution_count": 8,
   "metadata": {},
   "outputs": [
    {
     "data": {
      "text/plain": [
       "1    199.000\n",
       "2      6.123\n",
       "Name: fert_rate, dtype: float64"
      ]
     },
     "execution_count": 8,
     "metadata": {},
     "output_type": "execute_result"
    }
   ],
   "source": [
    "fert_fert_rate.iloc[0] = 199\n",
    "fert_fert_rate"
   ]
  },
  {
   "cell_type": "code",
   "execution_count": 9,
   "metadata": {},
   "outputs": [
    {
     "data": {
      "text/html": [
       "<div>\n",
       "<style scoped>\n",
       "    .dataframe tbody tr th:only-of-type {\n",
       "        vertical-align: middle;\n",
       "    }\n",
       "\n",
       "    .dataframe tbody tr th {\n",
       "        vertical-align: top;\n",
       "    }\n",
       "\n",
       "    .dataframe thead th {\n",
       "        text-align: right;\n",
       "    }\n",
       "</style>\n",
       "<table border=\"1\" class=\"dataframe\">\n",
       "  <thead>\n",
       "    <tr style=\"text-align: right;\">\n",
       "      <th></th>\n",
       "      <th>country_name</th>\n",
       "      <th>country_code</th>\n",
       "      <th>fert_rate</th>\n",
       "      <th>gdp_us_billion</th>\n",
       "      <th>health_exp_per_cap</th>\n",
       "      <th>health_exp_pub</th>\n",
       "      <th>prim_ed_girls</th>\n",
       "      <th>mat_mort_ratio</th>\n",
       "      <th>population</th>\n",
       "    </tr>\n",
       "  </thead>\n",
       "  <tbody>\n",
       "    <tr>\n",
       "      <th>0</th>\n",
       "      <td>Aruba</td>\n",
       "      <td>ABW</td>\n",
       "      <td>1.66325</td>\n",
       "      <td>NaN</td>\n",
       "      <td>NaN</td>\n",
       "      <td>NaN</td>\n",
       "      <td>48.721939</td>\n",
       "      <td>NaN</td>\n",
       "      <td>0.103744</td>\n",
       "    </tr>\n",
       "    <tr>\n",
       "      <th>1</th>\n",
       "      <td>Afghanistan</td>\n",
       "      <td>AFG</td>\n",
       "      <td>4.95450</td>\n",
       "      <td>19.961015</td>\n",
       "      <td>161.138034</td>\n",
       "      <td>2.834598</td>\n",
       "      <td>40.109708</td>\n",
       "      <td>444.00</td>\n",
       "      <td>32.715838</td>\n",
       "    </tr>\n",
       "    <tr>\n",
       "      <th>2</th>\n",
       "      <td>Angola</td>\n",
       "      <td>AGO</td>\n",
       "      <td>6.12300</td>\n",
       "      <td>111.936542</td>\n",
       "      <td>254.747970</td>\n",
       "      <td>2.447546</td>\n",
       "      <td>NaN</td>\n",
       "      <td>501.25</td>\n",
       "      <td>26.937545</td>\n",
       "    </tr>\n",
       "    <tr>\n",
       "      <th>3</th>\n",
       "      <td>Albania</td>\n",
       "      <td>ALB</td>\n",
       "      <td>1.76925</td>\n",
       "      <td>12.327586</td>\n",
       "      <td>574.202694</td>\n",
       "      <td>2.836021</td>\n",
       "      <td>47.201082</td>\n",
       "      <td>29.25</td>\n",
       "      <td>2.888280</td>\n",
       "    </tr>\n",
       "    <tr>\n",
       "      <th>4</th>\n",
       "      <td>Andorra</td>\n",
       "      <td>AND</td>\n",
       "      <td>NaN</td>\n",
       "      <td>3.197538</td>\n",
       "      <td>4421.224933</td>\n",
       "      <td>7.260281</td>\n",
       "      <td>47.123345</td>\n",
       "      <td>NaN</td>\n",
       "      <td>0.079547</td>\n",
       "    </tr>\n",
       "  </tbody>\n",
       "</table>\n",
       "</div>"
      ],
      "text/plain": [
       "  country_name country_code  fert_rate  gdp_us_billion  health_exp_per_cap  \\\n",
       "0        Aruba          ABW    1.66325             NaN                 NaN   \n",
       "1  Afghanistan          AFG    4.95450       19.961015          161.138034   \n",
       "2       Angola          AGO    6.12300      111.936542          254.747970   \n",
       "3      Albania          ALB    1.76925       12.327586          574.202694   \n",
       "4      Andorra          AND        NaN        3.197538         4421.224933   \n",
       "\n",
       "   health_exp_pub  prim_ed_girls  mat_mort_ratio  population  \n",
       "0             NaN      48.721939             NaN    0.103744  \n",
       "1        2.834598      40.109708          444.00   32.715838  \n",
       "2        2.447546            NaN          501.25   26.937545  \n",
       "3        2.836021      47.201082           29.25    2.888280  \n",
       "4        7.260281      47.123345             NaN    0.079547  "
      ]
     },
     "execution_count": 9,
     "metadata": {},
     "output_type": "execute_result"
    }
   ],
   "source": [
    "first_countries"
   ]
  }
 ],
 "metadata": {
  "jupytext": {
   "split_at_heading": true
  },
  "kernelspec": {
   "display_name": "Python 3",
   "language": "python",
   "name": "python3"
  },
  "language_info": {
   "codemirror_mode": {
    "name": "ipython",
    "version": 3
   },
   "file_extension": ".py",
   "mimetype": "text/x-python",
   "name": "python",
   "nbconvert_exporter": "python",
   "pygments_lexer": "ipython3",
   "version": "3.7.6"
  }
 },
 "nbformat": 4,
 "nbformat_minor": 2
}
