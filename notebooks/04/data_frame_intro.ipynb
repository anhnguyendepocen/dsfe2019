{
 "cells": [
  {
   "cell_type": "markdown",
   "metadata": {},
   "source": [
    "# Introduction to data frames\n",
    "\n",
    "Start by loading the usual plotting libraries."
   ]
  },
  {
   "cell_type": "code",
   "execution_count": 1,
   "metadata": {},
   "outputs": [],
   "source": [
    "import numpy as np\n",
    "import matplotlib.pyplot as plt\n",
    "%matplotlib inline\n",
    "# Make plots look a little bit more fancy\n",
    "plt.style.use('fivethirtyeight')"
   ]
  },
  {
   "cell_type": "markdown",
   "metadata": {},
   "source": [
    "[Pandas](https://pandas.pydata.org) is a Python package that\n",
    "implements data frames, and functions that operate on data\n",
    "frames."
   ]
  },
  {
   "cell_type": "code",
   "execution_count": 2,
   "metadata": {
    "lines_to_next_cell": 2
   },
   "outputs": [],
   "source": [
    "import pandas as pd"
   ]
  },
  {
   "cell_type": "markdown",
   "metadata": {},
   "source": [
    "## Data frames and series\n",
    "\n",
    "We start by loading data from a Comma Separated Value file (CSV\n",
    "file).  If you are running on your laptop, you should download\n",
    "the [gender_stats.csv]({{ site.baseurl }}/data/gender_stats.csv)\n",
    "file to the same directory as this notebook."
   ]
  },
  {
   "cell_type": "code",
   "execution_count": 3,
   "metadata": {},
   "outputs": [],
   "source": [
    "# Load the data file\n",
    "gender_data = pd.read_csv('gender_stats.csv')"
   ]
  },
  {
   "cell_type": "markdown",
   "metadata": {},
   "source": [
    "This is our usual assignment statement. The LHS is `gender_data`, the variable name.  The RHS is an expression, that returns a value.\n",
    "\n",
    "What type of value does it return?"
   ]
  },
  {
   "cell_type": "code",
   "execution_count": 4,
   "metadata": {},
   "outputs": [
    {
     "data": {
      "text/plain": [
       "pandas.core.frame.DataFrame"
      ]
     },
     "execution_count": 4,
     "metadata": {},
     "output_type": "execute_result"
    }
   ],
   "source": [
    "type(gender_data)"
   ]
  },
  {
   "cell_type": "markdown",
   "metadata": {},
   "source": [
    "Pandas integrates with the Notebook, so, if you display a data\n",
    "frame in the notebook, it does a nice display of rows and\n",
    "columns."
   ]
  },
  {
   "cell_type": "code",
   "execution_count": 5,
   "metadata": {},
   "outputs": [
    {
     "data": {
      "text/html": [
       "<div>\n",
       "<style scoped>\n",
       "    .dataframe tbody tr th:only-of-type {\n",
       "        vertical-align: middle;\n",
       "    }\n",
       "\n",
       "    .dataframe tbody tr th {\n",
       "        vertical-align: top;\n",
       "    }\n",
       "\n",
       "    .dataframe thead th {\n",
       "        text-align: right;\n",
       "    }\n",
       "</style>\n",
       "<table border=\"1\" class=\"dataframe\">\n",
       "  <thead>\n",
       "    <tr style=\"text-align: right;\">\n",
       "      <th></th>\n",
       "      <th>country</th>\n",
       "      <th>fert_rate</th>\n",
       "      <th>gdp</th>\n",
       "      <th>health_exp_per_cap</th>\n",
       "      <th>health_exp_pub</th>\n",
       "      <th>prim_ed_girls</th>\n",
       "      <th>mat_mort_ratio</th>\n",
       "      <th>population</th>\n",
       "    </tr>\n",
       "  </thead>\n",
       "  <tbody>\n",
       "    <tr>\n",
       "      <th>0</th>\n",
       "      <td>Afghanistan</td>\n",
       "      <td>4.954500</td>\n",
       "      <td>1.996102e+10</td>\n",
       "      <td>161.138034</td>\n",
       "      <td>2.834598</td>\n",
       "      <td>40.109708</td>\n",
       "      <td>444.00</td>\n",
       "      <td>3.271584e+07</td>\n",
       "    </tr>\n",
       "    <tr>\n",
       "      <th>1</th>\n",
       "      <td>Albania</td>\n",
       "      <td>1.769250</td>\n",
       "      <td>1.232759e+10</td>\n",
       "      <td>574.202694</td>\n",
       "      <td>2.836021</td>\n",
       "      <td>47.201082</td>\n",
       "      <td>29.25</td>\n",
       "      <td>2.888280e+06</td>\n",
       "    </tr>\n",
       "    <tr>\n",
       "      <th>2</th>\n",
       "      <td>Algeria</td>\n",
       "      <td>2.866000</td>\n",
       "      <td>1.907346e+11</td>\n",
       "      <td>870.766508</td>\n",
       "      <td>4.984252</td>\n",
       "      <td>47.675617</td>\n",
       "      <td>142.50</td>\n",
       "      <td>3.909906e+07</td>\n",
       "    </tr>\n",
       "    <tr>\n",
       "      <th>3</th>\n",
       "      <td>American Samoa</td>\n",
       "      <td>NaN</td>\n",
       "      <td>6.405000e+08</td>\n",
       "      <td>NaN</td>\n",
       "      <td>NaN</td>\n",
       "      <td>NaN</td>\n",
       "      <td>NaN</td>\n",
       "      <td>5.542200e+04</td>\n",
       "    </tr>\n",
       "    <tr>\n",
       "      <th>4</th>\n",
       "      <td>Andorra</td>\n",
       "      <td>NaN</td>\n",
       "      <td>3.197538e+09</td>\n",
       "      <td>4421.224933</td>\n",
       "      <td>7.260281</td>\n",
       "      <td>47.123345</td>\n",
       "      <td>NaN</td>\n",
       "      <td>7.954740e+04</td>\n",
       "    </tr>\n",
       "    <tr>\n",
       "      <th>5</th>\n",
       "      <td>Angola</td>\n",
       "      <td>6.123000</td>\n",
       "      <td>1.119365e+11</td>\n",
       "      <td>254.747970</td>\n",
       "      <td>2.447546</td>\n",
       "      <td>NaN</td>\n",
       "      <td>501.25</td>\n",
       "      <td>2.693754e+07</td>\n",
       "    </tr>\n",
       "    <tr>\n",
       "      <th>6</th>\n",
       "      <td>Antigua and Barbuda</td>\n",
       "      <td>2.082000</td>\n",
       "      <td>1.298213e+09</td>\n",
       "      <td>1152.493656</td>\n",
       "      <td>3.676514</td>\n",
       "      <td>48.291463</td>\n",
       "      <td>NaN</td>\n",
       "      <td>9.887240e+04</td>\n",
       "    </tr>\n",
       "    <tr>\n",
       "      <th>7</th>\n",
       "      <td>Arab World</td>\n",
       "      <td>3.397587</td>\n",
       "      <td>2.709059e+12</td>\n",
       "      <td>761.401727</td>\n",
       "      <td>2.873840</td>\n",
       "      <td>47.119776</td>\n",
       "      <td>161.00</td>\n",
       "      <td>3.899620e+08</td>\n",
       "    </tr>\n",
       "    <tr>\n",
       "      <th>8</th>\n",
       "      <td>Argentina</td>\n",
       "      <td>2.328000</td>\n",
       "      <td>5.509810e+11</td>\n",
       "      <td>1148.256142</td>\n",
       "      <td>2.782216</td>\n",
       "      <td>48.915810</td>\n",
       "      <td>53.75</td>\n",
       "      <td>4.297667e+07</td>\n",
       "    </tr>\n",
       "    <tr>\n",
       "      <th>9</th>\n",
       "      <td>Armenia</td>\n",
       "      <td>1.545500</td>\n",
       "      <td>1.088536e+10</td>\n",
       "      <td>348.663884</td>\n",
       "      <td>1.916016</td>\n",
       "      <td>46.782180</td>\n",
       "      <td>27.25</td>\n",
       "      <td>2.904683e+06</td>\n",
       "    </tr>\n",
       "    <tr>\n",
       "      <th>10</th>\n",
       "      <td>Aruba</td>\n",
       "      <td>1.663250</td>\n",
       "      <td>NaN</td>\n",
       "      <td>NaN</td>\n",
       "      <td>NaN</td>\n",
       "      <td>48.721939</td>\n",
       "      <td>NaN</td>\n",
       "      <td>1.037444e+05</td>\n",
       "    </tr>\n",
       "    <tr>\n",
       "      <th>11</th>\n",
       "      <td>Australia</td>\n",
       "      <td>1.861500</td>\n",
       "      <td>1.422994e+12</td>\n",
       "      <td>4256.058988</td>\n",
       "      <td>6.292381</td>\n",
       "      <td>48.576707</td>\n",
       "      <td>6.00</td>\n",
       "      <td>2.344456e+07</td>\n",
       "    </tr>\n",
       "    <tr>\n",
       "      <th>12</th>\n",
       "      <td>Austria</td>\n",
       "      <td>1.455000</td>\n",
       "      <td>4.074943e+11</td>\n",
       "      <td>4930.298893</td>\n",
       "      <td>8.504276</td>\n",
       "      <td>48.556078</td>\n",
       "      <td>4.00</td>\n",
       "      <td>8.566294e+06</td>\n",
       "    </tr>\n",
       "    <tr>\n",
       "      <th>13</th>\n",
       "      <td>Azerbaijan</td>\n",
       "      <td>1.980000</td>\n",
       "      <td>6.200300e+10</td>\n",
       "      <td>956.709718</td>\n",
       "      <td>1.197249</td>\n",
       "      <td>46.157363</td>\n",
       "      <td>25.25</td>\n",
       "      <td>9.531856e+06</td>\n",
       "    </tr>\n",
       "    <tr>\n",
       "      <th>14</th>\n",
       "      <td>Bahamas, The</td>\n",
       "      <td>1.877250</td>\n",
       "      <td>8.688000e+09</td>\n",
       "      <td>1727.128385</td>\n",
       "      <td>3.308626</td>\n",
       "      <td>NaN</td>\n",
       "      <td>81.50</td>\n",
       "      <td>3.819036e+05</td>\n",
       "    </tr>\n",
       "    <tr>\n",
       "      <th>15</th>\n",
       "      <td>Bahrain</td>\n",
       "      <td>2.065250</td>\n",
       "      <td>3.200401e+10</td>\n",
       "      <td>2030.158316</td>\n",
       "      <td>2.976386</td>\n",
       "      <td>49.116838</td>\n",
       "      <td>15.25</td>\n",
       "      <td>1.349810e+06</td>\n",
       "    </tr>\n",
       "    <tr>\n",
       "      <th>16</th>\n",
       "      <td>Bangladesh</td>\n",
       "      <td>2.193250</td>\n",
       "      <td>1.745451e+11</td>\n",
       "      <td>85.968844</td>\n",
       "      <td>0.860447</td>\n",
       "      <td>50.460564</td>\n",
       "      <td>194.75</td>\n",
       "      <td>1.593712e+08</td>\n",
       "    </tr>\n",
       "    <tr>\n",
       "      <th>17</th>\n",
       "      <td>Barbados</td>\n",
       "      <td>1.792250</td>\n",
       "      <td>4.413080e+09</td>\n",
       "      <td>1062.840088</td>\n",
       "      <td>4.828680</td>\n",
       "      <td>48.878181</td>\n",
       "      <td>28.00</td>\n",
       "      <td>2.833384e+05</td>\n",
       "    </tr>\n",
       "    <tr>\n",
       "      <th>18</th>\n",
       "      <td>Belarus</td>\n",
       "      <td>1.677000</td>\n",
       "      <td>6.478294e+10</td>\n",
       "      <td>986.236757</td>\n",
       "      <td>3.876601</td>\n",
       "      <td>48.685741</td>\n",
       "      <td>4.00</td>\n",
       "      <td>9.480348e+06</td>\n",
       "    </tr>\n",
       "    <tr>\n",
       "      <th>19</th>\n",
       "      <td>Belgium</td>\n",
       "      <td>1.755000</td>\n",
       "      <td>4.942218e+11</td>\n",
       "      <td>4297.838005</td>\n",
       "      <td>8.221003</td>\n",
       "      <td>48.864675</td>\n",
       "      <td>7.00</td>\n",
       "      <td>1.122850e+07</td>\n",
       "    </tr>\n",
       "    <tr>\n",
       "      <th>20</th>\n",
       "      <td>Belize</td>\n",
       "      <td>2.594750</td>\n",
       "      <td>1.680325e+09</td>\n",
       "      <td>471.967465</td>\n",
       "      <td>3.744844</td>\n",
       "      <td>48.317238</td>\n",
       "      <td>29.25</td>\n",
       "      <td>3.517636e+05</td>\n",
       "    </tr>\n",
       "    <tr>\n",
       "      <th>21</th>\n",
       "      <td>Benin</td>\n",
       "      <td>4.806750</td>\n",
       "      <td>8.778151e+09</td>\n",
       "      <td>83.726190</td>\n",
       "      <td>2.206916</td>\n",
       "      <td>47.211127</td>\n",
       "      <td>417.50</td>\n",
       "      <td>1.029371e+07</td>\n",
       "    </tr>\n",
       "    <tr>\n",
       "      <th>22</th>\n",
       "      <td>Bermuda</td>\n",
       "      <td>1.617500</td>\n",
       "      <td>5.555624e+09</td>\n",
       "      <td>NaN</td>\n",
       "      <td>NaN</td>\n",
       "      <td>48.423588</td>\n",
       "      <td>NaN</td>\n",
       "      <td>6.510080e+04</td>\n",
       "    </tr>\n",
       "    <tr>\n",
       "      <th>23</th>\n",
       "      <td>Bhutan</td>\n",
       "      <td>2.061250</td>\n",
       "      <td>1.975145e+09</td>\n",
       "      <td>277.526670</td>\n",
       "      <td>2.706908</td>\n",
       "      <td>49.572296</td>\n",
       "      <td>161.75</td>\n",
       "      <td>7.759054e+05</td>\n",
       "    </tr>\n",
       "    <tr>\n",
       "      <th>24</th>\n",
       "      <td>Bolivia</td>\n",
       "      <td>2.995250</td>\n",
       "      <td>3.150932e+10</td>\n",
       "      <td>381.007594</td>\n",
       "      <td>4.192031</td>\n",
       "      <td>48.464175</td>\n",
       "      <td>218.25</td>\n",
       "      <td>1.056280e+07</td>\n",
       "    </tr>\n",
       "    <tr>\n",
       "      <th>25</th>\n",
       "      <td>Bosnia and Herzegovina</td>\n",
       "      <td>1.267000</td>\n",
       "      <td>1.732333e+10</td>\n",
       "      <td>941.504655</td>\n",
       "      <td>6.841021</td>\n",
       "      <td>48.634905</td>\n",
       "      <td>11.75</td>\n",
       "      <td>3.574396e+06</td>\n",
       "    </tr>\n",
       "    <tr>\n",
       "      <th>26</th>\n",
       "      <td>Botswana</td>\n",
       "      <td>2.845000</td>\n",
       "      <td>1.511339e+10</td>\n",
       "      <td>880.909202</td>\n",
       "      <td>3.552071</td>\n",
       "      <td>48.844009</td>\n",
       "      <td>138.75</td>\n",
       "      <td>2.169170e+06</td>\n",
       "    </tr>\n",
       "    <tr>\n",
       "      <th>27</th>\n",
       "      <td>Brazil</td>\n",
       "      <td>1.795250</td>\n",
       "      <td>2.198766e+12</td>\n",
       "      <td>1303.199104</td>\n",
       "      <td>3.773473</td>\n",
       "      <td>47.784577</td>\n",
       "      <td>49.50</td>\n",
       "      <td>2.041595e+08</td>\n",
       "    </tr>\n",
       "    <tr>\n",
       "      <th>28</th>\n",
       "      <td>British Virgin Islands</td>\n",
       "      <td>NaN</td>\n",
       "      <td>NaN</td>\n",
       "      <td>NaN</td>\n",
       "      <td>NaN</td>\n",
       "      <td>47.581520</td>\n",
       "      <td>NaN</td>\n",
       "      <td>2.958540e+04</td>\n",
       "    </tr>\n",
       "    <tr>\n",
       "      <th>29</th>\n",
       "      <td>Brunei Darussalam</td>\n",
       "      <td>1.884000</td>\n",
       "      <td>1.571922e+10</td>\n",
       "      <td>1795.924160</td>\n",
       "      <td>2.335194</td>\n",
       "      <td>48.523699</td>\n",
       "      <td>23.75</td>\n",
       "      <td>4.115812e+05</td>\n",
       "    </tr>\n",
       "    <tr>\n",
       "      <th>...</th>\n",
       "      <td>...</td>\n",
       "      <td>...</td>\n",
       "      <td>...</td>\n",
       "      <td>...</td>\n",
       "      <td>...</td>\n",
       "      <td>...</td>\n",
       "      <td>...</td>\n",
       "      <td>...</td>\n",
       "    </tr>\n",
       "    <tr>\n",
       "      <th>233</th>\n",
       "      <td>Syrian Arab Republic</td>\n",
       "      <td>2.967750</td>\n",
       "      <td>NaN</td>\n",
       "      <td>269.945739</td>\n",
       "      <td>1.507166</td>\n",
       "      <td>48.047394</td>\n",
       "      <td>62.00</td>\n",
       "      <td>1.931967e+07</td>\n",
       "    </tr>\n",
       "    <tr>\n",
       "      <th>234</th>\n",
       "      <td>Tajikistan</td>\n",
       "      <td>3.495750</td>\n",
       "      <td>8.036228e+09</td>\n",
       "      <td>169.745970</td>\n",
       "      <td>1.976367</td>\n",
       "      <td>48.260680</td>\n",
       "      <td>33.25</td>\n",
       "      <td>8.363844e+06</td>\n",
       "    </tr>\n",
       "    <tr>\n",
       "      <th>235</th>\n",
       "      <td>Tanzania</td>\n",
       "      <td>5.181250</td>\n",
       "      <td>4.493554e+10</td>\n",
       "      <td>131.704162</td>\n",
       "      <td>2.648609</td>\n",
       "      <td>50.666580</td>\n",
       "      <td>429.50</td>\n",
       "      <td>5.228132e+07</td>\n",
       "    </tr>\n",
       "    <tr>\n",
       "      <th>236</th>\n",
       "      <td>Thailand</td>\n",
       "      <td>1.516750</td>\n",
       "      <td>4.061369e+11</td>\n",
       "      <td>581.927487</td>\n",
       "      <td>3.183842</td>\n",
       "      <td>48.213034</td>\n",
       "      <td>21.00</td>\n",
       "      <td>6.838499e+07</td>\n",
       "    </tr>\n",
       "    <tr>\n",
       "      <th>237</th>\n",
       "      <td>Timor-Leste</td>\n",
       "      <td>5.797750</td>\n",
       "      <td>1.361430e+09</td>\n",
       "      <td>98.577296</td>\n",
       "      <td>1.140440</td>\n",
       "      <td>48.337367</td>\n",
       "      <td>240.25</td>\n",
       "      <td>1.212718e+06</td>\n",
       "    </tr>\n",
       "    <tr>\n",
       "      <th>238</th>\n",
       "      <td>Togo</td>\n",
       "      <td>4.620000</td>\n",
       "      <td>4.183610e+09</td>\n",
       "      <td>71.263825</td>\n",
       "      <td>2.037809</td>\n",
       "      <td>48.270471</td>\n",
       "      <td>380.75</td>\n",
       "      <td>7.230904e+06</td>\n",
       "    </tr>\n",
       "    <tr>\n",
       "      <th>239</th>\n",
       "      <td>Tonga</td>\n",
       "      <td>3.745750</td>\n",
       "      <td>4.391789e+08</td>\n",
       "      <td>250.962504</td>\n",
       "      <td>3.987285</td>\n",
       "      <td>47.697931</td>\n",
       "      <td>129.25</td>\n",
       "      <td>1.059094e+05</td>\n",
       "    </tr>\n",
       "    <tr>\n",
       "      <th>240</th>\n",
       "      <td>Trinidad and Tobago</td>\n",
       "      <td>1.782750</td>\n",
       "      <td>2.457095e+10</td>\n",
       "      <td>1778.148073</td>\n",
       "      <td>3.071370</td>\n",
       "      <td>NaN</td>\n",
       "      <td>63.25</td>\n",
       "      <td>1.353877e+06</td>\n",
       "    </tr>\n",
       "    <tr>\n",
       "      <th>241</th>\n",
       "      <td>Tunisia</td>\n",
       "      <td>2.140000</td>\n",
       "      <td>4.482437e+10</td>\n",
       "      <td>782.950522</td>\n",
       "      <td>4.118771</td>\n",
       "      <td>48.142132</td>\n",
       "      <td>63.25</td>\n",
       "      <td>1.114441e+07</td>\n",
       "    </tr>\n",
       "    <tr>\n",
       "      <th>242</th>\n",
       "      <td>Turkey</td>\n",
       "      <td>2.078000</td>\n",
       "      <td>8.951756e+11</td>\n",
       "      <td>997.374772</td>\n",
       "      <td>4.189521</td>\n",
       "      <td>48.789477</td>\n",
       "      <td>17.50</td>\n",
       "      <td>7.703435e+07</td>\n",
       "    </tr>\n",
       "    <tr>\n",
       "      <th>243</th>\n",
       "      <td>Turkmenistan</td>\n",
       "      <td>2.313750</td>\n",
       "      <td>3.797310e+10</td>\n",
       "      <td>288.572644</td>\n",
       "      <td>1.349303</td>\n",
       "      <td>48.906879</td>\n",
       "      <td>43.50</td>\n",
       "      <td>5.465637e+06</td>\n",
       "    </tr>\n",
       "    <tr>\n",
       "      <th>244</th>\n",
       "      <td>Turks and Caicos Islands</td>\n",
       "      <td>NaN</td>\n",
       "      <td>NaN</td>\n",
       "      <td>NaN</td>\n",
       "      <td>NaN</td>\n",
       "      <td>48.846884</td>\n",
       "      <td>NaN</td>\n",
       "      <td>3.370340e+04</td>\n",
       "    </tr>\n",
       "    <tr>\n",
       "      <th>245</th>\n",
       "      <td>Tuvalu</td>\n",
       "      <td>NaN</td>\n",
       "      <td>3.646999e+07</td>\n",
       "      <td>563.500592</td>\n",
       "      <td>15.506929</td>\n",
       "      <td>47.472414</td>\n",
       "      <td>NaN</td>\n",
       "      <td>1.091000e+04</td>\n",
       "    </tr>\n",
       "    <tr>\n",
       "      <th>246</th>\n",
       "      <td>Uganda</td>\n",
       "      <td>5.822500</td>\n",
       "      <td>2.594146e+10</td>\n",
       "      <td>132.892684</td>\n",
       "      <td>2.014349</td>\n",
       "      <td>50.099485</td>\n",
       "      <td>366.50</td>\n",
       "      <td>3.886534e+07</td>\n",
       "    </tr>\n",
       "    <tr>\n",
       "      <th>247</th>\n",
       "      <td>Ukraine</td>\n",
       "      <td>1.510250</td>\n",
       "      <td>1.353793e+11</td>\n",
       "      <td>628.579254</td>\n",
       "      <td>3.960185</td>\n",
       "      <td>48.984198</td>\n",
       "      <td>24.25</td>\n",
       "      <td>4.530270e+07</td>\n",
       "    </tr>\n",
       "    <tr>\n",
       "      <th>248</th>\n",
       "      <td>United Arab Emirates</td>\n",
       "      <td>1.793000</td>\n",
       "      <td>3.750271e+11</td>\n",
       "      <td>2202.407569</td>\n",
       "      <td>2.581168</td>\n",
       "      <td>48.789260</td>\n",
       "      <td>6.00</td>\n",
       "      <td>9.080299e+06</td>\n",
       "    </tr>\n",
       "    <tr>\n",
       "      <th>249</th>\n",
       "      <td>United Kingdom</td>\n",
       "      <td>1.842500</td>\n",
       "      <td>2.768864e+12</td>\n",
       "      <td>3357.983675</td>\n",
       "      <td>7.720655</td>\n",
       "      <td>48.791809</td>\n",
       "      <td>9.25</td>\n",
       "      <td>6.464156e+07</td>\n",
       "    </tr>\n",
       "    <tr>\n",
       "      <th>250</th>\n",
       "      <td>United States</td>\n",
       "      <td>1.860875</td>\n",
       "      <td>1.736912e+13</td>\n",
       "      <td>9060.068657</td>\n",
       "      <td>8.121961</td>\n",
       "      <td>48.758830</td>\n",
       "      <td>14.00</td>\n",
       "      <td>3.185582e+08</td>\n",
       "    </tr>\n",
       "    <tr>\n",
       "      <th>251</th>\n",
       "      <td>Upper middle income</td>\n",
       "      <td>1.795244</td>\n",
       "      <td>2.097441e+13</td>\n",
       "      <td>870.897512</td>\n",
       "      <td>3.358153</td>\n",
       "      <td>47.112001</td>\n",
       "      <td>43.25</td>\n",
       "      <td>2.540966e+09</td>\n",
       "    </tr>\n",
       "    <tr>\n",
       "      <th>252</th>\n",
       "      <td>Uruguay</td>\n",
       "      <td>2.027000</td>\n",
       "      <td>5.434513e+10</td>\n",
       "      <td>1721.507752</td>\n",
       "      <td>6.044403</td>\n",
       "      <td>48.295555</td>\n",
       "      <td>15.50</td>\n",
       "      <td>3.419977e+06</td>\n",
       "    </tr>\n",
       "    <tr>\n",
       "      <th>253</th>\n",
       "      <td>Uzbekistan</td>\n",
       "      <td>2.372750</td>\n",
       "      <td>6.134065e+10</td>\n",
       "      <td>334.476754</td>\n",
       "      <td>3.118842</td>\n",
       "      <td>48.387434</td>\n",
       "      <td>37.00</td>\n",
       "      <td>3.078450e+07</td>\n",
       "    </tr>\n",
       "    <tr>\n",
       "      <th>254</th>\n",
       "      <td>Vanuatu</td>\n",
       "      <td>3.364750</td>\n",
       "      <td>7.828760e+08</td>\n",
       "      <td>125.568712</td>\n",
       "      <td>3.689874</td>\n",
       "      <td>47.301617</td>\n",
       "      <td>82.50</td>\n",
       "      <td>2.588964e+05</td>\n",
       "    </tr>\n",
       "    <tr>\n",
       "      <th>255</th>\n",
       "      <td>Venezuela, RB</td>\n",
       "      <td>2.378250</td>\n",
       "      <td>3.761463e+11</td>\n",
       "      <td>896.815314</td>\n",
       "      <td>1.587088</td>\n",
       "      <td>48.400934</td>\n",
       "      <td>97.00</td>\n",
       "      <td>3.073452e+07</td>\n",
       "    </tr>\n",
       "    <tr>\n",
       "      <th>256</th>\n",
       "      <td>Vietnam</td>\n",
       "      <td>1.959500</td>\n",
       "      <td>1.818207e+11</td>\n",
       "      <td>368.374550</td>\n",
       "      <td>3.779501</td>\n",
       "      <td>48.021053</td>\n",
       "      <td>54.75</td>\n",
       "      <td>9.074240e+07</td>\n",
       "    </tr>\n",
       "    <tr>\n",
       "      <th>257</th>\n",
       "      <td>Virgin Islands (U.S.)</td>\n",
       "      <td>1.760000</td>\n",
       "      <td>3.812000e+09</td>\n",
       "      <td>NaN</td>\n",
       "      <td>NaN</td>\n",
       "      <td>NaN</td>\n",
       "      <td>NaN</td>\n",
       "      <td>1.041414e+05</td>\n",
       "    </tr>\n",
       "    <tr>\n",
       "      <th>258</th>\n",
       "      <td>West Bank and Gaza</td>\n",
       "      <td>4.208000</td>\n",
       "      <td>1.250822e+10</td>\n",
       "      <td>NaN</td>\n",
       "      <td>NaN</td>\n",
       "      <td>48.828520</td>\n",
       "      <td>47.50</td>\n",
       "      <td>4.296960e+06</td>\n",
       "    </tr>\n",
       "    <tr>\n",
       "      <th>259</th>\n",
       "      <td>World</td>\n",
       "      <td>2.464282</td>\n",
       "      <td>7.613006e+13</td>\n",
       "      <td>1223.941243</td>\n",
       "      <td>5.947058</td>\n",
       "      <td>48.076575</td>\n",
       "      <td>223.75</td>\n",
       "      <td>7.269321e+09</td>\n",
       "    </tr>\n",
       "    <tr>\n",
       "      <th>260</th>\n",
       "      <td>Yemen, Rep.</td>\n",
       "      <td>4.225750</td>\n",
       "      <td>3.681934e+10</td>\n",
       "      <td>207.949700</td>\n",
       "      <td>1.417836</td>\n",
       "      <td>44.470076</td>\n",
       "      <td>399.75</td>\n",
       "      <td>2.624661e+07</td>\n",
       "    </tr>\n",
       "    <tr>\n",
       "      <th>261</th>\n",
       "      <td>Zambia</td>\n",
       "      <td>5.394250</td>\n",
       "      <td>2.428099e+10</td>\n",
       "      <td>185.556359</td>\n",
       "      <td>2.687290</td>\n",
       "      <td>49.934484</td>\n",
       "      <td>233.75</td>\n",
       "      <td>1.563322e+07</td>\n",
       "    </tr>\n",
       "    <tr>\n",
       "      <th>262</th>\n",
       "      <td>Zimbabwe</td>\n",
       "      <td>3.943000</td>\n",
       "      <td>1.549551e+10</td>\n",
       "      <td>115.519881</td>\n",
       "      <td>2.695188</td>\n",
       "      <td>49.529875</td>\n",
       "      <td>398.00</td>\n",
       "      <td>1.542096e+07</td>\n",
       "    </tr>\n",
       "  </tbody>\n",
       "</table>\n",
       "<p>263 rows × 8 columns</p>\n",
       "</div>"
      ],
      "text/plain": [
       "                      country  fert_rate           gdp  health_exp_per_cap  \\\n",
       "0                 Afghanistan   4.954500  1.996102e+10          161.138034   \n",
       "1                     Albania   1.769250  1.232759e+10          574.202694   \n",
       "2                     Algeria   2.866000  1.907346e+11          870.766508   \n",
       "3              American Samoa        NaN  6.405000e+08                 NaN   \n",
       "4                     Andorra        NaN  3.197538e+09         4421.224933   \n",
       "5                      Angola   6.123000  1.119365e+11          254.747970   \n",
       "6         Antigua and Barbuda   2.082000  1.298213e+09         1152.493656   \n",
       "7                  Arab World   3.397587  2.709059e+12          761.401727   \n",
       "8                   Argentina   2.328000  5.509810e+11         1148.256142   \n",
       "9                     Armenia   1.545500  1.088536e+10          348.663884   \n",
       "10                      Aruba   1.663250           NaN                 NaN   \n",
       "11                  Australia   1.861500  1.422994e+12         4256.058988   \n",
       "12                    Austria   1.455000  4.074943e+11         4930.298893   \n",
       "13                 Azerbaijan   1.980000  6.200300e+10          956.709718   \n",
       "14               Bahamas, The   1.877250  8.688000e+09         1727.128385   \n",
       "15                    Bahrain   2.065250  3.200401e+10         2030.158316   \n",
       "16                 Bangladesh   2.193250  1.745451e+11           85.968844   \n",
       "17                   Barbados   1.792250  4.413080e+09         1062.840088   \n",
       "18                    Belarus   1.677000  6.478294e+10          986.236757   \n",
       "19                    Belgium   1.755000  4.942218e+11         4297.838005   \n",
       "20                     Belize   2.594750  1.680325e+09          471.967465   \n",
       "21                      Benin   4.806750  8.778151e+09           83.726190   \n",
       "22                    Bermuda   1.617500  5.555624e+09                 NaN   \n",
       "23                     Bhutan   2.061250  1.975145e+09          277.526670   \n",
       "24                    Bolivia   2.995250  3.150932e+10          381.007594   \n",
       "25     Bosnia and Herzegovina   1.267000  1.732333e+10          941.504655   \n",
       "26                   Botswana   2.845000  1.511339e+10          880.909202   \n",
       "27                     Brazil   1.795250  2.198766e+12         1303.199104   \n",
       "28     British Virgin Islands        NaN           NaN                 NaN   \n",
       "29          Brunei Darussalam   1.884000  1.571922e+10         1795.924160   \n",
       "..                        ...        ...           ...                 ...   \n",
       "233      Syrian Arab Republic   2.967750           NaN          269.945739   \n",
       "234                Tajikistan   3.495750  8.036228e+09          169.745970   \n",
       "235                  Tanzania   5.181250  4.493554e+10          131.704162   \n",
       "236                  Thailand   1.516750  4.061369e+11          581.927487   \n",
       "237               Timor-Leste   5.797750  1.361430e+09           98.577296   \n",
       "238                      Togo   4.620000  4.183610e+09           71.263825   \n",
       "239                     Tonga   3.745750  4.391789e+08          250.962504   \n",
       "240       Trinidad and Tobago   1.782750  2.457095e+10         1778.148073   \n",
       "241                   Tunisia   2.140000  4.482437e+10          782.950522   \n",
       "242                    Turkey   2.078000  8.951756e+11          997.374772   \n",
       "243              Turkmenistan   2.313750  3.797310e+10          288.572644   \n",
       "244  Turks and Caicos Islands        NaN           NaN                 NaN   \n",
       "245                    Tuvalu        NaN  3.646999e+07          563.500592   \n",
       "246                    Uganda   5.822500  2.594146e+10          132.892684   \n",
       "247                   Ukraine   1.510250  1.353793e+11          628.579254   \n",
       "248      United Arab Emirates   1.793000  3.750271e+11         2202.407569   \n",
       "249            United Kingdom   1.842500  2.768864e+12         3357.983675   \n",
       "250             United States   1.860875  1.736912e+13         9060.068657   \n",
       "251       Upper middle income   1.795244  2.097441e+13          870.897512   \n",
       "252                   Uruguay   2.027000  5.434513e+10         1721.507752   \n",
       "253                Uzbekistan   2.372750  6.134065e+10          334.476754   \n",
       "254                   Vanuatu   3.364750  7.828760e+08          125.568712   \n",
       "255             Venezuela, RB   2.378250  3.761463e+11          896.815314   \n",
       "256                   Vietnam   1.959500  1.818207e+11          368.374550   \n",
       "257     Virgin Islands (U.S.)   1.760000  3.812000e+09                 NaN   \n",
       "258        West Bank and Gaza   4.208000  1.250822e+10                 NaN   \n",
       "259                     World   2.464282  7.613006e+13         1223.941243   \n",
       "260               Yemen, Rep.   4.225750  3.681934e+10          207.949700   \n",
       "261                    Zambia   5.394250  2.428099e+10          185.556359   \n",
       "262                  Zimbabwe   3.943000  1.549551e+10          115.519881   \n",
       "\n",
       "     health_exp_pub  prim_ed_girls  mat_mort_ratio    population  \n",
       "0          2.834598      40.109708          444.00  3.271584e+07  \n",
       "1          2.836021      47.201082           29.25  2.888280e+06  \n",
       "2          4.984252      47.675617          142.50  3.909906e+07  \n",
       "3               NaN            NaN             NaN  5.542200e+04  \n",
       "4          7.260281      47.123345             NaN  7.954740e+04  \n",
       "5          2.447546            NaN          501.25  2.693754e+07  \n",
       "6          3.676514      48.291463             NaN  9.887240e+04  \n",
       "7          2.873840      47.119776          161.00  3.899620e+08  \n",
       "8          2.782216      48.915810           53.75  4.297667e+07  \n",
       "9          1.916016      46.782180           27.25  2.904683e+06  \n",
       "10              NaN      48.721939             NaN  1.037444e+05  \n",
       "11         6.292381      48.576707            6.00  2.344456e+07  \n",
       "12         8.504276      48.556078            4.00  8.566294e+06  \n",
       "13         1.197249      46.157363           25.25  9.531856e+06  \n",
       "14         3.308626            NaN           81.50  3.819036e+05  \n",
       "15         2.976386      49.116838           15.25  1.349810e+06  \n",
       "16         0.860447      50.460564          194.75  1.593712e+08  \n",
       "17         4.828680      48.878181           28.00  2.833384e+05  \n",
       "18         3.876601      48.685741            4.00  9.480348e+06  \n",
       "19         8.221003      48.864675            7.00  1.122850e+07  \n",
       "20         3.744844      48.317238           29.25  3.517636e+05  \n",
       "21         2.206916      47.211127          417.50  1.029371e+07  \n",
       "22              NaN      48.423588             NaN  6.510080e+04  \n",
       "23         2.706908      49.572296          161.75  7.759054e+05  \n",
       "24         4.192031      48.464175          218.25  1.056280e+07  \n",
       "25         6.841021      48.634905           11.75  3.574396e+06  \n",
       "26         3.552071      48.844009          138.75  2.169170e+06  \n",
       "27         3.773473      47.784577           49.50  2.041595e+08  \n",
       "28              NaN      47.581520             NaN  2.958540e+04  \n",
       "29         2.335194      48.523699           23.75  4.115812e+05  \n",
       "..              ...            ...             ...           ...  \n",
       "233        1.507166      48.047394           62.00  1.931967e+07  \n",
       "234        1.976367      48.260680           33.25  8.363844e+06  \n",
       "235        2.648609      50.666580          429.50  5.228132e+07  \n",
       "236        3.183842      48.213034           21.00  6.838499e+07  \n",
       "237        1.140440      48.337367          240.25  1.212718e+06  \n",
       "238        2.037809      48.270471          380.75  7.230904e+06  \n",
       "239        3.987285      47.697931          129.25  1.059094e+05  \n",
       "240        3.071370            NaN           63.25  1.353877e+06  \n",
       "241        4.118771      48.142132           63.25  1.114441e+07  \n",
       "242        4.189521      48.789477           17.50  7.703435e+07  \n",
       "243        1.349303      48.906879           43.50  5.465637e+06  \n",
       "244             NaN      48.846884             NaN  3.370340e+04  \n",
       "245       15.506929      47.472414             NaN  1.091000e+04  \n",
       "246        2.014349      50.099485          366.50  3.886534e+07  \n",
       "247        3.960185      48.984198           24.25  4.530270e+07  \n",
       "248        2.581168      48.789260            6.00  9.080299e+06  \n",
       "249        7.720655      48.791809            9.25  6.464156e+07  \n",
       "250        8.121961      48.758830           14.00  3.185582e+08  \n",
       "251        3.358153      47.112001           43.25  2.540966e+09  \n",
       "252        6.044403      48.295555           15.50  3.419977e+06  \n",
       "253        3.118842      48.387434           37.00  3.078450e+07  \n",
       "254        3.689874      47.301617           82.50  2.588964e+05  \n",
       "255        1.587088      48.400934           97.00  3.073452e+07  \n",
       "256        3.779501      48.021053           54.75  9.074240e+07  \n",
       "257             NaN            NaN             NaN  1.041414e+05  \n",
       "258             NaN      48.828520           47.50  4.296960e+06  \n",
       "259        5.947058      48.076575          223.75  7.269321e+09  \n",
       "260        1.417836      44.470076          399.75  2.624661e+07  \n",
       "261        2.687290      49.934484          233.75  1.563322e+07  \n",
       "262        2.695188      49.529875          398.00  1.542096e+07  \n",
       "\n",
       "[263 rows x 8 columns]"
      ]
     },
     "execution_count": 5,
     "metadata": {},
     "output_type": "execute_result"
    }
   ],
   "source": [
    "gender_data"
   ]
  },
  {
   "cell_type": "markdown",
   "metadata": {},
   "source": [
    "The data frame has rows and columns.  Like other Python objects, it has *attributes*.  These are pieces of data associated with the data frame.  You have already seen *methods*, which are functions associated with the data frame.  You can access attributes in the same way as you access methods, by typing the variable name, followed by a dot `.`, followed by the attribute name.\n",
    "\n",
    "For example, one attribute of the data frame, is the `shape`:"
   ]
  },
  {
   "cell_type": "code",
   "execution_count": 6,
   "metadata": {},
   "outputs": [
    {
     "data": {
      "text/plain": [
       "(263, 8)"
      ]
     },
     "execution_count": 6,
     "metadata": {},
     "output_type": "execute_result"
    }
   ],
   "source": [
    "gender_data.shape"
   ]
  },
  {
   "cell_type": "markdown",
   "metadata": {},
   "source": [
    "Another attribute is `columns`.  This has the column names. For\n",
    "example, here is a good way of quickly seeing the column names\n",
    "for a data frame:"
   ]
  },
  {
   "cell_type": "code",
   "execution_count": 7,
   "metadata": {},
   "outputs": [
    {
     "data": {
      "text/plain": [
       "Index(['country', 'fert_rate', 'gdp', 'health_exp_per_cap', 'health_exp_pub',\n",
       "       'prim_ed_girls', 'mat_mort_ratio', 'population'],\n",
       "      dtype='object')"
      ]
     },
     "execution_count": 7,
     "metadata": {},
     "output_type": "execute_result"
    }
   ],
   "source": [
    "gender_data.columns"
   ]
  },
  {
   "cell_type": "markdown",
   "metadata": {},
   "source": [
    "You need more information about what these column names refer to.  Here are the longer descriptions from the original data source (link above):\n",
    "\n",
    "* `fert_rate`: Fertility rate, total (births per woman).\n",
    "* `gdp`: GDP (current US\\$).\n",
    "* `health_exp_per_cap`: Health expenditure per capita, PPP (constant 2011 international \\$).\n",
    "* `health_exp_pub`: Health expenditure, public (% of GDP).\n",
    "* `prim_ed_girls`: Primary education, pupils (% female).\n",
    "* `mat_mort_ratio`: Maternal mortality ratio (modeled estimate, per 100,000 live births).\n",
    "* `population`: Population, total.\n",
    "\n",
    "You have just seen array slicing (in [Selecting with\n",
    "arrays](../03/array_indexing).  You remember that array slicing\n",
    "uses square brackets.   Data frames also allow slicing.  For\n",
    "example, we often want to get all the data for a single column\n",
    "of the data frame.  To do this, we use the same square bracket\n",
    "notation as we use for array slicing, with the name of the\n",
    "column inside the square brackets."
   ]
  },
  {
   "cell_type": "code",
   "execution_count": 8,
   "metadata": {},
   "outputs": [],
   "source": [
    "gdp = gender_data['gdp']"
   ]
  },
  {
   "cell_type": "markdown",
   "metadata": {},
   "source": [
    "What `type` of thing is this column of data?"
   ]
  },
  {
   "cell_type": "code",
   "execution_count": 9,
   "metadata": {},
   "outputs": [
    {
     "data": {
      "text/plain": [
       "pandas.core.series.Series"
      ]
     },
     "execution_count": 9,
     "metadata": {},
     "output_type": "execute_result"
    }
   ],
   "source": [
    "type(gdp)"
   ]
  },
  {
   "cell_type": "markdown",
   "metadata": {},
   "source": [
    "Here are the values for `gdp`.  You will notice that these are\n",
    "the same values you saw in the \"gdp\" column when you displayed\n",
    "the whole data frame."
   ]
  },
  {
   "cell_type": "code",
   "execution_count": 10,
   "metadata": {},
   "outputs": [
    {
     "data": {
      "text/plain": [
       "0      1.996102e+10\n",
       "1      1.232759e+10\n",
       "2      1.907346e+11\n",
       "3      6.405000e+08\n",
       "4      3.197538e+09\n",
       "5      1.119365e+11\n",
       "6      1.298213e+09\n",
       "7      2.709059e+12\n",
       "8      5.509810e+11\n",
       "9      1.088536e+10\n",
       "10              NaN\n",
       "11     1.422994e+12\n",
       "12     4.074943e+11\n",
       "13     6.200300e+10\n",
       "14     8.688000e+09\n",
       "15     3.200401e+10\n",
       "16     1.745451e+11\n",
       "17     4.413080e+09\n",
       "18     6.478294e+10\n",
       "19     4.942218e+11\n",
       "20     1.680325e+09\n",
       "21     8.778151e+09\n",
       "22     5.555624e+09\n",
       "23     1.975145e+09\n",
       "24     3.150932e+10\n",
       "25     1.732333e+10\n",
       "26     1.511339e+10\n",
       "27     2.198766e+12\n",
       "28              NaN\n",
       "29     1.571922e+10\n",
       "           ...     \n",
       "233             NaN\n",
       "234    8.036228e+09\n",
       "235    4.493554e+10\n",
       "236    4.061369e+11\n",
       "237    1.361430e+09\n",
       "238    4.183610e+09\n",
       "239    4.391789e+08\n",
       "240    2.457095e+10\n",
       "241    4.482437e+10\n",
       "242    8.951756e+11\n",
       "243    3.797310e+10\n",
       "244             NaN\n",
       "245    3.646999e+07\n",
       "246    2.594146e+10\n",
       "247    1.353793e+11\n",
       "248    3.750271e+11\n",
       "249    2.768864e+12\n",
       "250    1.736912e+13\n",
       "251    2.097441e+13\n",
       "252    5.434513e+10\n",
       "253    6.134065e+10\n",
       "254    7.828760e+08\n",
       "255    3.761463e+11\n",
       "256    1.818207e+11\n",
       "257    3.812000e+09\n",
       "258    1.250822e+10\n",
       "259    7.613006e+13\n",
       "260    3.681934e+10\n",
       "261    2.428099e+10\n",
       "262    1.549551e+10\n",
       "Name: gdp, Length: 263, dtype: float64"
      ]
     },
     "execution_count": 10,
     "metadata": {},
     "output_type": "execute_result"
    }
   ],
   "source": [
    "gdp"
   ]
  },
  {
   "cell_type": "markdown",
   "metadata": {},
   "source": [
    "What are these values like `6.405000e+08`?  These are numbers,\n",
    "in [scientific\n",
    "notation](https://en.wikipedia.org/wiki/Scientific_notation).\n",
    "Scientific notation is a compact way of writing very large or\n",
    "very small numbers.  The value after `e` above is the\n",
    "*exponent*, in this case `08`.  The number above means $6.405\n",
    "* $10^8$. For example, here is $2 * 10^7$:"
   ]
  },
  {
   "cell_type": "code",
   "execution_count": 11,
   "metadata": {
    "lines_to_next_cell": 2
   },
   "outputs": [
    {
     "data": {
      "text/plain": [
       "20000000.0"
      ]
     },
     "execution_count": 11,
     "metadata": {},
     "output_type": "execute_result"
    }
   ],
   "source": [
    "2e7"
   ]
  },
  {
   "cell_type": "markdown",
   "metadata": {},
   "source": [
    "## Missing values and `NaN`\n",
    "\n",
    "Looking at the values of `gdp` (and therefore, the values of the\n",
    "`gdp` column of `gender_data`, we see that some of the values\n",
    "are `NaN`, which means Not a Number.  Pandas uses this marker to\n",
    "indicate values that are not available, or *missing data*.\n",
    "\n",
    "Numpy does not like to calculate with `NaN` values.  Here is Numpy trying to calculate the median of the `gdp` values."
   ]
  },
  {
   "cell_type": "code",
   "execution_count": 12,
   "metadata": {},
   "outputs": [
    {
     "name": "stderr",
     "output_type": "stream",
     "text": [
      "/Users/mb312/Library/Python/3.7/lib/python/site-packages/numpy/lib/function_base.py:3250: RuntimeWarning: Invalid value encountered in median\n",
      "  r = func(a, **kwargs)\n"
     ]
    },
    {
     "data": {
      "text/plain": [
       "nan"
      ]
     },
     "execution_count": 12,
     "metadata": {},
     "output_type": "execute_result"
    }
   ],
   "source": [
    "np.median(gdp)"
   ]
  },
  {
   "cell_type": "markdown",
   "metadata": {},
   "source": [
    "Notice the warning about an invalid value.\n",
    "\n",
    "Numpy recognizes that one or more values are `NaN` and refuses to guess what to do, when calculating the median.\n",
    "\n",
    "You saw from the shape above that `gender_data` has 263 rows.  We can use the general Python `len` function, to see how many elements there are in `gdp`."
   ]
  },
  {
   "cell_type": "code",
   "execution_count": 13,
   "metadata": {},
   "outputs": [
    {
     "data": {
      "text/plain": [
       "263"
      ]
     },
     "execution_count": 13,
     "metadata": {},
     "output_type": "execute_result"
    }
   ],
   "source": [
    "len(gdp)"
   ]
  },
  {
   "cell_type": "markdown",
   "metadata": {},
   "source": [
    "As expected, it has the same number of elements as there are rows in `gender_data`.\n",
    "\n",
    "The `count` method of the series gives the number of values that are not missing - that is - not `NaN`."
   ]
  },
  {
   "cell_type": "code",
   "execution_count": 14,
   "metadata": {
    "lines_to_next_cell": 2
   },
   "outputs": [
    {
     "data": {
      "text/plain": [
       "246"
      ]
     },
     "execution_count": 14,
     "metadata": {},
     "output_type": "execute_result"
    }
   ],
   "source": [
    "gdp.count()"
   ]
  },
  {
   "cell_type": "markdown",
   "metadata": {},
   "source": [
    "## Plotting with methods\n",
    "\n",
    "The `gdp` variable is a sequence of values, so we can do a histogram on these values, as we have done histograms on arrays."
   ]
  },
  {
   "cell_type": "code",
   "execution_count": 15,
   "metadata": {},
   "outputs": [
    {
     "name": "stderr",
     "output_type": "stream",
     "text": [
      "/Users/mb312/Library/Python/3.7/lib/python/site-packages/numpy/lib/histograms.py:754: RuntimeWarning: invalid value encountered in greater_equal\n",
      "  keep = (tmp_a >= first_edge)\n",
      "/Users/mb312/Library/Python/3.7/lib/python/site-packages/numpy/lib/histograms.py:755: RuntimeWarning: invalid value encountered in less_equal\n",
      "  keep &= (tmp_a <= last_edge)\n"
     ]
    },
    {
     "data": {
      "text/plain": [
       "(array([226.,   5.,   7.,   4.,   0.,   1.,   2.,   0.,   0.,   1.]),\n",
       " array([3.64699913e+07, 7.61303919e+12, 1.52260419e+13, 2.28390446e+13,\n",
       "        3.04520473e+13, 3.80650500e+13, 4.56780528e+13, 5.32910555e+13,\n",
       "        6.09040582e+13, 6.85170609e+13, 7.61300636e+13]),\n",
       " <a list of 10 Patch objects>)"
      ]
     },
     "execution_count": 15,
     "metadata": {},
     "output_type": "execute_result"
    },
    {
     "data": {
      "image/png": "[encoded data removed]",
      "text/plain": [
       "<Figure size 432x288 with 1 Axes>"
      ]
     },
     "metadata": {
      "needs_background": "light"
     },
     "output_type": "display_data"
    }
   ],
   "source": [
    "plt.hist(gdp)"
   ]
  },
  {
   "cell_type": "markdown",
   "metadata": {},
   "source": [
    "Notice the multiple warnings as Matplotlib tried to calculate the bin widths for the histogram.  These are from the `NaN` values.\n",
    "\n",
    "Another way to do the histogram, is to use the `hist` method of the series.  Using the method can make the code a bit easier to read, and the method does discard the `NaN` values, by default, so it does not generate the same warnings."
   ]
  },
  {
   "cell_type": "code",
   "execution_count": 16,
   "metadata": {},
   "outputs": [
    {
     "data": {
      "text/plain": [
       "<matplotlib.axes._subplots.AxesSubplot at 0x1184a1048>"
      ]
     },
     "execution_count": 16,
     "metadata": {},
     "output_type": "execute_result"
    },
    {
     "data": {
      "image/png": "[encoded data removed]",
      "text/plain": [
       "<Figure size 432x288 with 1 Axes>"
      ]
     },
     "metadata": {
      "needs_background": "light"
     },
     "output_type": "display_data"
    }
   ],
   "source": [
    "gdp.hist()"
   ]
  },
  {
   "cell_type": "markdown",
   "metadata": {},
   "source": [
    "Now we have had a look at the GDP values, we will look at the\n",
    "values for the `mat_mort_ratio` column.  These are the numbers\n",
    "of women who die in childbirth for every 100,000 births."
   ]
  },
  {
   "cell_type": "code",
   "execution_count": 17,
   "metadata": {},
   "outputs": [
    {
     "data": {
      "text/plain": [
       "0      444.00\n",
       "1       29.25\n",
       "2      142.50\n",
       "3         NaN\n",
       "4         NaN\n",
       "5      501.25\n",
       "6         NaN\n",
       "7      161.00\n",
       "8       53.75\n",
       "9       27.25\n",
       "10        NaN\n",
       "11       6.00\n",
       "12       4.00\n",
       "13      25.25\n",
       "14      81.50\n",
       "15      15.25\n",
       "16     194.75\n",
       "17      28.00\n",
       "18       4.00\n",
       "19       7.00\n",
       "20      29.25\n",
       "21     417.50\n",
       "22        NaN\n",
       "23     161.75\n",
       "24     218.25\n",
       "25      11.75\n",
       "26     138.75\n",
       "27      49.50\n",
       "28        NaN\n",
       "29      23.75\n",
       "        ...  \n",
       "233     62.00\n",
       "234     33.25\n",
       "235    429.50\n",
       "236     21.00\n",
       "237    240.25\n",
       "238    380.75\n",
       "239    129.25\n",
       "240     63.25\n",
       "241     63.25\n",
       "242     17.50\n",
       "243     43.50\n",
       "244       NaN\n",
       "245       NaN\n",
       "246    366.50\n",
       "247     24.25\n",
       "248      6.00\n",
       "249      9.25\n",
       "250     14.00\n",
       "251     43.25\n",
       "252     15.50\n",
       "253     37.00\n",
       "254     82.50\n",
       "255     97.00\n",
       "256     54.75\n",
       "257       NaN\n",
       "258     47.50\n",
       "259    223.75\n",
       "260    399.75\n",
       "261    233.75\n",
       "262    398.00\n",
       "Name: mat_mort_ratio, Length: 263, dtype: float64"
      ]
     },
     "execution_count": 17,
     "metadata": {},
     "output_type": "execute_result"
    }
   ],
   "source": [
    "mmr = gender_data['mat_mort_ratio']\n",
    "mmr"
   ]
  },
  {
   "cell_type": "code",
   "execution_count": 18,
   "metadata": {},
   "outputs": [
    {
     "data": {
      "text/plain": [
       "<matplotlib.axes._subplots.AxesSubplot at 0x11a7a9be0>"
      ]
     },
     "execution_count": 18,
     "metadata": {},
     "output_type": "execute_result"
    },
    {
     "data": {
      "image/png": "[encoded data removed]",
      "text/plain": [
       "<Figure size 432x288 with 1 Axes>"
      ]
     },
     "metadata": {
      "needs_background": "light"
     },
     "output_type": "display_data"
    }
   ],
   "source": [
    "mmr.hist()"
   ]
  },
  {
   "cell_type": "markdown",
   "metadata": {},
   "source": [
    "We are interested in the relationship of `gpp` and `mmr`.  Maybe richer countries have better health care, and fewer maternal deaths.\n",
    "\n",
    "Here is a plot, using the standard Matplotlib `scatter`\n",
    "function."
   ]
  },
  {
   "cell_type": "code",
   "execution_count": 19,
   "metadata": {},
   "outputs": [
    {
     "data": {
      "text/plain": [
       "<matplotlib.collections.PathCollection at 0x11a8e79e8>"
      ]
     },
     "execution_count": 19,
     "metadata": {},
     "output_type": "execute_result"
    },
    {
     "data": {
      "image/png": "[encoded data removed]",
      "text/plain": [
       "<Figure size 432x288 with 1 Axes>"
      ]
     },
     "metadata": {
      "needs_background": "light"
     },
     "output_type": "display_data"
    }
   ],
   "source": [
    "plt.scatter(gdp, mmr)"
   ]
  },
  {
   "cell_type": "markdown",
   "metadata": {},
   "source": [
    "We can do the same plot using the `plot.scatter` method on the data frame.  In that case, we specify the column names that should go on the x and the y axes."
   ]
  },
  {
   "cell_type": "code",
   "execution_count": 20,
   "metadata": {},
   "outputs": [
    {
     "data": {
      "text/plain": [
       "<matplotlib.axes._subplots.AxesSubplot at 0x11a873748>"
      ]
     },
     "execution_count": 20,
     "metadata": {},
     "output_type": "execute_result"
    },
    {
     "data": {
      "image/png": "[encoded data removed]",
      "text/plain": [
       "<Figure size 432x288 with 1 Axes>"
      ]
     },
     "metadata": {
      "needs_background": "light"
     },
     "output_type": "display_data"
    }
   ],
   "source": [
    "gender_data.plot.scatter('gdp', 'mat_mort_ratio')"
   ]
  },
  {
   "cell_type": "markdown",
   "metadata": {},
   "source": [
    "One advantage of doing it this way is that we get the column names on the x and y axes by default.\n",
    "\n",
    "We often want to select rows from the data frame.\n",
    "\n",
    "Say we want to select the rows corresponding the countries with a high GDP.\n",
    "\n",
    "Looking at the histogram of `gdp` above, we could try this as a threshold to identify high GDP countries."
   ]
  },
  {
   "cell_type": "code",
   "execution_count": 21,
   "metadata": {},
   "outputs": [
    {
     "data": {
      "text/plain": [
       "0      False\n",
       "1      False\n",
       "2      False\n",
       "3      False\n",
       "4      False\n",
       "5      False\n",
       "6      False\n",
       "7      False\n",
       "8      False\n",
       "9      False\n",
       "10     False\n",
       "11     False\n",
       "12     False\n",
       "13     False\n",
       "14     False\n",
       "15     False\n",
       "16     False\n",
       "17     False\n",
       "18     False\n",
       "19     False\n",
       "20     False\n",
       "21     False\n",
       "22     False\n",
       "23     False\n",
       "24     False\n",
       "25     False\n",
       "26     False\n",
       "27     False\n",
       "28     False\n",
       "29     False\n",
       "       ...  \n",
       "233    False\n",
       "234    False\n",
       "235    False\n",
       "236    False\n",
       "237    False\n",
       "238    False\n",
       "239    False\n",
       "240    False\n",
       "241    False\n",
       "242    False\n",
       "243    False\n",
       "244    False\n",
       "245    False\n",
       "246    False\n",
       "247    False\n",
       "248    False\n",
       "249    False\n",
       "250     True\n",
       "251     True\n",
       "252    False\n",
       "253    False\n",
       "254    False\n",
       "255    False\n",
       "256    False\n",
       "257    False\n",
       "258    False\n",
       "259     True\n",
       "260    False\n",
       "261    False\n",
       "262    False\n",
       "Name: gdp, Length: 263, dtype: bool"
      ]
     },
     "execution_count": 21,
     "metadata": {},
     "output_type": "execute_result"
    }
   ],
   "source": [
    "high_gdp = gdp > 1e13\n",
    "high_gdp"
   ]
  },
  {
   "cell_type": "code",
   "execution_count": 22,
   "metadata": {},
   "outputs": [
    {
     "data": {
      "text/plain": [
       "pandas.core.series.Series"
      ]
     },
     "execution_count": 22,
     "metadata": {},
     "output_type": "execute_result"
    }
   ],
   "source": [
    "type(high_gdp)"
   ]
  },
  {
   "cell_type": "markdown",
   "metadata": {},
   "source": [
    "Notice that `high_gdp` is a Boolean series, like the Boolean arrays you have already seen.  It has `True` for elements corresponding to countries with `gdp` value greater than `1e13` and `False` otherwise.\n",
    "\n",
    "We can use this Boolean series to select rows from the data frame.  The `loc` attribute of the data frame allows us to *locate* values in the data frame.  For our Boolean series, it works like this:"
   ]
  },
  {
   "cell_type": "code",
   "execution_count": 23,
   "metadata": {},
   "outputs": [
    {
     "data": {
      "text/html": [
       "<div>\n",
       "<style scoped>\n",
       "    .dataframe tbody tr th:only-of-type {\n",
       "        vertical-align: middle;\n",
       "    }\n",
       "\n",
       "    .dataframe tbody tr th {\n",
       "        vertical-align: top;\n",
       "    }\n",
       "\n",
       "    .dataframe thead th {\n",
       "        text-align: right;\n",
       "    }\n",
       "</style>\n",
       "<table border=\"1\" class=\"dataframe\">\n",
       "  <thead>\n",
       "    <tr style=\"text-align: right;\">\n",
       "      <th></th>\n",
       "      <th>country</th>\n",
       "      <th>fert_rate</th>\n",
       "      <th>gdp</th>\n",
       "      <th>health_exp_per_cap</th>\n",
       "      <th>health_exp_pub</th>\n",
       "      <th>prim_ed_girls</th>\n",
       "      <th>mat_mort_ratio</th>\n",
       "      <th>population</th>\n",
       "    </tr>\n",
       "  </thead>\n",
       "  <tbody>\n",
       "    <tr>\n",
       "      <th>44</th>\n",
       "      <td>China</td>\n",
       "      <td>1.558750</td>\n",
       "      <td>1.018279e+13</td>\n",
       "      <td>657.748859</td>\n",
       "      <td>3.015530</td>\n",
       "      <td>46.297964</td>\n",
       "      <td>28.75</td>\n",
       "      <td>1.364446e+09</td>\n",
       "    </tr>\n",
       "    <tr>\n",
       "      <th>60</th>\n",
       "      <td>Early-demographic dividend</td>\n",
       "      <td>2.636376</td>\n",
       "      <td>1.019283e+13</td>\n",
       "      <td>392.428268</td>\n",
       "      <td>2.595967</td>\n",
       "      <td>48.651143</td>\n",
       "      <td>169.00</td>\n",
       "      <td>3.083697e+09</td>\n",
       "    </tr>\n",
       "    <tr>\n",
       "      <th>61</th>\n",
       "      <td>East Asia &amp; Pacific</td>\n",
       "      <td>1.781424</td>\n",
       "      <td>2.168128e+13</td>\n",
       "      <td>835.974259</td>\n",
       "      <td>4.687596</td>\n",
       "      <td>47.212490</td>\n",
       "      <td>63.00</td>\n",
       "      <td>2.265974e+09</td>\n",
       "    </tr>\n",
       "    <tr>\n",
       "      <th>62</th>\n",
       "      <td>East Asia &amp; Pacific (IDA &amp; IBRD)</td>\n",
       "      <td>1.811850</td>\n",
       "      <td>1.239991e+13</td>\n",
       "      <td>558.711100</td>\n",
       "      <td>2.815573</td>\n",
       "      <td>47.098031</td>\n",
       "      <td>66.75</td>\n",
       "      <td>1.996942e+09</td>\n",
       "    </tr>\n",
       "    <tr>\n",
       "      <th>63</th>\n",
       "      <td>East Asia &amp; Pacific (excluding high income)</td>\n",
       "      <td>1.813950</td>\n",
       "      <td>1.242383e+13</td>\n",
       "      <td>558.702327</td>\n",
       "      <td>2.815498</td>\n",
       "      <td>47.115173</td>\n",
       "      <td>66.75</td>\n",
       "      <td>2.022090e+09</td>\n",
       "    </tr>\n",
       "    <tr>\n",
       "      <th>71</th>\n",
       "      <td>Euro area</td>\n",
       "      <td>1.551004</td>\n",
       "      <td>1.255692e+13</td>\n",
       "      <td>3913.466364</td>\n",
       "      <td>7.956080</td>\n",
       "      <td>48.610030</td>\n",
       "      <td>6.50</td>\n",
       "      <td>3.384615e+08</td>\n",
       "    </tr>\n",
       "    <tr>\n",
       "      <th>72</th>\n",
       "      <td>Europe &amp; Central Asia</td>\n",
       "      <td>1.738094</td>\n",
       "      <td>2.191519e+13</td>\n",
       "      <td>2518.566323</td>\n",
       "      <td>7.130694</td>\n",
       "      <td>48.653599</td>\n",
       "      <td>16.75</td>\n",
       "      <td>9.032073e+08</td>\n",
       "    </tr>\n",
       "    <tr>\n",
       "      <th>75</th>\n",
       "      <td>European Union</td>\n",
       "      <td>1.570012</td>\n",
       "      <td>1.731910e+13</td>\n",
       "      <td>3448.910224</td>\n",
       "      <td>7.816628</td>\n",
       "      <td>48.658777</td>\n",
       "      <td>8.00</td>\n",
       "      <td>5.082110e+08</td>\n",
       "    </tr>\n",
       "    <tr>\n",
       "      <th>98</th>\n",
       "      <td>High income</td>\n",
       "      <td>1.686585</td>\n",
       "      <td>4.884635e+13</td>\n",
       "      <td>5045.885008</td>\n",
       "      <td>7.602022</td>\n",
       "      <td>48.701030</td>\n",
       "      <td>10.00</td>\n",
       "      <td>1.175934e+09</td>\n",
       "    </tr>\n",
       "    <tr>\n",
       "      <th>102</th>\n",
       "      <td>IBRD only</td>\n",
       "      <td>2.103185</td>\n",
       "      <td>2.607726e+13</td>\n",
       "      <td>625.357428</td>\n",
       "      <td>3.104682</td>\n",
       "      <td>48.026892</td>\n",
       "      <td>106.25</td>\n",
       "      <td>4.607548e+09</td>\n",
       "    </tr>\n",
       "    <tr>\n",
       "      <th>103</th>\n",
       "      <td>IDA &amp; IBRD total</td>\n",
       "      <td>2.587557</td>\n",
       "      <td>2.803020e+13</td>\n",
       "      <td>507.044258</td>\n",
       "      <td>3.013687</td>\n",
       "      <td>47.896337</td>\n",
       "      <td>244.75</td>\n",
       "      <td>6.113147e+09</td>\n",
       "    </tr>\n",
       "    <tr>\n",
       "      <th>128</th>\n",
       "      <td>Late-demographic dividend</td>\n",
       "      <td>1.667820</td>\n",
       "      <td>1.862014e+13</td>\n",
       "      <td>838.259199</td>\n",
       "      <td>3.335746</td>\n",
       "      <td>47.046383</td>\n",
       "      <td>36.00</td>\n",
       "      <td>2.235352e+09</td>\n",
       "    </tr>\n",
       "    <tr>\n",
       "      <th>140</th>\n",
       "      <td>Low &amp; middle income</td>\n",
       "      <td>2.595258</td>\n",
       "      <td>2.724634e+13</td>\n",
       "      <td>498.193061</td>\n",
       "      <td>2.982075</td>\n",
       "      <td>NaN</td>\n",
       "      <td>245.25</td>\n",
       "      <td>6.089148e+09</td>\n",
       "    </tr>\n",
       "    <tr>\n",
       "      <th>160</th>\n",
       "      <td>Middle income</td>\n",
       "      <td>2.361746</td>\n",
       "      <td>2.691014e+13</td>\n",
       "      <td>542.340940</td>\n",
       "      <td>2.996480</td>\n",
       "      <td>48.044140</td>\n",
       "      <td>185.75</td>\n",
       "      <td>5.468296e+09</td>\n",
       "    </tr>\n",
       "    <tr>\n",
       "      <th>177</th>\n",
       "      <td>North America</td>\n",
       "      <td>1.834404</td>\n",
       "      <td>1.908336e+13</td>\n",
       "      <td>8615.535450</td>\n",
       "      <td>8.066182</td>\n",
       "      <td>48.708683</td>\n",
       "      <td>13.50</td>\n",
       "      <td>3.541404e+08</td>\n",
       "    </tr>\n",
       "    <tr>\n",
       "      <th>180</th>\n",
       "      <td>OECD members</td>\n",
       "      <td>1.749418</td>\n",
       "      <td>4.787743e+13</td>\n",
       "      <td>4566.959377</td>\n",
       "      <td>7.636198</td>\n",
       "      <td>48.704364</td>\n",
       "      <td>15.00</td>\n",
       "      <td>1.273149e+09</td>\n",
       "    </tr>\n",
       "    <tr>\n",
       "      <th>193</th>\n",
       "      <td>Post-demographic dividend</td>\n",
       "      <td>1.636470</td>\n",
       "      <td>4.541806e+13</td>\n",
       "      <td>5124.214162</td>\n",
       "      <td>7.858170</td>\n",
       "      <td>48.649863</td>\n",
       "      <td>10.75</td>\n",
       "      <td>1.092637e+09</td>\n",
       "    </tr>\n",
       "    <tr>\n",
       "      <th>250</th>\n",
       "      <td>United States</td>\n",
       "      <td>1.860875</td>\n",
       "      <td>1.736912e+13</td>\n",
       "      <td>9060.068657</td>\n",
       "      <td>8.121961</td>\n",
       "      <td>48.758830</td>\n",
       "      <td>14.00</td>\n",
       "      <td>3.185582e+08</td>\n",
       "    </tr>\n",
       "    <tr>\n",
       "      <th>251</th>\n",
       "      <td>Upper middle income</td>\n",
       "      <td>1.795244</td>\n",
       "      <td>2.097441e+13</td>\n",
       "      <td>870.897512</td>\n",
       "      <td>3.358153</td>\n",
       "      <td>47.112001</td>\n",
       "      <td>43.25</td>\n",
       "      <td>2.540966e+09</td>\n",
       "    </tr>\n",
       "    <tr>\n",
       "      <th>259</th>\n",
       "      <td>World</td>\n",
       "      <td>2.464282</td>\n",
       "      <td>7.613006e+13</td>\n",
       "      <td>1223.941243</td>\n",
       "      <td>5.947058</td>\n",
       "      <td>48.076575</td>\n",
       "      <td>223.75</td>\n",
       "      <td>7.269321e+09</td>\n",
       "    </tr>\n",
       "  </tbody>\n",
       "</table>\n",
       "</div>"
      ],
      "text/plain": [
       "                                         country  fert_rate           gdp  \\\n",
       "44                                         China   1.558750  1.018279e+13   \n",
       "60                    Early-demographic dividend   2.636376  1.019283e+13   \n",
       "61                           East Asia & Pacific   1.781424  2.168128e+13   \n",
       "62              East Asia & Pacific (IDA & IBRD)   1.811850  1.239991e+13   \n",
       "63   East Asia & Pacific (excluding high income)   1.813950  1.242383e+13   \n",
       "71                                     Euro area   1.551004  1.255692e+13   \n",
       "72                         Europe & Central Asia   1.738094  2.191519e+13   \n",
       "75                                European Union   1.570012  1.731910e+13   \n",
       "98                                   High income   1.686585  4.884635e+13   \n",
       "102                                    IBRD only   2.103185  2.607726e+13   \n",
       "103                             IDA & IBRD total   2.587557  2.803020e+13   \n",
       "128                    Late-demographic dividend   1.667820  1.862014e+13   \n",
       "140                          Low & middle income   2.595258  2.724634e+13   \n",
       "160                                Middle income   2.361746  2.691014e+13   \n",
       "177                                North America   1.834404  1.908336e+13   \n",
       "180                                 OECD members   1.749418  4.787743e+13   \n",
       "193                    Post-demographic dividend   1.636470  4.541806e+13   \n",
       "250                                United States   1.860875  1.736912e+13   \n",
       "251                          Upper middle income   1.795244  2.097441e+13   \n",
       "259                                        World   2.464282  7.613006e+13   \n",
       "\n",
       "     health_exp_per_cap  health_exp_pub  prim_ed_girls  mat_mort_ratio  \\\n",
       "44           657.748859        3.015530      46.297964           28.75   \n",
       "60           392.428268        2.595967      48.651143          169.00   \n",
       "61           835.974259        4.687596      47.212490           63.00   \n",
       "62           558.711100        2.815573      47.098031           66.75   \n",
       "63           558.702327        2.815498      47.115173           66.75   \n",
       "71          3913.466364        7.956080      48.610030            6.50   \n",
       "72          2518.566323        7.130694      48.653599           16.75   \n",
       "75          3448.910224        7.816628      48.658777            8.00   \n",
       "98          5045.885008        7.602022      48.701030           10.00   \n",
       "102          625.357428        3.104682      48.026892          106.25   \n",
       "103          507.044258        3.013687      47.896337          244.75   \n",
       "128          838.259199        3.335746      47.046383           36.00   \n",
       "140          498.193061        2.982075            NaN          245.25   \n",
       "160          542.340940        2.996480      48.044140          185.75   \n",
       "177         8615.535450        8.066182      48.708683           13.50   \n",
       "180         4566.959377        7.636198      48.704364           15.00   \n",
       "193         5124.214162        7.858170      48.649863           10.75   \n",
       "250         9060.068657        8.121961      48.758830           14.00   \n",
       "251          870.897512        3.358153      47.112001           43.25   \n",
       "259         1223.941243        5.947058      48.076575          223.75   \n",
       "\n",
       "       population  \n",
       "44   1.364446e+09  \n",
       "60   3.083697e+09  \n",
       "61   2.265974e+09  \n",
       "62   1.996942e+09  \n",
       "63   2.022090e+09  \n",
       "71   3.384615e+08  \n",
       "72   9.032073e+08  \n",
       "75   5.082110e+08  \n",
       "98   1.175934e+09  \n",
       "102  4.607548e+09  \n",
       "103  6.113147e+09  \n",
       "128  2.235352e+09  \n",
       "140  6.089148e+09  \n",
       "160  5.468296e+09  \n",
       "177  3.541404e+08  \n",
       "180  1.273149e+09  \n",
       "193  1.092637e+09  \n",
       "250  3.185582e+08  \n",
       "251  2.540966e+09  \n",
       "259  7.269321e+09  "
      ]
     },
     "execution_count": 23,
     "metadata": {},
     "output_type": "execute_result"
    }
   ],
   "source": [
    "rich_gender_data = gender_data.loc[high_gdp]\n",
    "rich_gender_data"
   ]
  },
  {
   "cell_type": "code",
   "execution_count": 24,
   "metadata": {},
   "outputs": [
    {
     "data": {
      "text/plain": [
       "pandas.core.frame.DataFrame"
      ]
     },
     "execution_count": 24,
     "metadata": {},
     "output_type": "execute_result"
    }
   ],
   "source": [
    "type(rich_gender_data)"
   ]
  },
  {
   "cell_type": "markdown",
   "metadata": {},
   "source": [
    "`rich_gender_data` is a new data frame, that is a subset of the\n",
    "original `gender_data` frame.  It contains only the rows where\n",
    "the GDP value is greater than `1e13` dollars.  Check the display\n",
    "of `rich_gender_data` above to confirm that the values in the\n",
    "`gdp` column are all greater than `1e13`.\n",
    "\n",
    "We can do a scatter plot of GDP values against maternal\n",
    "mortality rate, and we find, oddly, that for rich countries,\n",
    "there is little relationship between GDP and maternal mortality."
   ]
  },
  {
   "cell_type": "code",
   "execution_count": 25,
   "metadata": {},
   "outputs": [
    {
     "data": {
      "text/plain": [
       "<matplotlib.axes._subplots.AxesSubplot at 0x1181a36a0>"
      ]
     },
     "execution_count": 25,
     "metadata": {},
     "output_type": "execute_result"
    },
    {
     "data": {
      "image/png": "[encoded data removed]",
      "text/plain": [
       "<Figure size 432x288 with 1 Axes>"
      ]
     },
     "metadata": {
      "needs_background": "light"
     },
     "output_type": "display_data"
    }
   ],
   "source": [
    "rich_gender_data.plot.scatter('gdp', 'mat_mort_ratio')"
   ]
  }
 ],
 "metadata": {
  "jupytext": {
   "text_representation": {
    "extension": ".Rmd",
    "format_name": "rmarkdown",
    "format_version": "1.0",
    "jupytext_version": "0.8.5"
   }
  },
  "kernelspec": {
   "display_name": "Python 3",
   "language": "python",
   "name": "python3"
  },
  "language_info": {
   "codemirror_mode": {
    "name": "ipython",
    "version": 3
   },
   "file_extension": ".py",
   "mimetype": "text/x-python",
   "name": "python",
   "nbconvert_exporter": "python",
   "pygments_lexer": "ipython3",
   "version": "3.7.1"
  }
 },
 "nbformat": 4,
 "nbformat_minor": 2
}
