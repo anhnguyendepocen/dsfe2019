{
 "cells": [
  {
   "cell_type": "markdown",
   "metadata": {},
   "source": [
    "In [finding slopes](finding_slopes), we found the line the did the best job of predicting one vector of values from another vector of values.\n",
    "\n",
    "Our line was a slope and an intercept.  We used it to predict the Overall\n",
    "Quality scores (`quality`) for courses, from the Easiness scores (`easiness`).\n",
    "\n",
    "We chose the line to minimize the average prediction errors, and the sum of squared prediction errors.\n",
    "\n",
    "Now we may have another question.  Can we believe the slope?   Put more\n",
    "formally, is it possible that there is in fact no underlying positive or\n",
    "negative slope relating  Easiness and Quality, and the slope that we found\n",
    "arose because of *sampling error*.  That is, there was some random fluctuation\n",
    "in the data, from course to course, and just by chance, the random fluctuation\n",
    "resulted in the slope we observe.\n",
    "\n",
    "This is a very similar problem to the problem of comparing means between two groups.  Like that problem, we can get at our question using a permutation test."
   ]
  },
  {
   "cell_type": "code",
   "execution_count": 1,
   "metadata": {},
   "outputs": [],
   "source": [
    "import numpy as np\n",
    "import matplotlib.pyplot as plt\n",
    "%matplotlib inline\n",
    "# Make plots look a little bit more fancy\n",
    "plt.style.use('fivethirtyeight')\n",
    "# Print to 4 decimal places, show tiny values as 0\n",
    "np.set_printoptions(precision=4, suppress=True)\n",
    "import pandas as pd"
   ]
  },
  {
   "cell_type": "markdown",
   "metadata": {},
   "source": [
    "If you are running on your laptop, you will need to download the\n",
    "[disciplines_SI.xlsx]({{ site.baseurl }}/data/disciplines_SI.xlsx) file to the\n",
    "same directory as this notebook.\n",
    "\n",
    "We read the data and get the columns:"
   ]
  },
  {
   "cell_type": "code",
   "execution_count": 2,
   "metadata": {},
   "outputs": [],
   "source": [
    "# Read the Excel format data file\n",
    "ratings = pd.read_excel('disciplines_SI.xlsx')\n",
    "# Convert Easiness and Overall Quality measures to arrays.\n",
    "easiness = np.array(ratings['Easiness'])\n",
    "quality = np.array(ratings['Overall Quality'])"
   ]
  },
  {
   "cell_type": "markdown",
   "metadata": {},
   "source": [
    "The function we want to minimize:"
   ]
  },
  {
   "cell_type": "code",
   "execution_count": 3,
   "metadata": {},
   "outputs": [],
   "source": [
    "def sos_error_c_s(c_s):\n",
    "    # inter_slope has two elements, the intercept c and the slope s.\n",
    "    c = c_s[0]\n",
    "    s = c_s[1]\n",
    "    predicted = c + easiness * s\n",
    "    error = quality - predicted\n",
    "    return np.sum(error ** 2)"
   ]
  },
  {
   "cell_type": "markdown",
   "metadata": {},
   "source": [
    "Find the best intercept and slope:"
   ]
  },
  {
   "cell_type": "code",
   "execution_count": 4,
   "metadata": {},
   "outputs": [
    {
     "data": {
      "text/plain": [
       "0.5088633619994262"
      ]
     },
     "execution_count": 4,
     "metadata": {},
     "output_type": "execute_result"
    }
   ],
   "source": [
    "from scipy.optimize import minimize\n",
    "observed_result = minimize(sos_error_c_s, [2.25, 0.47])\n",
    "observed_slope = observed_result.x[1]\n",
    "observed_slope"
   ]
  },
  {
   "cell_type": "markdown",
   "metadata": {},
   "source": [
    "This is what we see, in the data we have."
   ]
  },
  {
   "cell_type": "markdown",
   "metadata": {},
   "source": [
    "What would we see, if we took another random sample of Easiness and Quality values?  We can't easily do this.  Is there a way we can estimate what this would look like?"
   ]
  },
  {
   "cell_type": "markdown",
   "metadata": {},
   "source": [
    "We return to the permutation trick we used in [Brexit ages](../05/brexit_ages).\n",
    "If there is, in fact, no relationship between Quality and Easiness, then the\n",
    "slope, suggesting an association of Quality and Easiness, is just a result of\n",
    "random sampling.\n",
    "\n",
    "We can simulate that random sampling by making a new, fake (Easiness, Quality) pairing.  We do this by shuffling the Quality (or Easiness) values, to make the relationship between them random.\n",
    "\n",
    "Then we check what slope we get.\n",
    "\n",
    "We keep doing this, and keep checking the slope, to build up the *sampling distribution* for the slope.\n",
    "\n",
    "Then we compare our actual slope to the sampling distribution.  If the actual slope is not a rare value from the sampling distribution, the slope may have come about because of random sampling.  If it is a rare value, random sampling is an unlikely explanation."
   ]
  },
  {
   "cell_type": "code",
   "execution_count": 5,
   "metadata": {},
   "outputs": [],
   "source": [
    "# Store the original Quality values\n",
    "actual_quality = quality.copy()"
   ]
  },
  {
   "cell_type": "markdown",
   "metadata": {},
   "source": [
    "Now shuffle the Quality values, to make a fake and random pairing between the Easiness and Quality values."
   ]
  },
  {
   "cell_type": "code",
   "execution_count": 6,
   "metadata": {},
   "outputs": [],
   "source": [
    "# Make a fake pairing of Easiness and Quality, by shuffling Quality\n",
    "np.random.shuffle(quality)"
   ]
  },
  {
   "cell_type": "markdown",
   "metadata": {},
   "source": [
    "Use `minimize` to estimate the best-fit slope for this new fake pairing:"
   ]
  },
  {
   "cell_type": "code",
   "execution_count": 7,
   "metadata": {},
   "outputs": [
    {
     "data": {
      "text/plain": [
       "array([ 4.2022, -0.1464])"
      ]
     },
     "execution_count": 7,
     "metadata": {},
     "output_type": "execute_result"
    }
   ],
   "source": [
    "# Estimate the slope for the fake pairing\n",
    "fake_result = minimize(sos_error_c_s, [2.25, 0.47])\n",
    "fake_result.x"
   ]
  },
  {
   "cell_type": "markdown",
   "metadata": {},
   "source": [
    "Get the slope, as our first estimate from the sampling distribution:"
   ]
  },
  {
   "cell_type": "code",
   "execution_count": 8,
   "metadata": {},
   "outputs": [
    {
     "data": {
      "text/plain": [
       "-0.1463750363989178"
      ]
     },
     "execution_count": 8,
     "metadata": {},
     "output_type": "execute_result"
    }
   ],
   "source": [
    "fake_slope = fake_result.x[1]\n",
    "fake_slope"
   ]
  },
  {
   "cell_type": "markdown",
   "metadata": {},
   "source": [
    "We need to do this many times to build up a good estimate of the sampling distribution:"
   ]
  },
  {
   "cell_type": "code",
   "execution_count": 9,
   "metadata": {},
   "outputs": [],
   "source": [
    "n_samples = 10000\n",
    "fake_slopes = np.zeros(n_samples)\n",
    "for i in np.arange(n_samples):\n",
    "    np.random.shuffle(quality)\n",
    "    fake_slope = minimize(sos_error_c_s, [2.25, 0.47]).x[1]\n",
    "    fake_slopes[i] = fake_slope"
   ]
  },
  {
   "cell_type": "markdown",
   "metadata": {},
   "source": [
    "As usual, we display the sampling distribution:"
   ]
  },
  {
   "cell_type": "code",
   "execution_count": 10,
   "metadata": {},
   "outputs": [
    {
     "data": {
      "text/plain": [
       "Text(0.5, 1.0, 'Sampling distribution for slope')"
      ]
     },
     "execution_count": 10,
     "metadata": {},
     "output_type": "execute_result"
    },
    {
     "data": {
      "image/png": "[encoded data removed]",
      "text/plain": [
       "<Figure size 432x288 with 1 Axes>"
      ]
     },
     "metadata": {
      "needs_background": "light"
     },
     "output_type": "display_data"
    }
   ],
   "source": [
    "plt.hist(fake_slopes)\n",
    "plt.xlabel('Fake slope values')\n",
    "plt.title('Sampling distribution for slope')"
   ]
  },
  {
   "cell_type": "markdown",
   "metadata": {},
   "source": [
    "We find the proportion of the sampling distribution that is greater than or\n",
    "equal to the value we saw:"
   ]
  },
  {
   "cell_type": "code",
   "execution_count": 11,
   "metadata": {},
   "outputs": [
    {
     "data": {
      "text/plain": [
       "0.0"
      ]
     },
     "execution_count": 11,
     "metadata": {},
     "output_type": "execute_result"
    }
   ],
   "source": [
    "p = np.count_nonzero(fake_slopes >= observed_slope) / n_samples\n",
    "p"
   ]
  },
  {
   "cell_type": "markdown",
   "metadata": {},
   "source": [
    "The observed slope is very unlikely, given the sampling distribution.  We conclude that the observed slope is unlikely to be the result of random sampling."
   ]
  }
 ],
 "metadata": {
  "jupytext": {
   "notebook_metadata_filter": "all,-language_info"
  },
  "kernelspec": {
   "display_name": "Python 3",
   "language": "python",
   "name": "python3"
  },
  "language_info": {
   "codemirror_mode": {
    "name": "ipython",
    "version": 3
   },
   "file_extension": ".py",
   "mimetype": "text/x-python",
   "name": "python",
   "nbconvert_exporter": "python",
   "pygments_lexer": "ipython3",
   "version": "3.7.1"
  }
 },
 "nbformat": 4,
 "nbformat_minor": 2
}
