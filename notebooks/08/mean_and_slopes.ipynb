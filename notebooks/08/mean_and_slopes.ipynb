{
 "cells": [
  {
   "cell_type": "markdown",
   "metadata": {},
   "source": [
    "In [The Mean as Predictor](mean_meaning), we found that the mean had some good\n",
    "properties as a single best predictor for a whole distribution.\n",
    "\n",
    "* The mean gives a total prediction error of zero.  Put otherwise, on\n",
    "  average, your prediction error is zero.\n",
    "* The mean gives the lowest squared error.  Put otherwise, the mean\n",
    "  gives the lowest average squared difference from the observed value.\n",
    "\n",
    "Now we can consider what predictor we should use when predicting one set of values, from a different set of values.\n",
    "\n",
    "We load our usual libraries."
   ]
  },
  {
   "cell_type": "code",
   "execution_count": 1,
   "metadata": {},
   "outputs": [],
   "source": [
    "import numpy as np\n",
    "import matplotlib.pyplot as plt\n",
    "%matplotlib inline\n",
    "# Make plots look a little bit more fancy\n",
    "plt.style.use('fivethirtyeight')\n",
    "# Print to 2 decimal places, show tiny values as 0\n",
    "np.set_printoptions(precision=2, suppress=True)\n",
    "import pandas as pd"
   ]
  },
  {
   "cell_type": "markdown",
   "metadata": {},
   "source": [
    "Again, we use the [gender statistics](../../data/gender_data); you can download this file from this link: [gender_data.csv](../../data/gender_data.csv)."
   ]
  },
  {
   "cell_type": "code",
   "execution_count": 2,
   "metadata": {},
   "outputs": [],
   "source": [
    "# Load the data file\n",
    "gender_data = pd.read_csv('gender_stats.csv')"
   ]
  },
  {
   "cell_type": "markdown",
   "metadata": {},
   "source": [
    "We have already seen the data for the Maternal Mortality Ratio\n",
    "`mat_mort_ratio`.   Now we will look to see whether we can predict the Maternal\n",
    "Mortality Ratio (MMR) with the Fertility Rate.  The Fertility Rate (FR) is the\n",
    "total number of births per woman.  We predict that countries with many births\n",
    "per woman will also tend to have high Maternal Mortality Ratios. Fertility Rate\n",
    "is `fert_rate` in the `gender_data` data frame."
   ]
  },
  {
   "cell_type": "code",
   "execution_count": 3,
   "metadata": {},
   "outputs": [
    {
     "data": {
      "text/plain": [
       "Index(['country_name', 'country_code', 'fert_rate', 'gdp_us_billion',\n",
       "       'health_exp_per_cap', 'health_exp_pub', 'prim_ed_girls',\n",
       "       'mat_mort_ratio', 'population'],\n",
       "      dtype='object')"
      ]
     },
     "execution_count": 3,
     "metadata": {},
     "output_type": "execute_result"
    }
   ],
   "source": [
    "# Show the column names\n",
    "gender_data.columns"
   ]
  },
  {
   "cell_type": "markdown",
   "metadata": {},
   "source": [
    "To start, we make a new data frame that contains only the columns corresponding\n",
    "to MMR and FR.  To get two columns out of a data frame, we pass `.loc` a list\n",
    "of column names:"
   ]
  },
  {
   "cell_type": "code",
   "execution_count": 4,
   "metadata": {},
   "outputs": [],
   "source": [
    "# Make new data frame with only MMR and FR\n",
    "just_mmr_fr = gender_data.loc[:, ['mat_mort_ratio', 'fert_rate']]"
   ]
  },
  {
   "cell_type": "markdown",
   "metadata": {},
   "source": [
    "To save space, we only show the first five rows of the data frame, using the `head` method of the data frame."
   ]
  },
  {
   "cell_type": "code",
   "execution_count": 5,
   "metadata": {},
   "outputs": [
    {
     "data": {
      "text/html": [
       "<div>\n",
       "<style scoped>\n",
       "    .dataframe tbody tr th:only-of-type {\n",
       "        vertical-align: middle;\n",
       "    }\n",
       "\n",
       "    .dataframe tbody tr th {\n",
       "        vertical-align: top;\n",
       "    }\n",
       "\n",
       "    .dataframe thead th {\n",
       "        text-align: right;\n",
       "    }\n",
       "</style>\n",
       "<table border=\"1\" class=\"dataframe\">\n",
       "  <thead>\n",
       "    <tr style=\"text-align: right;\">\n",
       "      <th></th>\n",
       "      <th>mat_mort_ratio</th>\n",
       "      <th>fert_rate</th>\n",
       "    </tr>\n",
       "  </thead>\n",
       "  <tbody>\n",
       "    <tr>\n",
       "      <th>0</th>\n",
       "      <td>NaN</td>\n",
       "      <td>1.66325</td>\n",
       "    </tr>\n",
       "    <tr>\n",
       "      <th>1</th>\n",
       "      <td>444.00</td>\n",
       "      <td>4.95450</td>\n",
       "    </tr>\n",
       "    <tr>\n",
       "      <th>2</th>\n",
       "      <td>501.25</td>\n",
       "      <td>6.12300</td>\n",
       "    </tr>\n",
       "    <tr>\n",
       "      <th>3</th>\n",
       "      <td>29.25</td>\n",
       "      <td>1.76925</td>\n",
       "    </tr>\n",
       "    <tr>\n",
       "      <th>4</th>\n",
       "      <td>NaN</td>\n",
       "      <td>NaN</td>\n",
       "    </tr>\n",
       "  </tbody>\n",
       "</table>\n",
       "</div>"
      ],
      "text/plain": [
       "   mat_mort_ratio  fert_rate\n",
       "0             NaN    1.66325\n",
       "1          444.00    4.95450\n",
       "2          501.25    6.12300\n",
       "3           29.25    1.76925\n",
       "4             NaN        NaN"
      ]
     },
     "execution_count": 5,
     "metadata": {},
     "output_type": "execute_result"
    }
   ],
   "source": [
    "# Show the first five rows\n",
    "just_mmr_fr.head()"
   ]
  },
  {
   "cell_type": "markdown",
   "metadata": {},
   "source": [
    "Looking at these values, we see that there are missing values: `NaN`.  These will make our life harder.  For now, we drop all rows that have any missing values, using the `dropna` method of the data frame."
   ]
  },
  {
   "cell_type": "code",
   "execution_count": 6,
   "metadata": {},
   "outputs": [
    {
     "data": {
      "text/html": [
       "<div>\n",
       "<style scoped>\n",
       "    .dataframe tbody tr th:only-of-type {\n",
       "        vertical-align: middle;\n",
       "    }\n",
       "\n",
       "    .dataframe tbody tr th {\n",
       "        vertical-align: top;\n",
       "    }\n",
       "\n",
       "    .dataframe thead th {\n",
       "        text-align: right;\n",
       "    }\n",
       "</style>\n",
       "<table border=\"1\" class=\"dataframe\">\n",
       "  <thead>\n",
       "    <tr style=\"text-align: right;\">\n",
       "      <th></th>\n",
       "      <th>mat_mort_ratio</th>\n",
       "      <th>fert_rate</th>\n",
       "    </tr>\n",
       "  </thead>\n",
       "  <tbody>\n",
       "    <tr>\n",
       "      <th>1</th>\n",
       "      <td>444.00</td>\n",
       "      <td>4.95450</td>\n",
       "    </tr>\n",
       "    <tr>\n",
       "      <th>2</th>\n",
       "      <td>501.25</td>\n",
       "      <td>6.12300</td>\n",
       "    </tr>\n",
       "    <tr>\n",
       "      <th>3</th>\n",
       "      <td>29.25</td>\n",
       "      <td>1.76925</td>\n",
       "    </tr>\n",
       "    <tr>\n",
       "      <th>5</th>\n",
       "      <td>6.00</td>\n",
       "      <td>1.79300</td>\n",
       "    </tr>\n",
       "    <tr>\n",
       "      <th>6</th>\n",
       "      <td>53.75</td>\n",
       "      <td>2.32800</td>\n",
       "    </tr>\n",
       "  </tbody>\n",
       "</table>\n",
       "</div>"
      ],
      "text/plain": [
       "   mat_mort_ratio  fert_rate\n",
       "1          444.00    4.95450\n",
       "2          501.25    6.12300\n",
       "3           29.25    1.76925\n",
       "5            6.00    1.79300\n",
       "6           53.75    2.32800"
      ]
     },
     "execution_count": 6,
     "metadata": {},
     "output_type": "execute_result"
    }
   ],
   "source": [
    "# Drop all rows with any NaN values\n",
    "clean_mmr_fr = just_mmr_fr.dropna()\n",
    "clean_mmr_fr.head()"
   ]
  },
  {
   "cell_type": "markdown",
   "metadata": {},
   "source": [
    "We fetch out the columns of MMR and FR data.  These are each Pandas Series:"
   ]
  },
  {
   "cell_type": "code",
   "execution_count": 7,
   "metadata": {},
   "outputs": [
    {
     "data": {
      "text/plain": [
       "pandas.core.series.Series"
      ]
     },
     "execution_count": 7,
     "metadata": {},
     "output_type": "execute_result"
    }
   ],
   "source": [
    "mmr_series = clean_mmr_fr['mat_mort_ratio']\n",
    "fert_series = clean_mmr_fr['fert_rate']\n",
    "type(fert_series)"
   ]
  },
  {
   "cell_type": "markdown",
   "metadata": {},
   "source": [
    "The last step in our data munging is to convert the columns of MMR and FR data into arrays, to make them simpler to work with.  We do this with the Numpy `array` function, that makes arrays from many other types of object."
   ]
  },
  {
   "cell_type": "code",
   "execution_count": 8,
   "metadata": {},
   "outputs": [],
   "source": [
    "mmr = np.array(mmr_series)\n",
    "fert = np.array(fert_series)"
   ]
  },
  {
   "cell_type": "markdown",
   "metadata": {},
   "source": [
    "## Looking for straight lines\n",
    "\n",
    "Now we are ready to look for a relationship between MMR and FR.\n",
    "\n",
    "As usual, we start with a plot.  This time, for fun, we add a label to the X and Y axes with `xlabel` and `ylabel`."
   ]
  },
  {
   "cell_type": "code",
   "execution_count": 9,
   "metadata": {},
   "outputs": [
    {
     "data": {
      "text/plain": [
       "Text(0, 0.5, 'Maternal mortality ratio')"
      ]
     },
     "execution_count": 9,
     "metadata": {},
     "output_type": "execute_result"
    },
    {
     "data": {
      "image/png": "[encoded data removed]",
      "text/plain": [
       "<Figure size 432x288 with 1 Axes>"
      ]
     },
     "metadata": {
      "needs_background": "light"
     },
     "output_type": "display_data"
    }
   ],
   "source": [
    "# Plot FR on the x axis, MMR on the y axis\n",
    "plt.plot(fert, mmr, 'o')\n",
    "plt.xlabel('Fertility rate')\n",
    "plt.ylabel('Maternal mortality ratio')"
   ]
  },
  {
   "cell_type": "markdown",
   "metadata": {},
   "source": [
    "The `'o'` argument to the plot function above is a \"plot marker\".  It tells Matplotlib to plot the points as points, rather than joining them with lines.  The markers for the points will be filled circles, with `'o'`, but we can also ask for other symbols such as plus marks (with `'+'`) and crosses (with `'x'`).\n",
    "\n",
    "## Putting points on plots\n",
    "\n",
    "Before we go on, we will need some machinery to plot arbitrary points on plots.\n",
    "\n",
    "In fact this works in exactly the same way as the points you have already seen on plots.  We use the `plot` function, with a suitable plot marker.  The x coordinates of the points go in the first argument, and the y coordinates go in the second.\n",
    "\n",
    "To plot a single point, pass a single x and y coordinate value:"
   ]
  },
  {
   "cell_type": "code",
   "execution_count": 10,
   "metadata": {},
   "outputs": [
    {
     "data": {
      "text/plain": [
       "[<matplotlib.lines.Line2D at 0x11af2d438>]"
      ]
     },
     "execution_count": 10,
     "metadata": {},
     "output_type": "execute_result"
    },
    {
     "data": {
      "image/png": "[encoded data removed]",
      "text/plain": [
       "<Figure size 432x288 with 1 Axes>"
      ]
     },
     "metadata": {
      "needs_background": "light"
     },
     "output_type": "display_data"
    }
   ],
   "source": [
    "plt.plot(fert, mmr, 'o')\n",
    "# A green point at x=2, y=1000\n",
    "plt.plot(2, 1000, 'o', color='green')"
   ]
  },
  {
   "cell_type": "markdown",
   "metadata": {},
   "source": [
    "To plot more than one point, pass multiple x and y coordinate values:"
   ]
  },
  {
   "cell_type": "code",
   "execution_count": 11,
   "metadata": {},
   "outputs": [
    {
     "data": {
      "text/plain": [
       "[<matplotlib.lines.Line2D at 0x11b077e48>]"
      ]
     },
     "execution_count": 11,
     "metadata": {},
     "output_type": "execute_result"
    },
    {
     "data": {
      "image/png": "[encoded data removed]",
      "text/plain": [
       "<Figure size 432x288 with 1 Axes>"
      ]
     },
     "metadata": {
      "needs_background": "light"
     },
     "output_type": "display_data"
    }
   ],
   "source": [
    "plt.plot(fert, mmr, 'o')\n",
    "# Two green points, one at [2, 1000], the other at [3, 1200]\n",
    "plt.plot([2, 3], [1000, 1200], 'o', color='green')"
   ]
  },
  {
   "cell_type": "markdown",
   "metadata": {},
   "source": [
    "## The mean as applied to plots\n",
    "\n",
    "We want a straight line that fits these points.\n",
    "\n",
    "The straight line should do the best job it can in *predicting* the MMR values from the FP values.\n",
    "\n",
    "We found that the mean was a good predictor.  We could try and find a line or something similar that went through the mean of the MMR values, at any given FR value.\n",
    "\n",
    "Let's split the FR values up into bins centered on 1.5, 2.5 and so on.  Then we take the mean of all the MMR values corresponding to FR values between 1 and 2, 2 and 3 and so on."
   ]
  },
  {
   "cell_type": "code",
   "execution_count": 12,
   "metadata": {},
   "outputs": [
    {
     "data": {
      "text/plain": [
       "array([1.5, 2.5, 3.5, 4.5, 5.5, 6.5, 7.5])"
      ]
     },
     "execution_count": 12,
     "metadata": {},
     "output_type": "execute_result"
    }
   ],
   "source": [
    "# The centers for our FR bins\n",
    "fert_bin_centers = np.arange(7) + 1.5\n",
    "fert_bin_centers"
   ]
  },
  {
   "cell_type": "code",
   "execution_count": 13,
   "metadata": {},
   "outputs": [
    {
     "data": {
      "text/plain": [
       "7"
      ]
     },
     "execution_count": 13,
     "metadata": {},
     "output_type": "execute_result"
    }
   ],
   "source": [
    "# The number of bins\n",
    "n_bins = len(fert_bin_centers)\n",
    "n_bins"
   ]
  },
  {
   "cell_type": "markdown",
   "metadata": {},
   "source": [
    "Show the center of the bins on the x axis of the plot."
   ]
  },
  {
   "cell_type": "code",
   "execution_count": 14,
   "metadata": {},
   "outputs": [
    {
     "data": {
      "text/plain": [
       "[<matplotlib.lines.Line2D at 0x11b1d7d68>]"
      ]
     },
     "execution_count": 14,
     "metadata": {},
     "output_type": "execute_result"
    },
    {
     "data": {
      "image/png": "[encoded data removed]",
      "text/plain": [
       "<Figure size 432x288 with 1 Axes>"
      ]
     },
     "metadata": {
      "needs_background": "light"
     },
     "output_type": "display_data"
    }
   ],
   "source": [
    "plt.plot(fert, mmr, 'o')\n",
    "plt.plot(fert_bin_centers, np.zeros(n_bins), 'o', color='green')"
   ]
  },
  {
   "cell_type": "markdown",
   "metadata": {},
   "source": [
    "Take the mean of the MMR values for each bin."
   ]
  },
  {
   "cell_type": "code",
   "execution_count": 15,
   "metadata": {},
   "outputs": [
    {
     "data": {
      "text/plain": [
       "array([ 20.57,  88.79, 194.94, 455.02, 544.61, 698.35, 585.5 ])"
      ]
     },
     "execution_count": 15,
     "metadata": {},
     "output_type": "execute_result"
    }
   ],
   "source": [
    "mmr_means = np.zeros(n_bins)\n",
    "for i in np.arange(n_bins):\n",
    "    mid = fert_bin_centers[i]\n",
    "    # Boolean identifing indices withing the FR bin\n",
    "    fr_within_bin = (fert >= mid - 0.5) & (fert < mid + 0.5)\n",
    "    # Take the mean of the corresponding MMR values\n",
    "    mmr_means[i] = np.mean(mmr[fr_within_bin])\n",
    "mmr_means"
   ]
  },
  {
   "cell_type": "markdown",
   "metadata": {},
   "source": [
    "These means should be good predictors for MMR values, given an FR value.  We check the bin of the FR value and take the corresponding MMR mean as the prediction.\n",
    "\n",
    "Here is a plot of the means of MMR for every bin:"
   ]
  },
  {
   "cell_type": "code",
   "execution_count": 16,
   "metadata": {},
   "outputs": [
    {
     "data": {
      "text/plain": [
       "[<matplotlib.lines.Line2D at 0x11b2f2550>]"
      ]
     },
     "execution_count": 16,
     "metadata": {},
     "output_type": "execute_result"
    },
    {
     "data": {
      "image/png": "[encoded data removed]",
      "text/plain": [
       "<Figure size 432x288 with 1 Axes>"
      ]
     },
     "metadata": {
      "needs_background": "light"
     },
     "output_type": "display_data"
    }
   ],
   "source": [
    "plt.plot(fert, mmr, 'o')\n",
    "plt.plot(fert_bin_centers, mmr_means, 'o', color='green')"
   ]
  },
  {
   "cell_type": "markdown",
   "metadata": {},
   "source": [
    "## Finding a predicting line\n",
    "\n",
    "The means per bin give some prediction of the MMR values from the FR.  Can we do better?  Can we find a line that predicts the MMR data from the FR data?\n",
    "\n",
    "Remember, any line can be fully described by an *intercept* and a *slope*.  A line predicts the $y$ values from the $x$ values, using the slope $s$ and the intercept $I$:\n",
    "\n",
    "$$\n",
    "y = I + x * s\n",
    "$$\n",
    "\n",
    "The *intercept* is the value of the line when x is equal to 0.  It is therefore where the line crosses the y axis.\n",
    "\n",
    "In our case, let us assume the intercept is 0.  We will assume MMR of 0 if there are no births.  We will see that things are more complicated than that, but we will start there.\n",
    "\n",
    "Now we want to find a good *slope*.  The *slope* is the amount that the y values increase for a one unit increase in the x values.  In our case, it is the increase in the MMR for a 1 child increase in the FR.\n",
    "\n",
    "Let's guess the slope is 100."
   ]
  },
  {
   "cell_type": "code",
   "execution_count": 17,
   "metadata": {},
   "outputs": [],
   "source": [
    "slope = 100"
   ]
  },
  {
   "cell_type": "markdown",
   "metadata": {},
   "source": [
    "Remember our line prediction for y (MMR) is:\n",
    "\n",
    "$$\n",
    "y = I + x * s\n",
    "$$\n",
    "\n",
    "where x is the FR.  In our case we assume the intercept is 0, so:"
   ]
  },
  {
   "cell_type": "code",
   "execution_count": 18,
   "metadata": {},
   "outputs": [],
   "source": [
    "mmr_predicted = fert * slope"
   ]
  },
  {
   "cell_type": "markdown",
   "metadata": {},
   "source": [
    "Plot the predictions in red on the original data in blue."
   ]
  },
  {
   "cell_type": "code",
   "execution_count": 19,
   "metadata": {},
   "outputs": [
    {
     "data": {
      "text/plain": [
       "[<matplotlib.lines.Line2D at 0x11b3cfe80>]"
      ]
     },
     "execution_count": 19,
     "metadata": {},
     "output_type": "execute_result"
    },
    {
     "data": {
      "image/png": "[encoded data removed]",
      "text/plain": [
       "<Figure size 432x288 with 1 Axes>"
      ]
     },
     "metadata": {
      "needs_background": "light"
     },
     "output_type": "display_data"
    }
   ],
   "source": [
    "plt.plot(fert, mmr, 'o')\n",
    "plt.plot(fert, mmr_predicted, 'o', color='red')"
   ]
  },
  {
   "cell_type": "markdown",
   "metadata": {},
   "source": [
    "The red are the predictions, the blue are the original data.  At each MMR value we have a prediction, and therefore, an error in our prediction; the difference between the predicted value and the actual values."
   ]
  },
  {
   "cell_type": "code",
   "execution_count": 20,
   "metadata": {},
   "outputs": [
    {
     "data": {
      "text/plain": [
       "array([ -51.45, -111.05, -147.68, -173.3 , -179.05, -127.3 , -180.15,\n",
       "       -141.5 , -172.75,  148.03])"
      ]
     },
     "execution_count": 20,
     "metadata": {},
     "output_type": "execute_result"
    }
   ],
   "source": [
    "error = mmr - mmr_predicted\n",
    "error[:10]"
   ]
  },
  {
   "cell_type": "markdown",
   "metadata": {},
   "source": [
    "In this plot, for each point, we draw a thin dotted line between the prediction of MMR for each point, and its actual value."
   ]
  },
  {
   "cell_type": "code",
   "execution_count": 21,
   "metadata": {},
   "outputs": [
    {
     "data": {
      "image/png": "[encoded data removed]",
      "text/plain": [
       "<Figure size 432x288 with 1 Axes>"
      ]
     },
     "metadata": {
      "needs_background": "light"
     },
     "output_type": "display_data"
    }
   ],
   "source": [
    "plt.plot(fert, mmr, 'o')\n",
    "plt.plot(fert, mmr_predicted, 'o', color='red')\n",
    "# Draw a line between predicted and actual\n",
    "for i in np.arange(len(fert)):\n",
    "    x = fert[i]\n",
    "    y_0 = mmr_predicted[i]\n",
    "    y_1 = mmr[i]\n",
    "    plt.plot([x, x], [y_0, y_1], ':', color='black', linewidth=1)"
   ]
  },
  {
   "cell_type": "markdown",
   "metadata": {},
   "source": [
    "## What is a good line?\n",
    "\n",
    "We have guessed a slope, and so defined a line. We calculated the errors from our guessed line.\n",
    "\n",
    "How would we decide whether our slope was a good one?  Put otherwise, how would we decide when we have a good line?\n",
    "\n",
    "A good line should have small prediction errors. That is, the line should give a good prediction of the points.  That is, the line should result in small *errors*.\n",
    "\n",
    "We would like a slope that gives us the smallest error.\n",
    "\n",
    "## One metric for the line\n",
    "\n",
    "[The Mean as Predictor](mean_meaning) section showed that the mean is the value with the smallest squared distance from the other values in the distribution.  The mean is the predictor value that minimizes the sum of squared distances from the other values.\n",
    "\n",
    "We can use the same metric for our line.  Instead of using a single vector as a predictor, now we are using the values on the line as predictors.  We want the FR slope, in our case, that gives the best predictors of the MMR values.  Specifically, we want the slope that gives the smallest sum of squares difference between the line prediction and the actual values.\n",
    "\n",
    "We have already calculated the prediction and error for our slope of 100, but let's do it again, and then calculate the *sum of squares* of the error:"
   ]
  },
  {
   "cell_type": "code",
   "execution_count": 22,
   "metadata": {},
   "outputs": [
    {
     "data": {
      "text/plain": [
       "6373896.0662125"
      ]
     },
     "execution_count": 22,
     "metadata": {},
     "output_type": "execute_result"
    }
   ],
   "source": [
    "slope = 100\n",
    "mmr_predicted = fert * slope\n",
    "error = mmr - mmr_predicted\n",
    "# The sum of squared error\n",
    "sum(error ** 2)"
   ]
  },
  {
   "cell_type": "markdown",
   "metadata": {},
   "source": [
    "We are about to do this calculation many times, for many different slopes.  We need a *function*.\n",
    "\n",
    "In the function below, we are using [function world](../07/functions)\n",
    "to get the values of `fert` and `mmr` defined here at the top level,\n",
    "outside *function world*. The function can see these values, from\n",
    "function world."
   ]
  },
  {
   "cell_type": "code",
   "execution_count": 23,
   "metadata": {},
   "outputs": [],
   "source": [
    "def sos_error(slope):\n",
    "    fitted = fert * slope  # 'fert' comes from the top level\n",
    "    error = mmr - fitted     # 'mmr' comes from the top level\n",
    "    return np.sum(error ** 2)"
   ]
  },
  {
   "cell_type": "markdown",
   "metadata": {},
   "source": [
    "First check we get the same answer as the calculation above:"
   ]
  },
  {
   "cell_type": "code",
   "execution_count": 24,
   "metadata": {},
   "outputs": [
    {
     "data": {
      "text/plain": [
       "6373896.0662125"
      ]
     },
     "execution_count": 24,
     "metadata": {},
     "output_type": "execute_result"
    }
   ],
   "source": [
    "sos_error(100)"
   ]
  },
  {
   "cell_type": "markdown",
   "metadata": {},
   "source": [
    "Does 200 give a higher or lower sum of squared error?"
   ]
  },
  {
   "cell_type": "code",
   "execution_count": 25,
   "metadata": {},
   "outputs": [
    {
     "data": {
      "text/plain": [
       "34151573.172350004"
      ]
     },
     "execution_count": 25,
     "metadata": {},
     "output_type": "execute_result"
    }
   ],
   "source": [
    "sos_error(200)"
   ]
  },
  {
   "cell_type": "markdown",
   "metadata": {},
   "source": [
    "Now we can use the same strategy as we used in the [mean meaning](mean_meaning) page, to try lots of slopes, and find the one that gives the smallest sum of squared error."
   ]
  },
  {
   "cell_type": "code",
   "execution_count": 26,
   "metadata": {},
   "outputs": [
    {
     "data": {
      "text/plain": [
       "array([6609932.97, 6600063.14, 6590230.98, 6580436.49, 6570679.67,\n",
       "       6560960.51, 6551279.02, 6541635.19, 6532029.03, 6522460.54])"
      ]
     },
     "execution_count": 26,
     "metadata": {},
     "output_type": "execute_result"
    }
   ],
   "source": [
    "# Slopes to try\n",
    "some_slopes = np.arange(50, 110, 0.1)\n",
    "n_slopes = len(some_slopes)\n",
    "# Try all these slopes, calculate and record sum of squared error\n",
    "sos_errors = np.zeros(n_slopes)\n",
    "for i in np.arange(n_slopes):\n",
    "    slope = some_slopes[i]\n",
    "    sos_errors[i] = sos_error(slope)\n",
    "# Show the first 10 values\n",
    "sos_errors[:10]"
   ]
  },
  {
   "cell_type": "markdown",
   "metadata": {},
   "source": [
    "We plot the slopes we have tried, on the x axis, against the sum of squared error, on the y-axis.\n"
   ]
  },
  {
   "cell_type": "code",
   "execution_count": 27,
   "metadata": {},
   "outputs": [
    {
     "data": {
      "text/plain": [
       "Text(0, 0.5, 'Sum of squared error')"
      ]
     },
     "execution_count": 27,
     "metadata": {},
     "output_type": "execute_result"
    },
    {
     "data": {
      "image/png": "[encoded data removed]",
      "text/plain": [
       "<Figure size 432x288 with 1 Axes>"
      ]
     },
     "metadata": {
      "needs_background": "light"
     },
     "output_type": "display_data"
    }
   ],
   "source": [
    "plt.plot(some_slopes, sos_errors)\n",
    "plt.xlabel('Candidate slopes')\n",
    "plt.ylabel('Sum of squared error')"
   ]
  },
  {
   "cell_type": "markdown",
   "metadata": {},
   "source": [
    "The minimum of the sum of squared error is:"
   ]
  },
  {
   "cell_type": "code",
   "execution_count": 28,
   "metadata": {},
   "outputs": [
    {
     "data": {
      "text/plain": [
       "5311887.407425549"
      ]
     },
     "execution_count": 28,
     "metadata": {},
     "output_type": "execute_result"
    }
   ],
   "source": [
    "np.min(sos_errors)"
   ]
  },
  {
   "cell_type": "markdown",
   "metadata": {},
   "source": [
    "We want to find the slope that corresponds to this minimum.  We can use [argmin](where_and_argmin)."
   ]
  },
  {
   "cell_type": "code",
   "execution_count": 29,
   "metadata": {},
   "outputs": [
    {
     "data": {
      "text/plain": [
       "263"
      ]
     },
     "execution_count": 29,
     "metadata": {},
     "output_type": "execute_result"
    }
   ],
   "source": [
    "# Index of minumum value\n",
    "i_of_min = np.argmin(sos_errors)\n",
    "i_of_min"
   ]
  },
  {
   "cell_type": "markdown",
   "metadata": {},
   "source": [
    "This is the index position of the minimum.  We will therefore get the minimum (again) if we index into the original array with the index we just found:"
   ]
  },
  {
   "cell_type": "code",
   "execution_count": 30,
   "metadata": {},
   "outputs": [
    {
     "data": {
      "text/plain": [
       "5311887.407425549"
      ]
     },
     "execution_count": 30,
     "metadata": {},
     "output_type": "execute_result"
    }
   ],
   "source": [
    "# Check we do in fact get the minimum at this index\n",
    "sos_errors[i_of_min]"
   ]
  },
  {
   "cell_type": "markdown",
   "metadata": {},
   "source": [
    "Now we can get and show the slope value that corresponds the minimum sum of squared error:"
   ]
  },
  {
   "cell_type": "code",
   "execution_count": 31,
   "metadata": {},
   "outputs": [
    {
     "data": {
      "text/plain": [
       "76.30000000000038"
      ]
     },
     "execution_count": 31,
     "metadata": {},
     "output_type": "execute_result"
    }
   ],
   "source": [
    "best_slope = some_slopes[i_of_min]\n",
    "best_slope"
   ]
  },
  {
   "cell_type": "markdown",
   "metadata": {},
   "source": [
    "Plot the data, predictions and errors for the line that minimizes the sum of squared error:"
   ]
  },
  {
   "cell_type": "code",
   "execution_count": 32,
   "metadata": {},
   "outputs": [
    {
     "data": {
      "text/plain": [
       "Text(0.5, 1.0, 'The best-fit line using least-squared error')"
      ]
     },
     "execution_count": 32,
     "metadata": {},
     "output_type": "execute_result"
    },
    {
     "data": {
      "image/png": "[encoded data removed]",
      "text/plain": [
       "<Figure size 432x288 with 1 Axes>"
      ]
     },
     "metadata": {
      "needs_background": "light"
     },
     "output_type": "display_data"
    }
   ],
   "source": [
    "best_predicted = fert * best_slope\n",
    "plt.plot(fert, mmr, 'o')\n",
    "plt.plot(fert, best_predicted, 'o', color='red')\n",
    "for i in np.arange(len(fert)):\n",
    "    x = fert[i]\n",
    "    y_0 = best_predicted[i]\n",
    "    y_1 = mmr[i]\n",
    "    plt.plot([x, x], [y_0, y_1], ':', color='black', linewidth=1)\n",
    "plt.title('The best-fit line using least-squared error')"
   ]
  },
  {
   "cell_type": "markdown",
   "metadata": {},
   "source": [
    "The algorithm we have used so far, is rather slow and clunky, because we had to make an array with lots of slopes to try, and then go through each one to find the slope that minimizes the squared error.\n",
    "\n",
    "In fact, we will soon see, we can use some tricks to get Python to do all this work for us, much more quickly.\n",
    "\n",
    "Finding techniques for doing this automatically is a whole\n",
    "mathematical field, called\n",
    "[optimization](https://en.wikipedia.org/wiki/Mathematical_optimization).\n",
    "\n",
    "For now, let's leap to using these techniques on our problem, of finding the best slope:"
   ]
  },
  {
   "cell_type": "code",
   "execution_count": 33,
   "metadata": {},
   "outputs": [
    {
     "data": {
      "text/plain": [
       "      fun: 5311883.300879181\n",
       " hess_inv: array([[0.]])\n",
       "      jac: array([0.])\n",
       "  message: 'Optimization terminated successfully.'\n",
       "     nfev: 42\n",
       "      nit: 5\n",
       "     njev: 14\n",
       "   status: 0\n",
       "  success: True\n",
       "        x: array([76.25])"
      ]
     },
     "execution_count": 33,
     "metadata": {},
     "output_type": "execute_result"
    }
   ],
   "source": [
    "from scipy.optimize import minimize\n",
    "# 100 below is the slope value to start the search.\n",
    "minimize(sos_error, 100)"
   ]
  }
 ],
 "metadata": {
  "jupytext": {
   "notebook_metadata_filter": "all,-language_info"
  },
  "kernelspec": {
   "display_name": "Python 3",
   "language": "python",
   "name": "python3"
  },
  "language_info": {
   "codemirror_mode": {
    "name": "ipython",
    "version": 3
   },
   "file_extension": ".py",
   "mimetype": "text/x-python",
   "name": "python",
   "nbconvert_exporter": "python",
   "pygments_lexer": "ipython3",
   "version": "3.7.1"
  }
 },
 "nbformat": 4,
 "nbformat_minor": 2
}
