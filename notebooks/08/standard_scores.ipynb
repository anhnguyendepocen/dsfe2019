{
 "cells": [
  {
   "cell_type": "code",
   "execution_count": 1,
   "metadata": {},
   "outputs": [],
   "source": [
    "import numpy as np\n",
    "%matplotlib inline\n",
    "import matplotlib.pyplot as plt\n",
    "plt.style.use('fivethirtyeight')\n",
    "import pandas as pd"
   ]
  },
  {
   "cell_type": "markdown",
   "metadata": {},
   "source": [
    "## Describing distributions\n",
    "\n",
    "We have seen several examples of *distributions*.\n",
    "\n",
    "We can describe distributions as having a *center*, and a *spread*.\n",
    "\n",
    "In [the mean as predictor](mean_meaning), we saw that the mean is\n",
    "a useful measure of the center of a distribution.\n",
    "\n",
    "What measure should we use for the spread?"
   ]
  },
  {
   "cell_type": "markdown",
   "metadata": {},
   "source": [
    "## Back to chronic kidney disease\n",
    "\n",
    "We return to the [data on chronic kidney disease]({{ site.baseurl\n",
    "}}/data/chronic_kidney_disease).\n",
    "\n",
    "Download the data to your computer via this link: [ckd_clean.csv]({{\n",
    "site.baseurl }}/data/ckd_clean.csv)."
   ]
  },
  {
   "cell_type": "code",
   "execution_count": 2,
   "metadata": {},
   "outputs": [
    {
     "data": {
      "text/html": [
       "<div>\n",
       "<style scoped>\n",
       "    .dataframe tbody tr th:only-of-type {\n",
       "        vertical-align: middle;\n",
       "    }\n",
       "\n",
       "    .dataframe tbody tr th {\n",
       "        vertical-align: top;\n",
       "    }\n",
       "\n",
       "    .dataframe thead th {\n",
       "        text-align: right;\n",
       "    }\n",
       "</style>\n",
       "<table border=\"1\" class=\"dataframe\">\n",
       "  <thead>\n",
       "    <tr style=\"text-align: right;\">\n",
       "      <th></th>\n",
       "      <th>Age</th>\n",
       "      <th>Blood Pressure</th>\n",
       "      <th>Specific Gravity</th>\n",
       "      <th>Albumin</th>\n",
       "      <th>Sugar</th>\n",
       "      <th>Red Blood Cells</th>\n",
       "      <th>Pus Cell</th>\n",
       "      <th>Pus Cell clumps</th>\n",
       "      <th>Bacteria</th>\n",
       "      <th>Blood Glucose Random</th>\n",
       "      <th>...</th>\n",
       "      <th>Packed Cell Volume</th>\n",
       "      <th>White Blood Cell Count</th>\n",
       "      <th>Red Blood Cell Count</th>\n",
       "      <th>Hypertension</th>\n",
       "      <th>Diabetes Mellitus</th>\n",
       "      <th>Coronary Artery Disease</th>\n",
       "      <th>Appetite</th>\n",
       "      <th>Pedal Edema</th>\n",
       "      <th>Anemia</th>\n",
       "      <th>Class</th>\n",
       "    </tr>\n",
       "  </thead>\n",
       "  <tbody>\n",
       "    <tr>\n",
       "      <th>0</th>\n",
       "      <td>48.0</td>\n",
       "      <td>70.0</td>\n",
       "      <td>1.005</td>\n",
       "      <td>4.0</td>\n",
       "      <td>0.0</td>\n",
       "      <td>normal</td>\n",
       "      <td>abnormal</td>\n",
       "      <td>present</td>\n",
       "      <td>notpresent</td>\n",
       "      <td>117.0</td>\n",
       "      <td>...</td>\n",
       "      <td>32.0</td>\n",
       "      <td>6700.0</td>\n",
       "      <td>3.9</td>\n",
       "      <td>yes</td>\n",
       "      <td>no</td>\n",
       "      <td>no</td>\n",
       "      <td>poor</td>\n",
       "      <td>yes</td>\n",
       "      <td>yes</td>\n",
       "      <td>1</td>\n",
       "    </tr>\n",
       "    <tr>\n",
       "      <th>1</th>\n",
       "      <td>53.0</td>\n",
       "      <td>90.0</td>\n",
       "      <td>1.020</td>\n",
       "      <td>2.0</td>\n",
       "      <td>0.0</td>\n",
       "      <td>abnormal</td>\n",
       "      <td>abnormal</td>\n",
       "      <td>present</td>\n",
       "      <td>notpresent</td>\n",
       "      <td>70.0</td>\n",
       "      <td>...</td>\n",
       "      <td>29.0</td>\n",
       "      <td>12100.0</td>\n",
       "      <td>3.7</td>\n",
       "      <td>yes</td>\n",
       "      <td>yes</td>\n",
       "      <td>no</td>\n",
       "      <td>poor</td>\n",
       "      <td>no</td>\n",
       "      <td>yes</td>\n",
       "      <td>1</td>\n",
       "    </tr>\n",
       "    <tr>\n",
       "      <th>2</th>\n",
       "      <td>63.0</td>\n",
       "      <td>70.0</td>\n",
       "      <td>1.010</td>\n",
       "      <td>3.0</td>\n",
       "      <td>0.0</td>\n",
       "      <td>abnormal</td>\n",
       "      <td>abnormal</td>\n",
       "      <td>present</td>\n",
       "      <td>notpresent</td>\n",
       "      <td>380.0</td>\n",
       "      <td>...</td>\n",
       "      <td>32.0</td>\n",
       "      <td>4500.0</td>\n",
       "      <td>3.8</td>\n",
       "      <td>yes</td>\n",
       "      <td>yes</td>\n",
       "      <td>no</td>\n",
       "      <td>poor</td>\n",
       "      <td>yes</td>\n",
       "      <td>no</td>\n",
       "      <td>1</td>\n",
       "    </tr>\n",
       "    <tr>\n",
       "      <th>3</th>\n",
       "      <td>68.0</td>\n",
       "      <td>80.0</td>\n",
       "      <td>1.010</td>\n",
       "      <td>3.0</td>\n",
       "      <td>2.0</td>\n",
       "      <td>normal</td>\n",
       "      <td>abnormal</td>\n",
       "      <td>present</td>\n",
       "      <td>present</td>\n",
       "      <td>157.0</td>\n",
       "      <td>...</td>\n",
       "      <td>16.0</td>\n",
       "      <td>11000.0</td>\n",
       "      <td>2.6</td>\n",
       "      <td>yes</td>\n",
       "      <td>yes</td>\n",
       "      <td>yes</td>\n",
       "      <td>poor</td>\n",
       "      <td>yes</td>\n",
       "      <td>no</td>\n",
       "      <td>1</td>\n",
       "    </tr>\n",
       "    <tr>\n",
       "      <th>4</th>\n",
       "      <td>61.0</td>\n",
       "      <td>80.0</td>\n",
       "      <td>1.015</td>\n",
       "      <td>2.0</td>\n",
       "      <td>0.0</td>\n",
       "      <td>abnormal</td>\n",
       "      <td>abnormal</td>\n",
       "      <td>notpresent</td>\n",
       "      <td>notpresent</td>\n",
       "      <td>173.0</td>\n",
       "      <td>...</td>\n",
       "      <td>24.0</td>\n",
       "      <td>9200.0</td>\n",
       "      <td>3.2</td>\n",
       "      <td>yes</td>\n",
       "      <td>yes</td>\n",
       "      <td>yes</td>\n",
       "      <td>poor</td>\n",
       "      <td>yes</td>\n",
       "      <td>yes</td>\n",
       "      <td>1</td>\n",
       "    </tr>\n",
       "  </tbody>\n",
       "</table>\n",
       "<p>5 rows × 25 columns</p>\n",
       "</div>"
      ],
      "text/plain": [
       "    Age  Blood Pressure  Specific Gravity  Albumin  Sugar Red Blood Cells  \\\n",
       "0  48.0            70.0             1.005      4.0    0.0          normal   \n",
       "1  53.0            90.0             1.020      2.0    0.0        abnormal   \n",
       "2  63.0            70.0             1.010      3.0    0.0        abnormal   \n",
       "3  68.0            80.0             1.010      3.0    2.0          normal   \n",
       "4  61.0            80.0             1.015      2.0    0.0        abnormal   \n",
       "\n",
       "   Pus Cell Pus Cell clumps    Bacteria  Blood Glucose Random  ...  \\\n",
       "0  abnormal         present  notpresent                 117.0  ...   \n",
       "1  abnormal         present  notpresent                  70.0  ...   \n",
       "2  abnormal         present  notpresent                 380.0  ...   \n",
       "3  abnormal         present     present                 157.0  ...   \n",
       "4  abnormal      notpresent  notpresent                 173.0  ...   \n",
       "\n",
       "   Packed Cell Volume  White Blood Cell Count  Red Blood Cell Count  \\\n",
       "0                32.0                  6700.0                   3.9   \n",
       "1                29.0                 12100.0                   3.7   \n",
       "2                32.0                  4500.0                   3.8   \n",
       "3                16.0                 11000.0                   2.6   \n",
       "4                24.0                  9200.0                   3.2   \n",
       "\n",
       "   Hypertension  Diabetes Mellitus  Coronary Artery Disease  Appetite  \\\n",
       "0           yes                 no                       no      poor   \n",
       "1           yes                yes                       no      poor   \n",
       "2           yes                yes                       no      poor   \n",
       "3           yes                yes                      yes      poor   \n",
       "4           yes                yes                      yes      poor   \n",
       "\n",
       "   Pedal Edema Anemia Class  \n",
       "0          yes    yes     1  \n",
       "1           no    yes     1  \n",
       "2          yes     no     1  \n",
       "3          yes     no     1  \n",
       "4          yes    yes     1  \n",
       "\n",
       "[5 rows x 25 columns]"
      ]
     },
     "execution_count": 2,
     "metadata": {},
     "output_type": "execute_result"
    }
   ],
   "source": [
    "ckd_full = pd.read_csv('ckd_clean.csv')\n",
    "ckd_full.head()"
   ]
  },
  {
   "cell_type": "markdown",
   "metadata": {},
   "source": [
    "We will use this dataset to get a couple of variables (columns) and\n",
    "therefore a couple of distributions.\n",
    "\n",
    "Let's start with the White Blood Cell Count, usually abbreviated as WBC."
   ]
  },
  {
   "cell_type": "code",
   "execution_count": 3,
   "metadata": {},
   "outputs": [
    {
     "data": {
      "image/png": "[encoded data removed]",
      "text/plain": [
       "<Figure size 432x288 with 1 Axes>"
      ]
     },
     "metadata": {
      "needs_background": "light"
     },
     "output_type": "display_data"
    }
   ],
   "source": [
    "wbc = ckd_full['White Blood Cell Count']\n",
    "wbc.hist()\n",
    "plt.title('White Blood Cell Count');"
   ]
  },
  {
   "cell_type": "code",
   "execution_count": 4,
   "metadata": {},
   "outputs": [
    {
     "data": {
      "text/plain": [
       "count      158.000000\n",
       "mean      8475.949367\n",
       "std       3126.880181\n",
       "min       3800.000000\n",
       "25%       6525.000000\n",
       "50%       7800.000000\n",
       "75%       9775.000000\n",
       "max      26400.000000\n",
       "Name: White Blood Cell Count, dtype: float64"
      ]
     },
     "execution_count": 4,
     "metadata": {},
     "output_type": "execute_result"
    }
   ],
   "source": [
    "wbc.describe()"
   ]
  },
  {
   "cell_type": "markdown",
   "metadata": {},
   "source": [
    "Compare this to Hemoglobin concentrations:"
   ]
  },
  {
   "cell_type": "code",
   "execution_count": 5,
   "metadata": {},
   "outputs": [
    {
     "data": {
      "image/png": "[encoded data removed]",
      "text/plain": [
       "<Figure size 432x288 with 1 Axes>"
      ]
     },
     "metadata": {
      "needs_background": "light"
     },
     "output_type": "display_data"
    }
   ],
   "source": [
    "hgb = ckd_full['Hemoglobin']\n",
    "hgb.hist()\n",
    "plt.title('Hemoglobin');"
   ]
  },
  {
   "cell_type": "code",
   "execution_count": 6,
   "metadata": {},
   "outputs": [
    {
     "data": {
      "text/plain": [
       "count    158.000000\n",
       "mean      13.687342\n",
       "std        2.882204\n",
       "min        3.100000\n",
       "25%       12.600000\n",
       "50%       14.250000\n",
       "75%       15.775000\n",
       "max       17.800000\n",
       "Name: Hemoglobin, dtype: float64"
      ]
     },
     "execution_count": 6,
     "metadata": {},
     "output_type": "execute_result"
    }
   ],
   "source": [
    "hgb.describe()"
   ]
  },
  {
   "cell_type": "markdown",
   "metadata": {},
   "source": [
    "Notice that we can't easily plot these two on the same axes, because\n",
    "their units are so different."
   ]
  },
  {
   "cell_type": "markdown",
   "metadata": {},
   "source": [
    "Here's what that looks like.  Notice that the hemoglobin values disappear in a tiny spike to the left."
   ]
  },
  {
   "cell_type": "code",
   "execution_count": 7,
   "metadata": {},
   "outputs": [
    {
     "data": {
      "image/png": "[encoded data removed]",
      "text/plain": [
       "<Figure size 432x288 with 1 Axes>"
      ]
     },
     "metadata": {
      "needs_background": "light"
     },
     "output_type": "display_data"
    }
   ],
   "source": [
    "# Use alpha to make the histograms a little transparent.\n",
    "# Label them for a legend.\n",
    "hgb.hist(alpha=0.7, label='HGB')\n",
    "wbc.hist(alpha=0.7, label='WBC')\n",
    "plt.title(\"HGB and WBC together - HGB tiny spike at left\")\n",
    "plt.legend();"
   ]
  },
  {
   "cell_type": "markdown",
   "metadata": {},
   "source": [
    "We could try and fix this by subtracting the mean, as a center value, so\n",
    "the values are now *deviations* from the mean."
   ]
  },
  {
   "cell_type": "code",
   "execution_count": 8,
   "metadata": {},
   "outputs": [
    {
     "data": {
      "image/png": "[encoded data removed]",
      "text/plain": [
       "<Figure size 432x288 with 1 Axes>"
      ]
     },
     "metadata": {
      "needs_background": "light"
     },
     "output_type": "display_data"
    }
   ],
   "source": [
    "wbc_deviations = wbc - np.mean(wbc)\n",
    "wbc_deviations.hist()\n",
    "plt.title('White Blood Cell Count deviations');"
   ]
  },
  {
   "cell_type": "code",
   "execution_count": 9,
   "metadata": {},
   "outputs": [
    {
     "data": {
      "image/png": "[encoded data removed]",
      "text/plain": [
       "<Figure size 432x288 with 1 Axes>"
      ]
     },
     "metadata": {
      "needs_background": "light"
     },
     "output_type": "display_data"
    }
   ],
   "source": [
    "hgb_deviations = hgb - np.mean(hgb)\n",
    "hgb_deviations.hist()\n",
    "plt.title('Hemoglobin deviations');"
   ]
  },
  {
   "cell_type": "markdown",
   "metadata": {},
   "source": [
    "The deviations each have a mean very very close to zero, and therefore,\n",
    "they have the same center:"
   ]
  },
  {
   "cell_type": "code",
   "execution_count": 10,
   "metadata": {},
   "outputs": [
    {
     "data": {
      "text/plain": [
       "(-1.8420145858692217e-13, 7.195369476051647e-16)"
      ]
     },
     "execution_count": 10,
     "metadata": {},
     "output_type": "execute_result"
    }
   ],
   "source": [
    "np.mean(wbc_deviations), np.mean(hgb_deviations)"
   ]
  },
  {
   "cell_type": "markdown",
   "metadata": {},
   "source": [
    "We still cannot sensibly plot them on the same axes, because the WBC values have\n",
    "a very different *spread*.  The WBC values completely dominate the x axis of\n",
    "the graph.  We can't reasonably compare the WBC deviations to the\n",
    "Hemoglobin deviations, because they have such different *units*."
   ]
  },
  {
   "cell_type": "code",
   "execution_count": 11,
   "metadata": {},
   "outputs": [
    {
     "data": {
      "image/png": "[encoded data removed]",
      "text/plain": [
       "<Figure size 432x288 with 1 Axes>"
      ]
     },
     "metadata": {
      "needs_background": "light"
     },
     "output_type": "display_data"
    }
   ],
   "source": [
    "hgb_deviations.hist(alpha=0.7, label='HGB')\n",
    "wbc_deviations.hist(alpha=0.7, label='WBC')\n",
    "plt.title(\"HGB and WBC deviations - you can't see HGB\")\n",
    "plt.legend();"
   ]
  },
  {
   "cell_type": "markdown",
   "metadata": {},
   "source": [
    "We would like a measure of the spread of the distribution, so we can set\n",
    "the two distributions to have the same spread.\n"
   ]
  },
  {
   "cell_type": "markdown",
   "metadata": {},
   "source": [
    "## The standard deviation"
   ]
  },
  {
   "cell_type": "markdown",
   "metadata": {},
   "source": [
    "In the [mean as predictor](mean_meaning) section, we found that mean was\n",
    "the best value to use as a predictor, to minimize the sum of *squared*\n",
    "deviations.\n",
    "\n",
    "Maybe we could get an idea of the typical *squared* deviation, as\n",
    "a measure of spread?"
   ]
  },
  {
   "cell_type": "code",
   "execution_count": 12,
   "metadata": {},
   "outputs": [
    {
     "data": {
      "text/plain": [
       "0   -2.487342\n",
       "1   -4.187342\n",
       "2   -2.887342\n",
       "3   -8.087342\n",
       "4   -5.987342\n",
       "5   -3.887342\n",
       "6   -1.187342\n",
       "7   -3.687342\n",
       "8   -3.187342\n",
       "9   -3.887342\n",
       "Name: Hemoglobin, dtype: float64"
      ]
     },
     "execution_count": 12,
     "metadata": {},
     "output_type": "execute_result"
    }
   ],
   "source": [
    "hgb_deviations[:10]"
   ]
  },
  {
   "cell_type": "code",
   "execution_count": 13,
   "metadata": {},
   "outputs": [
    {
     "data": {
      "text/plain": [
       "0     6.186869\n",
       "1    17.533831\n",
       "2     8.336743\n",
       "3    65.405097\n",
       "4    35.848261\n",
       "5    15.111426\n",
       "6     1.409780\n",
       "7    13.596489\n",
       "8    10.159148\n",
       "9    15.111426\n",
       "Name: Hemoglobin, dtype: float64"
      ]
     },
     "execution_count": 13,
     "metadata": {},
     "output_type": "execute_result"
    }
   ],
   "source": [
    "hgb_dev_sq = hgb_deviations ** 2\n",
    "hgb_dev_sq[:10]"
   ]
  },
  {
   "cell_type": "code",
   "execution_count": 14,
   "metadata": {},
   "outputs": [
    {
     "data": {
      "text/plain": [
       "Text(0.5, 1.0, 'HGB squared deviations')"
      ]
     },
     "execution_count": 14,
     "metadata": {},
     "output_type": "execute_result"
    },
    {
     "data": {
      "image/png": "[encoded data removed]",
      "text/plain": [
       "<Figure size 432x288 with 1 Axes>"
      ]
     },
     "metadata": {
      "needs_background": "light"
     },
     "output_type": "display_data"
    }
   ],
   "source": [
    "hgb_dev_sq.hist()\n",
    "plt.title('HGB squared deviations')"
   ]
  },
  {
   "cell_type": "markdown",
   "metadata": {},
   "source": [
    "The center, or typical value, of this distribution, could be the *mean*."
   ]
  },
  {
   "cell_type": "code",
   "execution_count": 15,
   "metadata": {},
   "outputs": [
    {
     "data": {
      "text/plain": [
       "8.254523313571543"
      ]
     },
     "execution_count": 15,
     "metadata": {},
     "output_type": "execute_result"
    }
   ],
   "source": [
    "hgb_dev_sq_mean = np.mean(hgb_dev_sq)\n",
    "hgb_dev_sq_mean"
   ]
  },
  {
   "cell_type": "markdown",
   "metadata": {},
   "source": [
    "This is the *mean squared deviation*.  This is also called the\n",
    "*variance*.  Numpy has a function to calculate that in one shot:"
   ]
  },
  {
   "cell_type": "code",
   "execution_count": 16,
   "metadata": {},
   "outputs": [
    {
     "data": {
      "text/plain": [
       "8.254523313571543"
      ]
     },
     "execution_count": 16,
     "metadata": {},
     "output_type": "execute_result"
    }
   ],
   "source": [
    "# The mean squared deviation is the variance\n",
    "np.var(hgb)"
   ]
  },
  {
   "cell_type": "markdown",
   "metadata": {},
   "source": [
    "The mean squared deviation is a good indicator of the typical squared\n",
    "deviation.  What should we use for some measure of the typical\n",
    "deviation?\n",
    "\n",
    "We could take the square root of the mean squared deviation, like this:"
   ]
  },
  {
   "cell_type": "code",
   "execution_count": 17,
   "metadata": {},
   "outputs": [
    {
     "data": {
      "text/plain": [
       "2.873068623192203"
      ]
     },
     "execution_count": 17,
     "metadata": {},
     "output_type": "execute_result"
    }
   ],
   "source": [
    "np.sqrt(hgb_dev_sq_mean)"
   ]
  },
  {
   "cell_type": "markdown",
   "metadata": {},
   "source": [
    "This is a measure of the spread of the distribution.  It is a measure of\n",
    "the typical or average deviation.\n",
    "\n",
    "It is also called the *standard deviation*."
   ]
  },
  {
   "cell_type": "code",
   "execution_count": 18,
   "metadata": {},
   "outputs": [
    {
     "data": {
      "text/plain": [
       "2.873068623192203"
      ]
     },
     "execution_count": 18,
     "metadata": {},
     "output_type": "execute_result"
    }
   ],
   "source": [
    "np.std(hgb)"
   ]
  },
  {
   "cell_type": "markdown",
   "metadata": {},
   "source": [
    "We can make our distribution have a standard center *and* a standard\n",
    "spread by dividing our mean-centered distribution, by the standard\n",
    "deviation.  Then the distribution will have a standard deviation very\n",
    "close to 1.\n",
    "\n",
    "This version of the distribution, with mean 0 and standard deviation of\n",
    "1, is called the *standardized* distribution."
   ]
  },
  {
   "cell_type": "code",
   "execution_count": 19,
   "metadata": {},
   "outputs": [
    {
     "data": {
      "text/plain": [
       "Text(0.5, 1.0, 'Standardized Hemoglobin')"
      ]
     },
     "execution_count": 19,
     "metadata": {},
     "output_type": "execute_result"
    },
    {
     "data": {
      "image/png": "[encoded data removed]",
      "text/plain": [
       "<Figure size 432x288 with 1 Axes>"
      ]
     },
     "metadata": {
      "needs_background": "light"
     },
     "output_type": "display_data"
    }
   ],
   "source": [
    "standardized_hgb = hgb_deviations / np.std(hgb)\n",
    "standardized_hgb.hist()\n",
    "plt.title('Standardized Hemoglobin')"
   ]
  },
  {
   "cell_type": "markdown",
   "metadata": {},
   "source": [
    "We can make a function to do this:"
   ]
  },
  {
   "cell_type": "code",
   "execution_count": 20,
   "metadata": {},
   "outputs": [],
   "source": [
    "def standard_units(x):\n",
    "    return (x - np.mean(x))/np.std(x)"
   ]
  },
  {
   "cell_type": "code",
   "execution_count": 21,
   "metadata": {},
   "outputs": [
    {
     "data": {
      "text/plain": [
       "Text(0.5, 1.0, 'Standardized Hemoglobin, again')"
      ]
     },
     "execution_count": 21,
     "metadata": {},
     "output_type": "execute_result"
    },
    {
     "data": {
      "image/png": "[encoded data removed]",
      "text/plain": [
       "<Figure size 432x288 with 1 Axes>"
      ]
     },
     "metadata": {
      "needs_background": "light"
     },
     "output_type": "display_data"
    }
   ],
   "source": [
    "std_hgb_again = standard_units(hgb)\n",
    "std_hgb_again.hist()\n",
    "plt.title('Standardized Hemoglobin, again')"
   ]
  },
  {
   "cell_type": "markdown",
   "metadata": {},
   "source": [
    "If we do the same to the WBC, we can compare values of the\n",
    "distributions:"
   ]
  },
  {
   "cell_type": "code",
   "execution_count": 22,
   "metadata": {},
   "outputs": [
    {
     "data": {
      "text/plain": [
       "Text(0.5, 1.0, 'Standardized White Blood Cell Count')"
      ]
     },
     "execution_count": 22,
     "metadata": {},
     "output_type": "execute_result"
    },
    {
     "data": {
      "image/png": "[encoded data removed]",
      "text/plain": [
       "<Figure size 432x288 with 1 Axes>"
      ]
     },
     "metadata": {
      "needs_background": "light"
     },
     "output_type": "display_data"
    }
   ],
   "source": [
    "std_wbc = standard_units(wbc)\n",
    "std_wbc.hist()\n",
    "plt.title('Standardized White Blood Cell Count')"
   ]
  },
  {
   "cell_type": "markdown",
   "metadata": {},
   "source": [
    "Now we can put both these distributions on the same graph, to compare them directly."
   ]
  },
  {
   "cell_type": "code",
   "execution_count": 23,
   "metadata": {},
   "outputs": [
    {
     "data": {
      "text/plain": [
       "<matplotlib.legend.Legend at 0x10fc92b10>"
      ]
     },
     "execution_count": 23,
     "metadata": {},
     "output_type": "execute_result"
    },
    {
     "data": {
      "image/png": "[encoded data removed]",
      "text/plain": [
       "<Figure size 432x288 with 1 Axes>"
      ]
     },
     "metadata": {
      "needs_background": "light"
     },
     "output_type": "display_data"
    }
   ],
   "source": [
    "std_hgb_again.hist(alpha=0.7, label='HGB')\n",
    "std_wbc.hist(alpha=0.7, label='WBC')\n",
    "plt.title('Standardized HGB and WBC')\n",
    "plt.legend()"
   ]
  },
  {
   "cell_type": "markdown",
   "metadata": {},
   "source": [
    "Every value in standardized units gives the deviation of the original\n",
    "value from its mean, in terms of the number of standard deviations."
   ]
  }
 ],
 "metadata": {
  "jupytext": {
   "notebook_metadata_filter": "all,-language_info",
   "split_at_heading": true
  },
  "kernelspec": {
   "display_name": "Python 3",
   "language": "python",
   "name": "python3"
  },
  "language_info": {
   "codemirror_mode": {
    "name": "ipython",
    "version": 3
   },
   "file_extension": ".py",
   "mimetype": "text/x-python",
   "name": "python",
   "nbconvert_exporter": "python",
   "pygments_lexer": "ipython3",
   "version": "3.7.6"
  }
 },
 "nbformat": 4,
 "nbformat_minor": 2
}
