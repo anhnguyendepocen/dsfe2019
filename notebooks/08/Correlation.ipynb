{
 "cells": [
  {
   "cell_type": "markdown",
   "metadata": {},
   "source": [
    "{% data8page Correlation %}"
   ]
  },
  {
   "cell_type": "code",
   "execution_count": 1,
   "metadata": {},
   "outputs": [],
   "source": [
    "# HIDDEN\n",
    "import numpy as np\n",
    "import pandas as pd\n",
    "%matplotlib inline\n",
    "import matplotlib.pyplot as plt\n",
    "plt.style.use('fivethirtyeight')\n",
    "from scipy import stats"
   ]
  },
  {
   "cell_type": "code",
   "execution_count": 2,
   "metadata": {},
   "outputs": [],
   "source": [
    "# HIDDEN\n",
    "def r_scatter(r):\n",
    "    plt.figure(figsize=(5,5))\n",
    "    \"Generate a scatter plot with a correlation approximately r\"\n",
    "    x = np.random.normal(0, 1, 1000)\n",
    "    z = np.random.normal(0, 1, 1000)\n",
    "    y = r*x + (np.sqrt(1-r**2))*z\n",
    "    plt.scatter(x, y)\n",
    "    plt.xlim(-4, 4)\n",
    "    plt.ylim(-4, 4)"
   ]
  },
  {
   "cell_type": "markdown",
   "metadata": {},
   "source": [
    "## Correlation ##\n",
    "\n",
    "In this section we will develop a measure of how tightly clustered\n",
    "a scatter diagram is about a straight line. Formally, this is called\n",
    "measuring *linear association*."
   ]
  },
  {
   "cell_type": "markdown",
   "metadata": {},
   "source": [
    "The table `hybrid` contains data on hybrid passenger cars sold in the\n",
    "United States from 1997 to 2013. The data were adapted from the online\n",
    "data archive of [Prof. Larry Winner](http://www.stat.ufl.edu/%7Ewinner/)\n",
    "of the University of Florida. The columns:\n",
    "\n",
    "- `vehicle`: model of the car\n",
    "- `year`: year of manufacture\n",
    "- `msrp`: manufacturer's suggested retail price in 2013 dollars\n",
    "- `acceleration`: acceleration rate in km per hour per second\n",
    "- `mpg`: fuel economy in miles per gallon\n",
    "- `class`: the model's class.\n",
    "\n",
    "You can download the file via [hybrid.csv]({{ site.baseurl\n",
    "}}/data/hybrid.csv)."
   ]
  },
  {
   "cell_type": "code",
   "execution_count": 3,
   "metadata": {},
   "outputs": [
    {
     "data": {
      "text/html": [
       "<div>\n",
       "<style scoped>\n",
       "    .dataframe tbody tr th:only-of-type {\n",
       "        vertical-align: middle;\n",
       "    }\n",
       "\n",
       "    .dataframe tbody tr th {\n",
       "        vertical-align: top;\n",
       "    }\n",
       "\n",
       "    .dataframe thead th {\n",
       "        text-align: right;\n",
       "    }\n",
       "</style>\n",
       "<table border=\"1\" class=\"dataframe\">\n",
       "  <thead>\n",
       "    <tr style=\"text-align: right;\">\n",
       "      <th></th>\n",
       "      <th>vehicle</th>\n",
       "      <th>year</th>\n",
       "      <th>msrp</th>\n",
       "      <th>acceleration</th>\n",
       "      <th>mpg</th>\n",
       "      <th>class</th>\n",
       "    </tr>\n",
       "  </thead>\n",
       "  <tbody>\n",
       "    <tr>\n",
       "      <th>0</th>\n",
       "      <td>Prius (1st Gen)</td>\n",
       "      <td>1997</td>\n",
       "      <td>24509.74</td>\n",
       "      <td>7.46</td>\n",
       "      <td>41.26</td>\n",
       "      <td>Compact</td>\n",
       "    </tr>\n",
       "    <tr>\n",
       "      <th>1</th>\n",
       "      <td>Tino</td>\n",
       "      <td>2000</td>\n",
       "      <td>35354.97</td>\n",
       "      <td>8.20</td>\n",
       "      <td>54.10</td>\n",
       "      <td>Compact</td>\n",
       "    </tr>\n",
       "    <tr>\n",
       "      <th>2</th>\n",
       "      <td>Prius (2nd Gen)</td>\n",
       "      <td>2000</td>\n",
       "      <td>26832.25</td>\n",
       "      <td>7.97</td>\n",
       "      <td>45.23</td>\n",
       "      <td>Compact</td>\n",
       "    </tr>\n",
       "    <tr>\n",
       "      <th>3</th>\n",
       "      <td>Insight</td>\n",
       "      <td>2000</td>\n",
       "      <td>18936.41</td>\n",
       "      <td>9.52</td>\n",
       "      <td>53.00</td>\n",
       "      <td>Two Seater</td>\n",
       "    </tr>\n",
       "    <tr>\n",
       "      <th>4</th>\n",
       "      <td>Civic (1st Gen)</td>\n",
       "      <td>2001</td>\n",
       "      <td>25833.38</td>\n",
       "      <td>7.04</td>\n",
       "      <td>47.04</td>\n",
       "      <td>Compact</td>\n",
       "    </tr>\n",
       "  </tbody>\n",
       "</table>\n",
       "</div>"
      ],
      "text/plain": [
       "           vehicle  year      msrp  acceleration    mpg       class\n",
       "0  Prius (1st Gen)  1997  24509.74          7.46  41.26     Compact\n",
       "1             Tino  2000  35354.97          8.20  54.10     Compact\n",
       "2  Prius (2nd Gen)  2000  26832.25          7.97  45.23     Compact\n",
       "3          Insight  2000  18936.41          9.52  53.00  Two Seater\n",
       "4  Civic (1st Gen)  2001  25833.38          7.04  47.04     Compact"
      ]
     },
     "execution_count": 3,
     "metadata": {},
     "output_type": "execute_result"
    }
   ],
   "source": [
    "hybrid = pd.read_csv('hybrid.csv')\n",
    "hybrid.head()"
   ]
  },
  {
   "cell_type": "markdown",
   "metadata": {},
   "source": [
    "The graph below is a scatter plot of `msrp` *versus* `acceleration`.\n",
    "That means `msrp` is plotted on the vertical axis and `accelaration` on\n",
    "the horizontal."
   ]
  },
  {
   "cell_type": "code",
   "execution_count": 4,
   "metadata": {},
   "outputs": [
    {
     "data": {
      "text/plain": [
       "<matplotlib.axes._subplots.AxesSubplot at 0x11ac15a58>"
      ]
     },
     "execution_count": 4,
     "metadata": {},
     "output_type": "execute_result"
    },
    {
     "data": {
      "image/png": "[encoded data removed]",
      "text/plain": [
       "<Figure size 432x288 with 1 Axes>"
      ]
     },
     "metadata": {
      "needs_background": "light"
     },
     "output_type": "display_data"
    }
   ],
   "source": [
    "hybrid.plot.scatter('acceleration', 'msrp')"
   ]
  },
  {
   "cell_type": "markdown",
   "metadata": {},
   "source": [
    "Notice the positive association. The scatter of points is sloping\n",
    "upwards, indicating that cars with greater acceleration tended to cost\n",
    "more, on average; conversely, the cars that cost more tended to have\n",
    "greater acceleration on average. \n",
    "\n",
    "The scatter diagram of MSRP versus miles per gallon shows a negative\n",
    "association. Hybrid cars with higher miles per gallon tended to cost\n",
    "less, on average. This seems surprising till you consider that cars that\n",
    "accelerate fast tend to be less fuel efficient and have lower miles per\n",
    "gallon. As the previous scatter plot showed, those were also the cars\n",
    "that tended to cost more."
   ]
  },
  {
   "cell_type": "code",
   "execution_count": 5,
   "metadata": {},
   "outputs": [
    {
     "data": {
      "text/plain": [
       "<matplotlib.axes._subplots.AxesSubplot at 0x11cd28be0>"
      ]
     },
     "execution_count": 5,
     "metadata": {},
     "output_type": "execute_result"
    },
    {
     "data": {
      "image/png": "[encoded data removed]",
      "text/plain": [
       "<Figure size 432x288 with 1 Axes>"
      ]
     },
     "metadata": {
      "needs_background": "light"
     },
     "output_type": "display_data"
    }
   ],
   "source": [
    "hybrid.plot.scatter('mpg', 'msrp')"
   ]
  },
  {
   "cell_type": "markdown",
   "metadata": {},
   "source": [
    "Along with the negative association, the scatter diagram of price versus\n",
    "efficiency shows a non-linear relation between the two variables. The\n",
    "points appear to be clustered around a curve, not around a straight\n",
    "line.\n",
    "\n",
    "If we restrict the data just to the SUV class, however, the association\n",
    "between price and efficiency is still negative but the relation appears\n",
    "to be more linear. The relation between the price and acceleration of\n",
    "SUVs also shows a linear trend, but with a positive slope."
   ]
  },
  {
   "cell_type": "code",
   "execution_count": 6,
   "metadata": {},
   "outputs": [
    {
     "data": {
      "text/plain": [
       "<matplotlib.axes._subplots.AxesSubplot at 0x11cd69ba8>"
      ]
     },
     "execution_count": 6,
     "metadata": {},
     "output_type": "execute_result"
    },
    {
     "data": {
      "image/png": "[encoded data removed]",
      "text/plain": [
       "<Figure size 432x288 with 1 Axes>"
      ]
     },
     "metadata": {
      "needs_background": "light"
     },
     "output_type": "display_data"
    }
   ],
   "source": [
    "suv = hybrid[hybrid['class'] == 'SUV']\n",
    "suv.plot.scatter('mpg', 'msrp')"
   ]
  },
  {
   "cell_type": "code",
   "execution_count": 7,
   "metadata": {},
   "outputs": [
    {
     "data": {
      "text/plain": [
       "<matplotlib.axes._subplots.AxesSubplot at 0x11cf0c400>"
      ]
     },
     "execution_count": 7,
     "metadata": {},
     "output_type": "execute_result"
    },
    {
     "data": {
      "image/png": "[encoded data removed]",
      "text/plain": [
       "<Figure size 432x288 with 1 Axes>"
      ]
     },
     "metadata": {
      "needs_background": "light"
     },
     "output_type": "display_data"
    }
   ],
   "source": [
    "suv.plot.scatter('acceleration', 'msrp')"
   ]
  },
  {
   "cell_type": "markdown",
   "metadata": {},
   "source": [
    "You will have noticed that we can derive useful information from the\n",
    "general orientation and shape of a scatter diagram even without paying\n",
    "attention to the units in which the variables were measured.\n",
    "\n",
    "Indeed, we could plot all the variables in standard units and the plot\n",
    "would look the same. This gives us a way to compare the degree of\n",
    "linearity in two scatter diagrams.\n",
    "\n",
    "Recall that in an earlier section we defined the function\n",
    "`standard_units` to convert an array of numbers to standard units."
   ]
  },
  {
   "cell_type": "code",
   "execution_count": 8,
   "metadata": {},
   "outputs": [],
   "source": [
    "def standard_units(x):\n",
    "    \"Convert any array of numbers to standard units.\"\n",
    "    return (x - np.mean(x))/np.std(x)"
   ]
  },
  {
   "cell_type": "markdown",
   "metadata": {},
   "source": [
    "We can use this function to re-draw the two scatter diagrams for SUVs,\n",
    "with all the variables measured in standard units."
   ]
  },
  {
   "cell_type": "code",
   "execution_count": 9,
   "metadata": {},
   "outputs": [
    {
     "data": {
      "image/png": "[encoded data removed]",
      "text/plain": [
       "<Figure size 432x288 with 1 Axes>"
      ]
     },
     "metadata": {
      "needs_background": "light"
     },
     "output_type": "display_data"
    }
   ],
   "source": [
    "suv_mpg_su = standard_units(suv['mpg'])\n",
    "suv_msrp_su = standard_units(suv['msrp'])\n",
    "plt.plot(suv_mpg_su, suv_msrp_su, 'o')\n",
    "plt.xlabel('mpg (standard units)')\n",
    "plt.xlabel('msrp (standard units)')\n",
    "plt.xlim(-3, 3)\n",
    "plt.ylim(-3, 3);"
   ]
  },
  {
   "cell_type": "code",
   "execution_count": 10,
   "metadata": {},
   "outputs": [
    {
     "data": {
      "image/png": "[encoded data removed]",
      "text/plain": [
       "<Figure size 432x288 with 1 Axes>"
      ]
     },
     "metadata": {
      "needs_background": "light"
     },
     "output_type": "display_data"
    }
   ],
   "source": [
    "plt.plot(standard_units(suv['acceleration']),\n",
    "         standard_units(suv['msrp']), 'o')\n",
    "plt.xlabel('acceleration (standard units)')\n",
    "plt.xlabel('msrp (standard units)')\n",
    "plt.xlim(-3, 3)\n",
    "plt.ylim(-3, 3);"
   ]
  },
  {
   "cell_type": "markdown",
   "metadata": {},
   "source": [
    "The associations that we see in these figures are the same as those we\n",
    "saw before. Also, because the two scatter diagrams are now drawn on\n",
    "exactly the same scale, we can see that the linear relation in the\n",
    "second diagram is a little more fuzzy than in the first.\n",
    "\n",
    "We will now define a measure that uses standard units to quantify the\n",
    "kinds of association that we have seen.\n"
   ]
  },
  {
   "cell_type": "markdown",
   "metadata": {},
   "source": [
    "## The correlation coefficient ##\n",
    "\n",
    "The *correlation coefficient* measures the strength of the linear\n",
    "relationship between two variables. Graphically, it measures how\n",
    "clustered the scatter diagram is around a straight line.\n",
    "\n",
    "The term *correlation coefficient* isn't easy to say, so it is usually\n",
    "shortened to *correlation* and denoted by $r$.\n",
    "\n",
    "Here are some mathematical facts about $r$ that we will just observe by\n",
    "simulation.\n",
    "\n",
    "- The correlation coefficient $r$ is a number between $-1$ and 1.\n",
    "- $r$ measures the extent to which the scatter plot clusters around\n",
    "  a straight line.\n",
    "- $r = 1$ if the scatter diagram is a perfect straight line sloping\n",
    "  upwards, and $r = -1$ if the scatter diagram is a perfect straight\n",
    "  line sloping downwards."
   ]
  },
  {
   "cell_type": "markdown",
   "metadata": {},
   "source": [
    "The function ``r_scatter`` takes a value of $r$ as its argument and\n",
    "simulates a scatter plot with a correlation very close to $r$. Because\n",
    "of randomness in the simulation, the correlation is not expected to be\n",
    "exactly equal to $r$.\n",
    "\n",
    "Call ``r_scatter`` a few times, with different values of $r$ as the\n",
    "argument, and see how the scatter plot changes. \n",
    "\n",
    "When $r=1$ the scatter plot is perfectly linear and slopes upward. When\n",
    "$r=-1$, the scatter plot is perfectly linear and slopes downward. When\n",
    "$r=0$, the scatter plot is a formless cloud around the horizontal axis,\n",
    "and the variables are said to be *uncorrelated*."
   ]
  },
  {
   "cell_type": "code",
   "execution_count": 11,
   "metadata": {},
   "outputs": [
    {
     "data": {
      "image/png": "[encoded data removed]",
      "text/plain": [
       "<Figure size 360x360 with 1 Axes>"
      ]
     },
     "metadata": {
      "needs_background": "light"
     },
     "output_type": "display_data"
    }
   ],
   "source": [
    "r_scatter(0.9)"
   ]
  },
  {
   "cell_type": "code",
   "execution_count": 12,
   "metadata": {},
   "outputs": [
    {
     "data": {
      "image/png": "[encoded data removed]",
      "text/plain": [
       "<Figure size 360x360 with 1 Axes>"
      ]
     },
     "metadata": {
      "needs_background": "light"
     },
     "output_type": "display_data"
    }
   ],
   "source": [
    "r_scatter(0.25)"
   ]
  },
  {
   "cell_type": "code",
   "execution_count": 13,
   "metadata": {},
   "outputs": [
    {
     "data": {
      "image/png": "[encoded data removed]",
      "text/plain": [
       "<Figure size 360x360 with 1 Axes>"
      ]
     },
     "metadata": {
      "needs_background": "light"
     },
     "output_type": "display_data"
    }
   ],
   "source": [
    "r_scatter(0)"
   ]
  },
  {
   "cell_type": "code",
   "execution_count": 14,
   "metadata": {},
   "outputs": [
    {
     "data": {
      "image/png": "[encoded data removed]",
      "text/plain": [
       "<Figure size 360x360 with 1 Axes>"
      ]
     },
     "metadata": {
      "needs_background": "light"
     },
     "output_type": "display_data"
    }
   ],
   "source": [
    "r_scatter(-0.55)"
   ]
  },
  {
   "cell_type": "markdown",
   "metadata": {},
   "source": [
    "## $r$ is the least squares slope in standard units\n",
    "\n",
    "Imagine we are interested in the least squares straight line relating the 'mpg' values *in standard units* to the 'mrsp' values *in standard units*.\n",
    "\n",
    "We would follow the recipe we know from our previous regressions."
   ]
  },
  {
   "cell_type": "code",
   "execution_count": 15,
   "metadata": {},
   "outputs": [],
   "source": [
    "def ss_any_line(c_s, x_values, y_values):\n",
    "    c, s = c_s\n",
    "    predicted = c + x_values * s\n",
    "    error = y_values - predicted\n",
    "    return np.sum(error ** 2)"
   ]
  },
  {
   "cell_type": "markdown",
   "metadata": {},
   "source": [
    "Find the best intercept and slope:"
   ]
  },
  {
   "cell_type": "code",
   "execution_count": 16,
   "metadata": {},
   "outputs": [
    {
     "name": "stdout",
     "output_type": "stream",
     "text": [
      "Intercept 0.0\n",
      "Slope -0.6667143664191213\n"
     ]
    }
   ],
   "source": [
    "from scipy.optimize import minimize\n",
    "best_c, best_s = minimize(ss_any_line, [0, -0.5],\n",
    "                          args=(suv_mpg_su, suv_msrp_su)).x\n",
    "print('Intercept', best_c)\n",
    "print('Slope', best_s)"
   ]
  },
  {
   "cell_type": "markdown",
   "metadata": {},
   "source": [
    "Notice that the intercept is exactly (or very close to) zero.  In fact, it turns out that\n",
    "this will always be so *when we calculate the line on arrays in standard\n",
    "units*.\n",
    "\n",
    "The slope is $r$ - the correlation coefficient.\n",
    "\n",
    "**The correlation coefficient is the least-squares slope between the two input arrays that have been converted to standard units**.\n",
    "\n",
    "We will soon see that we can get this same value, without using `minimize`, using a simple calculation on the x and y values."
   ]
  },
  {
   "cell_type": "markdown",
   "metadata": {},
   "source": [
    "## $r$ by calculation\n",
    "\n",
    "The formula for $r$ is not apparent from our observations so far. It has\n",
    "a mathematical basis that is outside the scope of this class. However,\n",
    "as you will see, the calculation is straightforward and helps us\n",
    "understand several of the properties of $r$.\n",
    "\n",
    "**Formula for $r$**:\n",
    "\n",
    "**$r$ is the average of the products of the two variables, when both\n",
    "variables are measured in standard units.**\n",
    "\n",
    "Here are the steps in the calculation. We will apply the steps to\n",
    "a simple table of values of $x$ and $y$."
   ]
  },
  {
   "cell_type": "code",
   "execution_count": 17,
   "metadata": {},
   "outputs": [
    {
     "data": {
      "text/html": [
       "<div>\n",
       "<style scoped>\n",
       "    .dataframe tbody tr th:only-of-type {\n",
       "        vertical-align: middle;\n",
       "    }\n",
       "\n",
       "    .dataframe tbody tr th {\n",
       "        vertical-align: top;\n",
       "    }\n",
       "\n",
       "    .dataframe thead th {\n",
       "        text-align: right;\n",
       "    }\n",
       "</style>\n",
       "<table border=\"1\" class=\"dataframe\">\n",
       "  <thead>\n",
       "    <tr style=\"text-align: right;\">\n",
       "      <th></th>\n",
       "      <th>x</th>\n",
       "      <th>y</th>\n",
       "    </tr>\n",
       "  </thead>\n",
       "  <tbody>\n",
       "    <tr>\n",
       "      <th>0</th>\n",
       "      <td>1</td>\n",
       "      <td>2</td>\n",
       "    </tr>\n",
       "    <tr>\n",
       "      <th>1</th>\n",
       "      <td>2</td>\n",
       "      <td>3</td>\n",
       "    </tr>\n",
       "    <tr>\n",
       "      <th>2</th>\n",
       "      <td>3</td>\n",
       "      <td>1</td>\n",
       "    </tr>\n",
       "    <tr>\n",
       "      <th>3</th>\n",
       "      <td>4</td>\n",
       "      <td>5</td>\n",
       "    </tr>\n",
       "    <tr>\n",
       "      <th>4</th>\n",
       "      <td>5</td>\n",
       "      <td>2</td>\n",
       "    </tr>\n",
       "    <tr>\n",
       "      <th>5</th>\n",
       "      <td>6</td>\n",
       "      <td>7</td>\n",
       "    </tr>\n",
       "  </tbody>\n",
       "</table>\n",
       "</div>"
      ],
      "text/plain": [
       "   x  y\n",
       "0  1  2\n",
       "1  2  3\n",
       "2  3  1\n",
       "3  4  5\n",
       "4  5  2\n",
       "5  6  7"
      ]
     },
     "execution_count": 17,
     "metadata": {},
     "output_type": "execute_result"
    }
   ],
   "source": [
    "x = np.arange(1, 7)\n",
    "y = np.array([2, 3, 1, 5, 2, 7])\n",
    "t = pd.DataFrame()\n",
    "t['x'] = x\n",
    "t['y'] = y\n",
    "t"
   ]
  },
  {
   "cell_type": "markdown",
   "metadata": {},
   "source": [
    "Based on the scatter diagram, we expect that $r$ will be positive but\n",
    "not equal to 1."
   ]
  },
  {
   "cell_type": "code",
   "execution_count": 18,
   "metadata": {},
   "outputs": [
    {
     "data": {
      "text/plain": [
       "<matplotlib.axes._subplots.AxesSubplot at 0x11d8f6860>"
      ]
     },
     "execution_count": 18,
     "metadata": {},
     "output_type": "execute_result"
    },
    {
     "data": {
      "image/png": "[encoded data removed]",
      "text/plain": [
       "<Figure size 432x288 with 1 Axes>"
      ]
     },
     "metadata": {
      "needs_background": "light"
     },
     "output_type": "display_data"
    }
   ],
   "source": [
    "t.plot.scatter('x', 'y', s=30, color='red')"
   ]
  },
  {
   "cell_type": "markdown",
   "metadata": {},
   "source": [
    "**Step 1.** Convert each variable to standard units."
   ]
  },
  {
   "cell_type": "code",
   "execution_count": 19,
   "metadata": {},
   "outputs": [
    {
     "data": {
      "text/html": [
       "<div>\n",
       "<style scoped>\n",
       "    .dataframe tbody tr th:only-of-type {\n",
       "        vertical-align: middle;\n",
       "    }\n",
       "\n",
       "    .dataframe tbody tr th {\n",
       "        vertical-align: top;\n",
       "    }\n",
       "\n",
       "    .dataframe thead th {\n",
       "        text-align: right;\n",
       "    }\n",
       "</style>\n",
       "<table border=\"1\" class=\"dataframe\">\n",
       "  <thead>\n",
       "    <tr style=\"text-align: right;\">\n",
       "      <th></th>\n",
       "      <th>x (standard units)</th>\n",
       "      <th>y (standard units)</th>\n",
       "    </tr>\n",
       "  </thead>\n",
       "  <tbody>\n",
       "    <tr>\n",
       "      <th>0</th>\n",
       "      <td>-1.46385</td>\n",
       "      <td>-0.648886</td>\n",
       "    </tr>\n",
       "    <tr>\n",
       "      <th>1</th>\n",
       "      <td>-0.87831</td>\n",
       "      <td>-0.162221</td>\n",
       "    </tr>\n",
       "    <tr>\n",
       "      <th>2</th>\n",
       "      <td>-0.29277</td>\n",
       "      <td>-1.135550</td>\n",
       "    </tr>\n",
       "    <tr>\n",
       "      <th>3</th>\n",
       "      <td>0.29277</td>\n",
       "      <td>0.811107</td>\n",
       "    </tr>\n",
       "    <tr>\n",
       "      <th>4</th>\n",
       "      <td>0.87831</td>\n",
       "      <td>-0.648886</td>\n",
       "    </tr>\n",
       "    <tr>\n",
       "      <th>5</th>\n",
       "      <td>1.46385</td>\n",
       "      <td>1.784436</td>\n",
       "    </tr>\n",
       "  </tbody>\n",
       "</table>\n",
       "</div>"
      ],
      "text/plain": [
       "   x (standard units)  y (standard units)\n",
       "0            -1.46385           -0.648886\n",
       "1            -0.87831           -0.162221\n",
       "2            -0.29277           -1.135550\n",
       "3             0.29277            0.811107\n",
       "4             0.87831           -0.648886\n",
       "5             1.46385            1.784436"
      ]
     },
     "execution_count": 19,
     "metadata": {},
     "output_type": "execute_result"
    }
   ],
   "source": [
    "t_su = pd.DataFrame()\n",
    "t_su['x (standard units)'] = standard_units(x)\n",
    "t_su['y (standard units)'] = standard_units(y)\n",
    "t_su"
   ]
  },
  {
   "cell_type": "markdown",
   "metadata": {},
   "source": [
    "**Step 2.** Multiply each pair of standard units."
   ]
  },
  {
   "cell_type": "code",
   "execution_count": 20,
   "metadata": {},
   "outputs": [
    {
     "data": {
      "text/html": [
       "<div>\n",
       "<style scoped>\n",
       "    .dataframe tbody tr th:only-of-type {\n",
       "        vertical-align: middle;\n",
       "    }\n",
       "\n",
       "    .dataframe tbody tr th {\n",
       "        vertical-align: top;\n",
       "    }\n",
       "\n",
       "    .dataframe thead th {\n",
       "        text-align: right;\n",
       "    }\n",
       "</style>\n",
       "<table border=\"1\" class=\"dataframe\">\n",
       "  <thead>\n",
       "    <tr style=\"text-align: right;\">\n",
       "      <th></th>\n",
       "      <th>x (standard units)</th>\n",
       "      <th>y (standard units)</th>\n",
       "      <th>product of standard units</th>\n",
       "    </tr>\n",
       "  </thead>\n",
       "  <tbody>\n",
       "    <tr>\n",
       "      <th>0</th>\n",
       "      <td>-1.46385</td>\n",
       "      <td>-0.648886</td>\n",
       "      <td>0.949871</td>\n",
       "    </tr>\n",
       "    <tr>\n",
       "      <th>1</th>\n",
       "      <td>-0.87831</td>\n",
       "      <td>-0.162221</td>\n",
       "      <td>0.142481</td>\n",
       "    </tr>\n",
       "    <tr>\n",
       "      <th>2</th>\n",
       "      <td>-0.29277</td>\n",
       "      <td>-1.135550</td>\n",
       "      <td>0.332455</td>\n",
       "    </tr>\n",
       "    <tr>\n",
       "      <th>3</th>\n",
       "      <td>0.29277</td>\n",
       "      <td>0.811107</td>\n",
       "      <td>0.237468</td>\n",
       "    </tr>\n",
       "    <tr>\n",
       "      <th>4</th>\n",
       "      <td>0.87831</td>\n",
       "      <td>-0.648886</td>\n",
       "      <td>-0.569923</td>\n",
       "    </tr>\n",
       "    <tr>\n",
       "      <th>5</th>\n",
       "      <td>1.46385</td>\n",
       "      <td>1.784436</td>\n",
       "      <td>2.612146</td>\n",
       "    </tr>\n",
       "  </tbody>\n",
       "</table>\n",
       "</div>"
      ],
      "text/plain": [
       "   x (standard units)  y (standard units)  product of standard units\n",
       "0            -1.46385           -0.648886                   0.949871\n",
       "1            -0.87831           -0.162221                   0.142481\n",
       "2            -0.29277           -1.135550                   0.332455\n",
       "3             0.29277            0.811107                   0.237468\n",
       "4             0.87831           -0.648886                  -0.569923\n",
       "5             1.46385            1.784436                   2.612146"
      ]
     },
     "execution_count": 20,
     "metadata": {},
     "output_type": "execute_result"
    }
   ],
   "source": [
    "t_product = t_su['x (standard units)'] * t_su['y (standard units)']\n",
    "t_su['product of standard units'] = t_product\n",
    "t_su"
   ]
  },
  {
   "cell_type": "markdown",
   "metadata": {},
   "source": [
    "**Step 3.** $r$ is the average of the products computed in Step 2."
   ]
  },
  {
   "cell_type": "code",
   "execution_count": 21,
   "metadata": {},
   "outputs": [
    {
     "data": {
      "text/plain": [
       "0.6174163971897709"
      ]
     },
     "execution_count": 21,
     "metadata": {},
     "output_type": "execute_result"
    }
   ],
   "source": [
    "# r is the average of the products of standard units\n",
    "r = np.mean(t_su['product of standard units'])\n",
    "r"
   ]
  },
  {
   "cell_type": "markdown",
   "metadata": {},
   "source": [
    "As expected, $r$ is positive but not equal to 1.\n"
   ]
  },
  {
   "cell_type": "markdown",
   "metadata": {},
   "source": [
    "## Properties of $r$\n",
    "\n",
    "The calculation shows that:\n",
    "\n",
    "- $r$ is a pure number. It has no units. This is because $r$ is based on\n",
    "  standard units.\n",
    "- $r$ is unaffected by changing the units on either axis. This too is\n",
    "  because $r$ is based on standard units.\n",
    "- $r$ is unaffected by switching the axes. Algebraically, this is\n",
    "  because the product of standard units does not depend on which\n",
    "  variable is called $x$ and which $y$. Geometrically, switching axes\n",
    "  reflects the scatter plot about the line $y=x$, but does not change\n",
    "  the amount of clustering nor the sign of the association."
   ]
  },
  {
   "cell_type": "code",
   "execution_count": 22,
   "metadata": {},
   "outputs": [
    {
     "data": {
      "text/plain": [
       "<matplotlib.axes._subplots.AxesSubplot at 0x11d8970f0>"
      ]
     },
     "execution_count": 22,
     "metadata": {},
     "output_type": "execute_result"
    },
    {
     "data": {
      "image/png": "[encoded data removed]",
      "text/plain": [
       "<Figure size 432x288 with 1 Axes>"
      ]
     },
     "metadata": {
      "needs_background": "light"
     },
     "output_type": "display_data"
    }
   ],
   "source": [
    "t.plot.scatter('y', 'x', s=30, color='red')"
   ]
  },
  {
   "cell_type": "markdown",
   "metadata": {},
   "source": [
    "### The `correlation` function\n",
    "\n",
    "We are going to be calculating correlations repeatedly, so it will help\n",
    "to define a function that computes it by performing all the steps\n",
    "described above. Let's define a function ``correlation`` that takes\n",
    "a table and the labels of two columns in the table. The function returns\n",
    "$r$, the mean of the products of those column values in standard units."
   ]
  },
  {
   "cell_type": "code",
   "execution_count": 23,
   "metadata": {},
   "outputs": [],
   "source": [
    "def correlation(t, x_name, y_name):\n",
    "    \"\"\" Correlation by calculation\n",
    "    \"\"\"\n",
    "    x = t[x_name]\n",
    "    y = t[y_name]\n",
    "    return np.mean(standard_units(x) * standard_units(y))"
   ]
  },
  {
   "cell_type": "markdown",
   "metadata": {},
   "source": [
    "This is a `minimize` version of the function - it will return very similar results:"
   ]
  },
  {
   "cell_type": "code",
   "execution_count": 24,
   "metadata": {},
   "outputs": [],
   "source": [
    "def correlation_minimize(t, x_name, y_name):\n",
    "    \"\"\" Correlation by minimization\n",
    "    \"\"\"\n",
    "    x = t[x_name]\n",
    "    y = t[y_name]\n",
    "    x_su, y_su = standard_units(x), standard_units(y)\n",
    "    intercept, slope = minimize(ss_any_line, [0, 1], args=(x_su, y_su)).x\n",
    "    if not np.isclose(intercept, 0):\n",
    "        print('Oh dear, intercept not near 0')\n",
    "    return slope"
   ]
  },
  {
   "cell_type": "markdown",
   "metadata": {},
   "source": [
    "Let's call the function on the ``x`` and ``y`` columns of ``t``. The\n",
    "function returns the same answer to the correlation between $x$ and $y$\n",
    "as we got by direct application of the formula for $r$. "
   ]
  },
  {
   "cell_type": "code",
   "execution_count": 25,
   "metadata": {},
   "outputs": [
    {
     "data": {
      "text/plain": [
       "0.6174163971897709"
      ]
     },
     "execution_count": 25,
     "metadata": {},
     "output_type": "execute_result"
    }
   ],
   "source": [
    "correlation(t, 'x', 'y')"
   ]
  },
  {
   "cell_type": "markdown",
   "metadata": {},
   "source": [
    "The minimize version returns almost exactly the same result:"
   ]
  },
  {
   "cell_type": "code",
   "execution_count": 26,
   "metadata": {},
   "outputs": [
    {
     "data": {
      "text/plain": [
       "0.6174163997127619"
      ]
     },
     "execution_count": 26,
     "metadata": {},
     "output_type": "execute_result"
    }
   ],
   "source": [
    "correlation_minimize(t, 'x', 'y')"
   ]
  },
  {
   "cell_type": "markdown",
   "metadata": {},
   "source": [
    "As we noticed, the order in which the variables are specified doesn't\n",
    "matter."
   ]
  },
  {
   "cell_type": "code",
   "execution_count": 27,
   "metadata": {},
   "outputs": [
    {
     "data": {
      "text/plain": [
       "0.6174163971897709"
      ]
     },
     "execution_count": 27,
     "metadata": {},
     "output_type": "execute_result"
    }
   ],
   "source": [
    "correlation(t, 'y', 'x')"
   ]
  },
  {
   "cell_type": "markdown",
   "metadata": {},
   "source": [
    "Calling ``correlation`` on columns of the table ``suv`` gives us the\n",
    "correlation between price and miles per gallon as well as the\n",
    "correlation between price and acceleration."
   ]
  },
  {
   "cell_type": "code",
   "execution_count": 28,
   "metadata": {},
   "outputs": [
    {
     "data": {
      "text/plain": [
       "-0.6667143635709919"
      ]
     },
     "execution_count": 28,
     "metadata": {},
     "output_type": "execute_result"
    }
   ],
   "source": [
    "correlation(suv, 'mpg', 'msrp')"
   ]
  },
  {
   "cell_type": "code",
   "execution_count": 29,
   "metadata": {},
   "outputs": [
    {
     "data": {
      "text/plain": [
       "0.48699799279959155"
      ]
     },
     "execution_count": 29,
     "metadata": {},
     "output_type": "execute_result"
    }
   ],
   "source": [
    "correlation(suv, 'acceleration', 'msrp')"
   ]
  },
  {
   "cell_type": "markdown",
   "metadata": {},
   "source": [
    "These values confirm what we had observed: \n",
    "\n",
    "- There is a negative association between price and efficiency, whereas\n",
    "  the association between price and acceleration is positive.\n",
    "- The linear relation between price and acceleration is a little weaker\n",
    "  (correlation about 0.5) than between price and miles per gallon\n",
    "  (correlation about -0.67)."
   ]
  },
  {
   "cell_type": "markdown",
   "metadata": {},
   "source": [
    "Correlation is a simple and powerful concept, but it is sometimes\n",
    "misused. Before using $r$, it is important to be aware of what\n",
    "correlation does and does not measure.\n"
   ]
  },
  {
   "cell_type": "markdown",
   "metadata": {},
   "source": [
    "### Association is not Causation\n",
    "\n",
    "Correlation only measures association. Correlation does not imply\n",
    "causation. Though the correlation between the weight and the math\n",
    "ability of children in a school district may be positive, that does not\n",
    "mean that doing math makes children heavier or that putting on weight\n",
    "improves the children's math skills. Age is a confounding variable:\n",
    "older children are both heavier and better at math than younger\n",
    "children, on average.\n"
   ]
  },
  {
   "cell_type": "markdown",
   "metadata": {},
   "source": [
    "### Correlation Measures *Linear* Association\n",
    "\n",
    "Correlation measures only one kind of association – linear. Variables\n",
    "that have strong non-linear association might have very low correlation.\n",
    "Here is an example of variables that have a perfect quadratic relation\n",
    "$y = x^2$ but have correlation equal to 0."
   ]
  },
  {
   "cell_type": "code",
   "execution_count": 30,
   "metadata": {},
   "outputs": [
    {
     "data": {
      "image/png": "[encoded data removed]",
      "text/plain": [
       "<Figure size 432x288 with 1 Axes>"
      ]
     },
     "metadata": {
      "needs_background": "light"
     },
     "output_type": "display_data"
    }
   ],
   "source": [
    "new_x = np.arange(-4, 4.1, 0.5)\n",
    "nonlinear = pd.DataFrame()\n",
    "nonlinear['x'] = new_x\n",
    "nonlinear['y'] = new_x ** 2\n",
    "nonlinear.plot.scatter('x', 'y', s=30, color='r');"
   ]
  },
  {
   "cell_type": "code",
   "execution_count": 31,
   "metadata": {},
   "outputs": [
    {
     "data": {
      "text/plain": [
       "0.0"
      ]
     },
     "execution_count": 31,
     "metadata": {},
     "output_type": "execute_result"
    }
   ],
   "source": [
    "correlation(nonlinear, 'x', 'y')"
   ]
  },
  {
   "cell_type": "markdown",
   "metadata": {},
   "source": [
    "### Correlation is Affected by Outliers\n",
    "\n",
    "Outliers can have a big effect on correlation. Here is an example where\n",
    "a scatter plot for which $r$ is equal to 1 is turned into a plot for\n",
    "which $r$ is equal to 0, by the addition of just one outlying point."
   ]
  },
  {
   "cell_type": "code",
   "execution_count": 32,
   "metadata": {},
   "outputs": [
    {
     "data": {
      "text/plain": [
       "<matplotlib.axes._subplots.AxesSubplot at 0x11db2b748>"
      ]
     },
     "execution_count": 32,
     "metadata": {},
     "output_type": "execute_result"
    },
    {
     "data": {
      "image/png": "[encoded data removed]",
      "text/plain": [
       "<Figure size 432x288 with 1 Axes>"
      ]
     },
     "metadata": {
      "needs_background": "light"
     },
     "output_type": "display_data"
    }
   ],
   "source": [
    "line = pd.DataFrame()\n",
    "line['x'] = np.array([1, 2, 3, 4])\n",
    "line['y'] = np.array([1, 2, 3, 4])\n",
    "line.plot.scatter('x', 'y', s=30, color='r')"
   ]
  },
  {
   "cell_type": "code",
   "execution_count": 33,
   "metadata": {},
   "outputs": [
    {
     "data": {
      "text/plain": [
       "1.0"
      ]
     },
     "execution_count": 33,
     "metadata": {},
     "output_type": "execute_result"
    }
   ],
   "source": [
    "correlation(line, 'x', 'y')"
   ]
  },
  {
   "cell_type": "code",
   "execution_count": 34,
   "metadata": {},
   "outputs": [
    {
     "data": {
      "image/png": "[encoded data removed]",
      "text/plain": [
       "<Figure size 432x288 with 1 Axes>"
      ]
     },
     "metadata": {
      "needs_background": "light"
     },
     "output_type": "display_data"
    }
   ],
   "source": [
    "outlier = pd.DataFrame()\n",
    "outlier['x'] = np.array([1, 2, 3, 4, 5])\n",
    "outlier['y'] = np.array([1, 2, 3, 4, 0])\n",
    "outlier.plot.scatter('x', 'y', s=30, color='r');"
   ]
  },
  {
   "cell_type": "code",
   "execution_count": 35,
   "metadata": {},
   "outputs": [
    {
     "data": {
      "text/plain": [
       "0.0"
      ]
     },
     "execution_count": 35,
     "metadata": {},
     "output_type": "execute_result"
    }
   ],
   "source": [
    "correlation(outlier, 'x', 'y')"
   ]
  },
  {
   "cell_type": "markdown",
   "metadata": {},
   "source": [
    "### Ecological Correlations Should be Interpreted with Care\n",
    "\n",
    "Correlations based on aggregated data can be misleading. As an example,\n",
    "here are data on the Critical Reading and Math SAT scores in 2014. There\n",
    "is one point for each of the 50 states and one for Washington, D.C. The\n",
    "column ``Participation Rate`` contains the percent of high school\n",
    "seniors who took the test. The next three columns show the average score\n",
    "in the state on each portion of the test, and the final column is the\n",
    "average of the total scores on the test.\n",
    "\n",
    "You can download the file via [sat2014.csv]({{ site.baseurl\n",
    "}}/data/sat2014.csv)."
   ]
  },
  {
   "cell_type": "code",
   "execution_count": 36,
   "metadata": {},
   "outputs": [
    {
     "data": {
      "text/html": [
       "<div>\n",
       "<style scoped>\n",
       "    .dataframe tbody tr th:only-of-type {\n",
       "        vertical-align: middle;\n",
       "    }\n",
       "\n",
       "    .dataframe tbody tr th {\n",
       "        vertical-align: top;\n",
       "    }\n",
       "\n",
       "    .dataframe thead th {\n",
       "        text-align: right;\n",
       "    }\n",
       "</style>\n",
       "<table border=\"1\" class=\"dataframe\">\n",
       "  <thead>\n",
       "    <tr style=\"text-align: right;\">\n",
       "      <th></th>\n",
       "      <th>State</th>\n",
       "      <th>Participation Rate</th>\n",
       "      <th>Critical Reading</th>\n",
       "      <th>Math</th>\n",
       "      <th>Writing</th>\n",
       "      <th>Combined</th>\n",
       "    </tr>\n",
       "  </thead>\n",
       "  <tbody>\n",
       "    <tr>\n",
       "      <th>21</th>\n",
       "      <td>Alabama</td>\n",
       "      <td>6.7</td>\n",
       "      <td>547</td>\n",
       "      <td>538</td>\n",
       "      <td>532</td>\n",
       "      <td>1617</td>\n",
       "    </tr>\n",
       "    <tr>\n",
       "      <th>34</th>\n",
       "      <td>Alaska</td>\n",
       "      <td>54.2</td>\n",
       "      <td>507</td>\n",
       "      <td>503</td>\n",
       "      <td>475</td>\n",
       "      <td>1485</td>\n",
       "    </tr>\n",
       "    <tr>\n",
       "      <th>26</th>\n",
       "      <td>Arizona</td>\n",
       "      <td>36.4</td>\n",
       "      <td>522</td>\n",
       "      <td>525</td>\n",
       "      <td>500</td>\n",
       "      <td>1547</td>\n",
       "    </tr>\n",
       "    <tr>\n",
       "      <th>15</th>\n",
       "      <td>Arkansas</td>\n",
       "      <td>4.2</td>\n",
       "      <td>573</td>\n",
       "      <td>571</td>\n",
       "      <td>554</td>\n",
       "      <td>1698</td>\n",
       "    </tr>\n",
       "    <tr>\n",
       "      <th>33</th>\n",
       "      <td>California</td>\n",
       "      <td>60.3</td>\n",
       "      <td>498</td>\n",
       "      <td>510</td>\n",
       "      <td>496</td>\n",
       "      <td>1504</td>\n",
       "    </tr>\n",
       "  </tbody>\n",
       "</table>\n",
       "</div>"
      ],
      "text/plain": [
       "         State  Participation Rate  Critical Reading  Math  Writing  Combined\n",
       "21     Alabama                 6.7               547   538      532      1617\n",
       "34      Alaska                54.2               507   503      475      1485\n",
       "26     Arizona                36.4               522   525      500      1547\n",
       "15    Arkansas                 4.2               573   571      554      1698\n",
       "33  California                60.3               498   510      496      1504"
      ]
     },
     "execution_count": 36,
     "metadata": {},
     "output_type": "execute_result"
    }
   ],
   "source": [
    "sat2014 = pd.read_csv('sat2014.csv').sort_values('State')\n",
    "sat2014.head()"
   ]
  },
  {
   "cell_type": "markdown",
   "metadata": {},
   "source": [
    "The scatter diagram of Math scores versus Critical Reading scores is\n",
    "very tightly clustered around a straight line; the correlation is close\n",
    "to 0.985."
   ]
  },
  {
   "cell_type": "code",
   "execution_count": 37,
   "metadata": {},
   "outputs": [
    {
     "data": {
      "text/plain": [
       "<matplotlib.axes._subplots.AxesSubplot at 0x11db42780>"
      ]
     },
     "execution_count": 37,
     "metadata": {},
     "output_type": "execute_result"
    },
    {
     "data": {
      "image/png": "[encoded data removed]",
      "text/plain": [
       "<Figure size 432x288 with 1 Axes>"
      ]
     },
     "metadata": {
      "needs_background": "light"
     },
     "output_type": "display_data"
    }
   ],
   "source": [
    "sat2014.plot.scatter('Critical Reading', 'Math')"
   ]
  },
  {
   "cell_type": "code",
   "execution_count": 38,
   "metadata": {},
   "outputs": [
    {
     "data": {
      "text/plain": [
       "0.9847558411067434"
      ]
     },
     "execution_count": 38,
     "metadata": {},
     "output_type": "execute_result"
    }
   ],
   "source": [
    "correlation(sat2014, 'Critical Reading', 'Math')"
   ]
  },
  {
   "cell_type": "markdown",
   "metadata": {},
   "source": [
    "That's an extremely high correlation. But it's important to note that\n",
    "this does not reflect the strength of the relation between the Math and\n",
    "Critical Reading scores of *students*.\n",
    "\n",
    "The data consist of average scores in each state. But states don't take\n",
    "tests – students do. The data in the table have been created by lumping\n",
    "all the students in each state into a single point at the average values\n",
    "of the two variables in that state. But not all students in the state\n",
    "will be at that point, as students vary in their performance. If you\n",
    "plot a point for each student instead of just one for each state, there\n",
    "will be a cloud of points around each point in the figure above. The\n",
    "overall picture will be more fuzzy. The correlation between the Math and\n",
    "Critical Reading scores of the students will be *lower* than the value\n",
    "calculated based on state averages.\n",
    "\n",
    "Correlations based on aggregates and averages are called *ecological\n",
    "correlations* and are frequently reported. As we have just seen, they\n",
    "must be interpreted with care.\n"
   ]
  },
  {
   "cell_type": "markdown",
   "metadata": {},
   "source": [
    "### Serious or tongue-in-cheek?\n",
    "\n",
    "In 2012,\n",
    "a [paper](http://www.biostat.jhsph.edu/courses/bio621/misc/Chocolate%20consumption%20cognitive%20function%20and%20nobel%20laurates%20%28NEJM%29.pdf)\n",
    "in the respected New England Journal of Medicine examined the relation\n",
    "between chocolate consumption and Nobel Prizes in a group of countries.\n",
    "The [Scientific\n",
    "American](http://blogs.scientificamerican.com/the-curious-wavefunction/chocolate-consumption-and-nobel-prizes-a-bizarre-juxtaposition-if-there-ever-was-one/)\n",
    "responded seriously whereas\n",
    "[others](http://www.reuters.com/article/2012/10/10/us-eat-chocolate-win-the-nobel-prize-idUSBRE8991MS20121010#vFdfFkbPVlilSjsB.97)\n",
    "were more relaxed. You are welcome to make your own decision! The\n",
    "following graph, provided in the paper, should motivate you to go and\n",
    "take a look.\n",
    "\n",
    "![]({{ site.baseurl }}/images/chocoNobel.png)\n",
    "\n",
    "{% data8page Correlation %}"
   ]
  }
 ],
 "metadata": {
  "jupytext": {
   "split_at_heading": true
  },
  "kernelspec": {
   "display_name": "Python 3",
   "language": "python",
   "name": "python3"
  },
  "language_info": {
   "codemirror_mode": {
    "name": "ipython",
    "version": 3
   },
   "file_extension": ".py",
   "mimetype": "text/x-python",
   "name": "python",
   "nbconvert_exporter": "python",
   "pygments_lexer": "ipython3",
   "version": "3.7.1"
  }
 },
 "nbformat": 4,
 "nbformat_minor": 2
}
