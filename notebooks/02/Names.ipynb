{
 "cells": [
  {
   "cell_type": "markdown",
   "metadata": {},
   "source": [
    "You have already seen [expressions](Expressions).\n",
    "\n",
    "You saw in [variables](variables) that we often want to give names to the\n",
    "results of expressions.\n",
    "\n",
    "Now we get a little more formal about what that looks like in Python.\n",
    "\n",
    "When Python gives a name to a value, that is an *assignment statement*.\n",
    "\n",
    "A *statement* is a piece of code that performs an action.\n",
    "\n",
    "Here is an assignment statement:"
   ]
  },
  {
   "cell_type": "code",
   "execution_count": 1,
   "metadata": {},
   "outputs": [],
   "source": [
    "x = 4"
   ]
  },
  {
   "cell_type": "markdown",
   "metadata": {},
   "source": [
    "Let's break the statement down in more detail.\n",
    "\n",
    "The statement has three parts:\n",
    "\n",
    "1. A *left hand side* (LHS), to the left of the equals sign `=`.  In the\n",
    "   expression above, the LHS is `x`;\n",
    "2. The equals sign `=`;\n",
    "3. The *right hand side* (RHS), to the right of the equals sign.  This is an\n",
    "   *expression*, that gives a value.  In our case, the RHS is 4.\n",
    "\n",
    "The assignment statement gives a *name* (on the LHS) to a *value* (on the\n",
    "RHS).\n",
    "\n",
    "Whenever you see a name, then `=`, then an expression, that is an assignment\n",
    "statement.\n",
    "\n",
    "It is often useful to describe what Python statements are doing, in words.\n",
    "\n",
    "For the expression above, we can say \"x gets the value 4\".\n",
    "\n",
    "We call `x` a *variable*.\n",
    "\n",
    "Once a variable gets a value, the name *evaluates* to its value.\n",
    "\n",
    "For example, here we ask Python to evaluate an expression:\n",
    "\n",
    "```\n",
    "3 * x + 2\n",
    "```\n",
    "\n",
    "`3 * x + 2` is an *expression*.  By entering the expression in a cell on its\n",
    "own, we ask Python to *evaluate* the expression.  First it evaluates the\n",
    "variable `x` to get 4.  Then it evaluates the rest to get `3 * 4 + 2` = 14.\n",
    "\n",
    "Remember, an assignment gives a name (on the LHS) to the value (on the RHS).\n",
    "\n",
    "Here are two assignment statements, giving values to the names `a` and `b`.\n",
    "Then we use these variaables in an expression.  The Notebook shows the result."
   ]
  },
  {
   "cell_type": "code",
   "execution_count": 2,
   "metadata": {},
   "outputs": [
    {
     "data": {
      "text/plain": [
       "30"
      ]
     },
     "execution_count": 2,
     "metadata": {},
     "output_type": "execute_result"
    }
   ],
   "source": [
    "a = 10\n",
    "b = 20\n",
    "a + b"
   ]
  },
  {
   "cell_type": "markdown",
   "metadata": {},
   "source": [
    "In the expression `a + b` above, Python evaluates the variable `a` to get 10,\n",
    "it evaluates the variable `b` to get 20, and then adds them, to give the final\n",
    "result of the expression.\n",
    "\n",
    "A variable can be used in the expression to the right of `=`."
   ]
  },
  {
   "cell_type": "code",
   "execution_count": 3,
   "metadata": {},
   "outputs": [
    {
     "data": {
      "text/plain": [
       "0.5"
      ]
     },
     "execution_count": 3,
     "metadata": {},
     "output_type": "execute_result"
    }
   ],
   "source": [
    "quarter = 1/4\n",
    "half = 2 * quarter\n",
    "half"
   ]
  },
  {
   "cell_type": "markdown",
   "metadata": {},
   "source": [
    "We can change the value for variables.  Here we change the value of variable\n",
    "`quarter` from 0.25 to 4."
   ]
  },
  {
   "cell_type": "code",
   "execution_count": 4,
   "metadata": {},
   "outputs": [],
   "source": [
    "quarter = 4"
   ]
  },
  {
   "cell_type": "markdown",
   "metadata": {},
   "source": [
    "Now we have changed the value of `quarter` What do you think will happen to\n",
    "the value of `half` above?  Will it change, or will it stay the same?\n",
    "\n",
    "Remember that an expression evaluates its variables before returning the\n",
    "result.  In the cell above, the expression `half = 2 * quarter` evaluated\n",
    "`quarter`, to get 0.25, and then evalulated 2 * 0.25, to give 0.5.  When we\n",
    "changed `quarter` in the next cell, it did not affect the value that we have\n",
    "already given to `half`:"
   ]
  },
  {
   "cell_type": "code",
   "execution_count": 5,
   "metadata": {},
   "outputs": [
    {
     "data": {
      "text/plain": [
       "0.5"
      ]
     },
     "execution_count": 5,
     "metadata": {},
     "output_type": "execute_result"
    }
   ],
   "source": [
    "half"
   ]
  },
  {
   "cell_type": "markdown",
   "metadata": {},
   "source": [
    "## Rules for variable names\n",
    "\n",
    "Variable names must start with a letter, but can contain both letters and\n",
    "numbers. A name cannot contain a space; instead, it is common to use an\n",
    "underscore character `_` to replace each space. Names are only as useful as\n",
    "you make them; it's up to the programmer to choose names that are easy to\n",
    "interpret.  Typically, more meaningful names can be invented than `a` and `b`.\n",
    "For example, let's say you were calculating the 20% Value Added Tax for a\n",
    "restaurant bill, as well as 15% tip, on top of that.  The following names\n",
    "clarify the meaning of the various quantities involved."
   ]
  },
  {
   "cell_type": "code",
   "execution_count": 6,
   "metadata": {},
   "outputs": [
    {
     "data": {
      "text/plain": [
       "30.0"
      ]
     },
     "execution_count": 6,
     "metadata": {},
     "output_type": "execute_result"
    }
   ],
   "source": [
    "meal_price = 25\n",
    "vat_rate = 0.2\n",
    "vat = meal_price * vat_rate\n",
    "meal_price_with_vat = meal_price + vat\n",
    "meal_price_with_vat"
   ]
  },
  {
   "cell_type": "code",
   "execution_count": 7,
   "metadata": {},
   "outputs": [
    {
     "data": {
      "text/plain": [
       "34.5"
      ]
     },
     "execution_count": 7,
     "metadata": {},
     "output_type": "execute_result"
    }
   ],
   "source": [
    "tip_rate = 0.15\n",
    "tip = meal_price_with_vat * tip_rate\n",
    "meal_price_total = meal_price_with_vat + tip\n",
    "meal_price_total"
   ]
  },
  {
   "cell_type": "markdown",
   "metadata": {},
   "source": [
    "## For reflection\n",
    "\n",
    "Here are some assignment statements. Are these valid names?  Why - or why not?\n",
    "When you have an answer, try the names in a Notebook cell, and see what you\n",
    "get:\n",
    "\n",
    "```\n",
    "five = 5\n",
    "```\n",
    "\n",
    "```\n",
    "Five = 5\n",
    "```\n",
    "\n",
    "```\n",
    "five_Point_three = 5\n",
    "```\n",
    "\n",
    "```\n",
    "five3 = 5\n",
    "```\n",
    "\n",
    "```\n",
    "_five_ = 5\n",
    "```\n",
    "\n",
    "```\n",
    "five_3 = 5\n",
    "```\n",
    "\n",
    "```\n",
    "five.3 = 5\n",
    "```\n",
    "\n",
    "```\n",
    "3five = 5\n",
    "```\n",
    "\n",
    "```\n",
    "five-point-three = 5\n",
    "```\n",
    "\n",
    "Try and work out what each of these expressions will return.  Are they valid\n",
    "expressions?  Will they give an error?  When you have the answer, try entering\n",
    "the expression as cells in the Notebook:\n",
    "\n",
    "```\n",
    "a = 5\n",
    "b = 3\n",
    "a + b * 4\n",
    "```\n",
    "\n",
    "```\n",
    "a = 5\n",
    "b = 3\n",
    "a + b * 4\n",
    "```\n",
    "\n",
    "```\n",
    "a = 5\n",
    "a = a + 3\n",
    "a\n",
    "```\n",
    "\n",
    "```\n",
    "a = 5\n",
    "b = a + 3\n",
    "a = 3\n",
    "b\n",
    "```\n",
    "\n",
    "```\n",
    "first_variable = 5\n",
    "second_variable = first_variable + 3\n",
    "first_variable = 3\n",
    "second_variable\n",
    "```\n",
    "\n",
    "```\n",
    "a = 5\n",
    "a * 3 * c\n",
    "```\n",
    "\n",
    "```\n",
    "a = 5\n",
    "a 5 + 4 * 3\n",
    "```\n",
    "\n",
    "This one is more tricky, and uses stuff you have not yet seen.  Ask your\n",
    "instructors if you get stuck:\n",
    "\n",
    "```\n",
    "my_variable == 5\n",
    "my_variable * 4\n",
    "```\n",
    "\n",
    "{% data8page Names %}"
   ]
  }
 ],
 "metadata": {
  "anaconda-cloud": {},
  "jupytext": {
   "text_representation": {
    "extension": ".Rmd",
    "format_name": "rmarkdown",
    "format_version": "1.0",
    "jupytext_version": "0.8.1"
   }
  },
  "kernelspec": {
   "display_name": "Python 3",
   "language": "python",
   "name": "python3"
  },
  "language_info": {
   "codemirror_mode": {
    "name": "ipython",
    "version": 3
   },
   "file_extension": ".py",
   "mimetype": "text/x-python",
   "name": "python",
   "nbconvert_exporter": "python",
   "pygments_lexer": "ipython3",
   "version": "3.7.1"
  }
 },
 "nbformat": 4,
 "nbformat_minor": 2
}
