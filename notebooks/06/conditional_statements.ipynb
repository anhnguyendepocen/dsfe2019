{
 "cells": [
  {
   "cell_type": "code",
   "execution_count": 1,
   "metadata": {},
   "outputs": [],
   "source": [
    "# HIDDEN\n",
    "\n",
    "# The standard set of libraries we need\n",
    "import numpy as np"
   ]
  },
  {
   "cell_type": "markdown",
   "metadata": {},
   "source": [
    "### Conditional Statements ###\n",
    "\n",
    "In many situations, actions and results depends on a specific set of conditions\n",
    "being satisfied. For example, individuals in randomized controlled trials\n",
    "receive the treatment if they have been assigned to the treatment group.\n",
    "A gambler makes money if she wins her bet.\n",
    "\n",
    "In this section we will learn how to describe such situations using code.\n",
    "A *conditional statement* is a multi-line statement that allows Python to\n",
    "choose among different alternatives based on the truth value of an expression.\n",
    "\n",
    "A conditional statement always begins with an `if` header, which is a single\n",
    "line followed by an indented body. The body is only executed if the expression\n",
    "directly following `if` (called the *if expression*) evaluates to a true value.\n",
    "If the *if expression* evaluates to a false value, then the body of the `if` is\n",
    "skipped.\n",
    "\n",
    "Soon we will make a cell that prints \"Positive\" if the variable `x` refers to\n",
    "a positive number.\n",
    "\n",
    "First we set `x` to something."
   ]
  },
  {
   "cell_type": "code",
   "execution_count": 2,
   "metadata": {},
   "outputs": [],
   "source": [
    "# Set x to have the value 1\n",
    "x = 1"
   ]
  },
  {
   "cell_type": "markdown",
   "metadata": {},
   "source": [
    "Here's a comparison *expression*:"
   ]
  },
  {
   "cell_type": "code",
   "execution_count": 3,
   "metadata": {},
   "outputs": [
    {
     "data": {
      "text/plain": [
       "True"
      ]
     },
     "execution_count": 3,
     "metadata": {},
     "output_type": "execute_result"
    }
   ],
   "source": [
    "# True if x is positive\n",
    "x > 0"
   ]
  },
  {
   "cell_type": "markdown",
   "metadata": {},
   "source": [
    "We use the expression as an *if expression*:"
   ]
  },
  {
   "cell_type": "code",
   "execution_count": 4,
   "metadata": {},
   "outputs": [
    {
     "name": "stdout",
     "output_type": "stream",
     "text": [
      "Positive\n"
     ]
    }
   ],
   "source": [
    "# Our first conditional statement\n",
    "if x > 0:\n",
    "    print('Positive')"
   ]
  },
  {
   "cell_type": "markdown",
   "metadata": {},
   "source": [
    "This cell prints \"Positive\" if `x` is a positive number. But if `x` is not\n",
    "a positive number, then the *if expression* evaluates to a false value, and so\n",
    "Python skips the `print` statement."
   ]
  },
  {
   "cell_type": "code",
   "execution_count": 5,
   "metadata": {},
   "outputs": [],
   "source": [
    "x = 0"
   ]
  },
  {
   "cell_type": "code",
   "execution_count": 6,
   "metadata": {},
   "outputs": [],
   "source": [
    "# Nothing printed this time\n",
    "if x > 0:\n",
    "    print('Positive')"
   ]
  },
  {
   "cell_type": "markdown",
   "metadata": {},
   "source": [
    "Notice the indentation of the `print` line.  The indentation tells Python which\n",
    "lines are in the *body* of the *if statement*.  Python only runs the indented\n",
    "lines if the *if expression* is a true value.\n",
    "\n",
    "To show that, let's print two things, when the number is positive."
   ]
  },
  {
   "cell_type": "code",
   "execution_count": 7,
   "metadata": {},
   "outputs": [],
   "source": [
    "# Still nothing printed\n",
    "if x > 0:\n",
    "    print('Positive')\n",
    "    print('Positively spiffing')"
   ]
  },
  {
   "cell_type": "markdown",
   "metadata": {},
   "source": [
    "Now when `x` is positive."
   ]
  },
  {
   "cell_type": "code",
   "execution_count": 8,
   "metadata": {},
   "outputs": [],
   "source": [
    "x = 1"
   ]
  },
  {
   "cell_type": "code",
   "execution_count": 9,
   "metadata": {},
   "outputs": [
    {
     "name": "stdout",
     "output_type": "stream",
     "text": [
      "Positive\n",
      "Positively spiffing\n"
     ]
    }
   ],
   "source": [
    "# Both lines printed this time.\n",
    "if x > 0:\n",
    "    print('Positive')\n",
    "    print('Positively spiffing')"
   ]
  },
  {
   "cell_type": "markdown",
   "metadata": {},
   "source": [
    "Let us refine our cell to print `Negative` if `x` is a negative number. We can\n",
    "do this by adding an `elif` clause, where `elif` if Python's shorthand for the\n",
    "phrase \"else if\"."
   ]
  },
  {
   "cell_type": "code",
   "execution_count": 10,
   "metadata": {},
   "outputs": [
    {
     "name": "stdout",
     "output_type": "stream",
     "text": [
      "Positive\n"
     ]
    }
   ],
   "source": [
    "if x > 0:\n",
    "    print('Positive')\n",
    "elif x < 0:\n",
    "    print('Negative')"
   ]
  },
  {
   "cell_type": "markdown",
   "metadata": {},
   "source": [
    "Now the cell gives the correct answer when the input is -3:"
   ]
  },
  {
   "cell_type": "code",
   "execution_count": 11,
   "metadata": {},
   "outputs": [],
   "source": [
    "x = -3"
   ]
  },
  {
   "cell_type": "code",
   "execution_count": 12,
   "metadata": {},
   "outputs": [
    {
     "name": "stdout",
     "output_type": "stream",
     "text": [
      "Negative\n"
     ]
    }
   ],
   "source": [
    "if x > 0:\n",
    "    print('Positive')\n",
    "elif x < 0:\n",
    "    print('Negative')"
   ]
  },
  {
   "cell_type": "markdown",
   "metadata": {},
   "source": [
    "What if `x` is 0?"
   ]
  },
  {
   "cell_type": "code",
   "execution_count": 13,
   "metadata": {},
   "outputs": [],
   "source": [
    "x = 0"
   ]
  },
  {
   "cell_type": "markdown",
   "metadata": {},
   "source": [
    "To deal with this case, we can add another `elif` clause:"
   ]
  },
  {
   "cell_type": "code",
   "execution_count": 14,
   "metadata": {},
   "outputs": [
    {
     "name": "stdout",
     "output_type": "stream",
     "text": [
      "Neither positive nor negative\n"
     ]
    }
   ],
   "source": [
    "if x > 0:\n",
    "    print('Positive')\n",
    "elif x < 0:\n",
    "    print('Negative')\n",
    "elif x == 0:\n",
    "    print('Neither positive nor negative')"
   ]
  },
  {
   "cell_type": "markdown",
   "metadata": {},
   "source": [
    "Equivalently, we can replaced the final `elif` clause by an `else` clause,\n",
    "whose body will be executed only if all the previous comparisons are false;\n",
    "that is, if the input value is equal to 0."
   ]
  },
  {
   "cell_type": "code",
   "execution_count": 15,
   "metadata": {},
   "outputs": [
    {
     "name": "stdout",
     "output_type": "stream",
     "text": [
      "Neither positive nor negative\n"
     ]
    }
   ],
   "source": [
    "if x > 0:\n",
    "    print('Positive')\n",
    "elif x < 0:\n",
    "    print('Negative')\n",
    "else:\n",
    "    print('Neither positive nor negative')"
   ]
  },
  {
   "cell_type": "markdown",
   "metadata": {},
   "source": [
    "### The General Form ###\n",
    "\n",
    "A conditional statement can also have multiple clauses with multiple bodies,\n",
    "and only one of those bodies can ever be executed. The general format of\n",
    "a multi-clause conditional statement appears below.\n",
    "\n",
    "    if <if expression>:\n",
    "        <if body>\n",
    "    elif <elif expression 0>:\n",
    "        <elif body 0>\n",
    "    elif <elif expression 1>:\n",
    "        <elif body 1>\n",
    "    ...\n",
    "    else:\n",
    "        <else body>\n",
    "\n",
    "There is always exactly one `if` clause, but there can be any number of `elif`\n",
    "clauses. Python will evaluate the `if` and `elif` expressions in the headers in\n",
    "order until one is found that is a true value, then execute the corresponding\n",
    "body. The `else` clause is optional. When an `else` header is provided, its\n",
    "*else body* is executed only if none of the header expressions of the previous\n",
    "clauses are true. The `else` clause must always come at the end (or not at\n",
    "all).\n",
    "\n",
    "{% data8page Conditional_Statements %}"
   ]
  }
 ],
 "metadata": {
  "jupytext": {
   "text_representation": {
    "extension": ".Rmd",
    "format_name": "rmarkdown",
    "format_version": "1.1",
    "jupytext_version": "0.8.7"
   }
  },
  "kernelspec": {
   "display_name": "Python 3",
   "language": "python",
   "name": "python3"
  },
  "language_info": {
   "codemirror_mode": {
    "name": "ipython",
    "version": 3
   },
   "file_extension": ".py",
   "mimetype": "text/x-python",
   "name": "python",
   "nbconvert_exporter": "python",
   "pygments_lexer": "ipython3",
   "version": "3.7.2"
  }
 },
 "nbformat": 4,
 "nbformat_minor": 2
}
