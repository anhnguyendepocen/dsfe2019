{
 "cells": [
  {
   "cell_type": "markdown",
   "metadata": {},
   "source": [
    "## Exercises on the three-girl simulation problem\n",
    "\n",
    "These exercises follow on from the [three girls section](../03/three_girls).\n",
    "\n",
    "Run this cell first:"
   ]
  },
  {
   "cell_type": "code",
   "execution_count": 1,
   "metadata": {},
   "outputs": [],
   "source": [
    "import numpy as np"
   ]
  },
  {
   "cell_type": "markdown",
   "metadata": {},
   "source": [
    "### 10000 families\n",
    "\n",
    "Now you have seen how to simulate 10 families, with a 2D array.\n",
    "Copy and paste from the code above, into the cell below, and\n",
    "change what you need to change, to simulate 10000 families of\n",
    "4 children.  It will have these steps:\n",
    "\n",
    "* make a 2D array of random numbers between 0 and 1, with 10000\n",
    "  rows and 4 columns.\n",
    "* make a new array of the same shape, with `True` where the random\n",
    "  number corresponds to \"girl\" and `False` when the number corresponds to \"boy\"\n",
    "* count the number of girls (`True` values) in each row.\n",
    "* count the number of times there were exactly 3 girls.\n",
    "* divide by the number of rows to give an estimate for the\n",
    "  proportion of 4-child families with exactly 3 girls."
   ]
  },
  {
   "cell_type": "code",
   "execution_count": 2,
   "metadata": {
    "lines_to_next_cell": 2
   },
   "outputs": [],
   "source": [
    "# Simulate 10000 families of 4 children.\n",
    "# Show proportion with 3 girls.\n",
    "# Your code below"
   ]
  },
  {
   "cell_type": "markdown",
   "metadata": {},
   "source": [
    "### No girls in a family of 4.\n",
    "\n",
    "Estimate the chances that a 4-child family will have no girls.  You can copy the code from the cell above, and modify it, or you may be able to use variables from the code above, to get the answer, without repeating the simulation."
   ]
  },
  {
   "cell_type": "code",
   "execution_count": 3,
   "metadata": {},
   "outputs": [],
   "source": [
    "# Show proportion with 0 girls.\n",
    "# Your code below"
   ]
  },
  {
   "cell_type": "markdown",
   "metadata": {},
   "source": [
    "For extra points - the answer above is easier to work out with\n",
    "probability than the chance of three girls.  What's the exact answer, from probability?"
   ]
  },
  {
   "cell_type": "markdown",
   "metadata": {},
   "source": [
    "### 3 girls in a family of 5.\n",
    "\n",
    "Simulate the chances that a family with 5 children will have\n",
    "exactly 3 girls."
   ]
  },
  {
   "cell_type": "code",
   "execution_count": 4,
   "metadata": {
    "lines_to_next_cell": 2
   },
   "outputs": [],
   "source": [
    "# Simulate 10000 families of 5 children.\n",
    "# Show proportion with 3 girls.\n",
    "# Your code below"
   ]
  },
  {
   "cell_type": "markdown",
   "metadata": {},
   "source": [
    "### 3 or fewer girls in a family of 5.\n",
    "\n",
    "Simulate the chances that a family with 5 children will have 3 or\n",
    "fewer girls.\n",
    "\n",
    "Hint: `<=` tests whether the thing on the left is *less than or equal to* the thing on the right."
   ]
  },
  {
   "cell_type": "code",
   "execution_count": 5,
   "metadata": {},
   "outputs": [
    {
     "data": {
      "text/plain": [
       "True"
      ]
     },
     "execution_count": 5,
     "metadata": {},
     "output_type": "execute_result"
    }
   ],
   "source": [
    "3 <= 4"
   ]
  },
  {
   "cell_type": "code",
   "execution_count": 6,
   "metadata": {},
   "outputs": [
    {
     "data": {
      "text/plain": [
       "True"
      ]
     },
     "execution_count": 6,
     "metadata": {},
     "output_type": "execute_result"
    }
   ],
   "source": [
    "3 <= 3"
   ]
  },
  {
   "cell_type": "code",
   "execution_count": 7,
   "metadata": {},
   "outputs": [
    {
     "data": {
      "text/plain": [
       "False"
      ]
     },
     "execution_count": 7,
     "metadata": {},
     "output_type": "execute_result"
    }
   ],
   "source": [
    "3 <= 2"
   ]
  },
  {
   "cell_type": "code",
   "execution_count": 8,
   "metadata": {},
   "outputs": [
    {
     "data": {
      "text/plain": [
       "array([ True,  True, False, False])"
      ]
     },
     "execution_count": 8,
     "metadata": {},
     "output_type": "execute_result"
    }
   ],
   "source": [
    "my_array = np.array([1, 2, 3, 4])\n",
    "my_array <= 2"
   ]
  },
  {
   "cell_type": "markdown",
   "metadata": {},
   "source": [
    "Hints done, now:"
   ]
  },
  {
   "cell_type": "code",
   "execution_count": 9,
   "metadata": {},
   "outputs": [],
   "source": [
    "# Proportion of families of 5 children with 3 or fewer girls.\n",
    "# Your code below"
   ]
  },
  {
   "cell_type": "code",
   "execution_count": 10,
   "metadata": {},
   "outputs": [],
   "source": [
    "# Simulate 10000 families of 5 children.\n",
    "# Show proportion with 3 girls.\n",
    "# Your code below"
   ]
  },
  {
   "cell_type": "markdown",
   "metadata": {},
   "source": [
    "### More realistic simulation\n",
    "\n",
    "Now we are back to the situation of exactly 3 girls in a family of 4.\n",
    "\n",
    "In fact, when you have a child, the probability of having a girl\n",
    "is slightly less than 0.5.\n",
    "\n",
    "In fact, the [proportion of boys born in the\n",
    "UK](https://www.gov.uk/government/statistics/gender-ratios-at-birth-in-great-britain-2010-to-2014)\n",
    "is 0.513.  Hence the proportion of girls is 1-0.513 = 0.487.\n",
    "\n",
    "With that probability of having a girl, what are the chances of having exactly three girls in a family of four?"
   ]
  },
  {
   "cell_type": "code",
   "execution_count": 11,
   "metadata": {},
   "outputs": [],
   "source": [
    "# Simulate 10000 familes of 4 children.\n",
    "chance_of_girl = 0.487\n",
    "# Estimate chance of having exactly 3 girls.\n",
    "# Your code here"
   ]
  }
 ],
 "metadata": {
  "jupytext": {
   "text_representation": {
    "extension": ".Rmd",
    "format_name": "rmarkdown",
    "format_version": "1.0",
    "jupytext_version": "0.8.5"
   }
  },
  "kernelspec": {
   "display_name": "Python 3",
   "language": "python",
   "name": "python3"
  },
  "language_info": {
   "codemirror_mode": {
    "name": "ipython",
    "version": 3
   },
   "file_extension": ".py",
   "mimetype": "text/x-python",
   "name": "python",
   "nbconvert_exporter": "python",
   "pygments_lexer": "ipython3",
   "version": "3.7.2"
  }
 },
 "nbformat": 4,
 "nbformat_minor": 2
}
