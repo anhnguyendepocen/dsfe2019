{
 "cells": [
  {
   "cell_type": "markdown",
   "metadata": {},
   "source": [
    "# For loop exercises"
   ]
  },
  {
   "cell_type": "code",
   "execution_count": 1,
   "metadata": {},
   "outputs": [],
   "source": [
    "import numpy as np"
   ]
  },
  {
   "cell_type": "markdown",
   "metadata": {},
   "source": [
    "You may remember you can print a number (or anything else) with the `print` function, like this:"
   ]
  },
  {
   "cell_type": "code",
   "execution_count": 2,
   "metadata": {},
   "outputs": [
    {
     "name": "stdout",
     "output_type": "stream",
     "text": [
      "5\n"
     ]
    }
   ],
   "source": [
    "print(5)"
   ]
  },
  {
   "cell_type": "markdown",
   "metadata": {},
   "source": [
    "Use a `for` loop to print out all the numbers from 3 through 7, one number on each line."
   ]
  },
  {
   "cell_type": "code",
   "execution_count": 3,
   "metadata": {},
   "outputs": [],
   "source": [
    "# Your code here."
   ]
  },
  {
   "cell_type": "markdown",
   "metadata": {},
   "source": [
    "Use a `for` loop to add up all the numbers from 15 through 32.  Print the value."
   ]
  },
  {
   "cell_type": "code",
   "execution_count": 4,
   "metadata": {},
   "outputs": [],
   "source": [
    "# Your code here.\n",
    "total = 0"
   ]
  },
  {
   "cell_type": "markdown",
   "metadata": {},
   "source": [
    "Use a `for` loop to add up all the even numbers from -102 through 98.  Hint: you may like to use the `step` argument."
   ]
  },
  {
   "cell_type": "code",
   "execution_count": 5,
   "metadata": {},
   "outputs": [],
   "source": [
    "# Sum of all even numbers from -102 through 98.\n",
    "total = 0"
   ]
  },
  {
   "cell_type": "markdown",
   "metadata": {},
   "source": [
    "Have a look at the definition of the [factorial](https://en.wikipedia.org/wiki/Factorial).\n",
    "\n",
    "For example, the factorial of 5, written $5!$ is `1 * 2 * 3 * 4 * 5`.\n",
    "\n",
    "Use a `for` loop to calculate $15!$.  Print out the result."
   ]
  },
  {
   "cell_type": "code",
   "execution_count": 6,
   "metadata": {},
   "outputs": [],
   "source": [
    "# Calculate 15!\n",
    "factorial = 1"
   ]
  },
  {
   "cell_type": "markdown",
   "metadata": {},
   "source": [
    "These are getting a bit harder."
   ]
  },
  {
   "cell_type": "markdown",
   "metadata": {},
   "source": [
    "You can break out of a `for` loop using the `break` statement.  Here I break out of the `for` loop, when I get to 6.  Notice I never get to 7 or any number higher than 6.  The `break` statement says, \"stop the `for` loop now, and go directly to the first statement after the `for` loop\"."
   ]
  },
  {
   "cell_type": "code",
   "execution_count": 7,
   "metadata": {},
   "outputs": [
    {
     "name": "stdout",
     "output_type": "stream",
     "text": [
      "0\n",
      "1\n",
      "2\n",
      "3\n",
      "4\n",
      "5\n",
      "6\n",
      "Stopping here, where i == 6\n",
      "I have finished the for loop now.\n"
     ]
    }
   ],
   "source": [
    "for i in np.arange(1000):\n",
    "    print(i)\n",
    "    if i == 6:\n",
    "        print(\"Stopping here, where i == 6\")\n",
    "        break\n",
    "print(\"I have finished the for loop now.\")"
   ]
  },
  {
   "cell_type": "markdown",
   "metadata": {},
   "source": [
    "Make sure you understand what is going on in the cell above.  When you do, try using this technique to find the largest integer $n$ where $n! < 10^6$.  Print out $n$ and $n!$."
   ]
  },
  {
   "cell_type": "code",
   "execution_count": 8,
   "metadata": {},
   "outputs": [],
   "source": [
    "factorial = 1\n",
    "last_factorial = 1\n",
    "threshold = 1000000\n",
    "# Your code here"
   ]
  },
  {
   "cell_type": "markdown",
   "metadata": {},
   "source": [
    "Here is an array of 50 numbers:"
   ]
  },
  {
   "cell_type": "code",
   "execution_count": 9,
   "metadata": {},
   "outputs": [],
   "source": [
    "# Run this cell to define the \"values\" array\n",
    "values = np.array([  3,  32,  39,  -3,  34,  28,   9,  36,  -4,  20,  -4,  13,  32,\n",
    "         9,  14, 999,   2,  20,  18,  12,  13,  25,  25,   2,  17,  39,\n",
    "        39,   4,  26,   7,   1,  36,  31,  15,  25,  19, 999,  -4,  -3,\n",
    "        24,   7,  14,  -2,  35,  18,  23,  34,  14,  11,  25])"
   ]
  },
  {
   "cell_type": "markdown",
   "metadata": {},
   "source": [
    "Add up all the numbers in this array, until you get to the first value of 999.  Print the sum of all the values up to, but not including, the first 999."
   ]
  },
  {
   "cell_type": "code",
   "execution_count": 10,
   "metadata": {},
   "outputs": [],
   "source": [
    "# Your code here."
   ]
  },
  {
   "cell_type": "markdown",
   "metadata": {},
   "source": [
    "The next cell is a slight variation.  Add all the numbers in this array, up to, but not including, the first value of 999.  This time, discard any negative values you find.  For example, if the array was `np.array([1, -3, 4, 999])`, then the result would be `1 + 4 == 5`.  What is the equivalent result for the `values` array above?"
   ]
  },
  {
   "cell_type": "code",
   "execution_count": 11,
   "metadata": {},
   "outputs": [],
   "source": [
    "# Your code here."
   ]
  }
 ],
 "metadata": {
  "jupytext": {
   "main_language": "python",
   "text_representation": {
    "extension": ".Rmd",
    "format_name": "rmarkdown",
    "format_version": "1.0",
    "jupytext_version": "0.8.5"
   }
  },
  "kernelspec": {
   "display_name": "Python 3",
   "language": "python",
   "name": "python3"
  },
  "language_info": {
   "codemirror_mode": {
    "name": "ipython",
    "version": 3
   },
   "file_extension": ".py",
   "mimetype": "text/x-python",
   "name": "python",
   "nbconvert_exporter": "python",
   "pygments_lexer": "ipython3",
   "version": "3.7.1"
  }
 },
 "nbformat": 4,
 "nbformat_minor": 2
}
