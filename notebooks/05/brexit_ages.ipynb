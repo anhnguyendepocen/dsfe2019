{
 "cells": [
  {
   "cell_type": "markdown",
   "metadata": {},
   "source": [
    "# Brexit ages\n",
    "\n",
    "Now we have [for loops](iteration) and [ranges](../03/Ranges), we can\n",
    "solve the problem in [population, permutation](population_permutation])"
   ]
  },
  {
   "cell_type": "code",
   "execution_count": 1,
   "metadata": {},
   "outputs": [],
   "source": [
    "import numpy as np\n",
    "import matplotlib.pyplot as plt\n",
    "%matplotlib inline\n",
    "\n",
    "# Fancy plots\n",
    "plt.style.use('fivethirtyeight')\n",
    "\n",
    "# Data frame library\n",
    "import pandas as pd"
   ]
  },
  {
   "cell_type": "markdown",
   "metadata": {},
   "source": [
    "We load the data again:"
   ]
  },
  {
   "cell_type": "code",
   "execution_count": 2,
   "metadata": {},
   "outputs": [],
   "source": [
    "# Load the data frame, and put it in the variable \"audit_data\"\n",
    "audit_data = pd.read_table('audit_of_political_engagement_14_2017.tab')"
   ]
  },
  {
   "cell_type": "markdown",
   "metadata": {},
   "source": [
    "Again, we get the ages for the Leavers and the Remainers:"
   ]
  },
  {
   "cell_type": "code",
   "execution_count": 3,
   "metadata": {},
   "outputs": [],
   "source": [
    "# Drop rows where age is 0\n",
    "good_data = audit_data.loc[audit_data['numage'] != 0]\n",
    "# Get data frames for leavers and remainers\n",
    "remain_ages = good_data[good_data['cut15'] == 1]['numage']\n",
    "leave_ages = good_data[good_data['cut15'] == 2]['numage']"
   ]
  },
  {
   "cell_type": "code",
   "execution_count": 4,
   "metadata": {},
   "outputs": [
    {
     "data": {
      "image/png": "[encoded data removed]",
      "text/plain": [
       "<Figure size 432x288 with 1 Axes>"
      ]
     },
     "metadata": {
      "needs_background": "light"
     },
     "output_type": "display_data"
    }
   ],
   "source": [
    "remain_ages.hist();"
   ]
  },
  {
   "cell_type": "code",
   "execution_count": 5,
   "metadata": {},
   "outputs": [
    {
     "data": {
      "image/png": "[encoded data removed]",
      "text/plain": [
       "<Figure size 432x288 with 1 Axes>"
      ]
     },
     "metadata": {
      "needs_background": "light"
     },
     "output_type": "display_data"
    }
   ],
   "source": [
    "leave_ages.hist();"
   ]
  },
  {
   "cell_type": "markdown",
   "metadata": {},
   "source": [
    "Here is the number of Remain voters:"
   ]
  },
  {
   "cell_type": "code",
   "execution_count": 6,
   "metadata": {},
   "outputs": [
    {
     "data": {
      "text/plain": [
       "774"
      ]
     },
     "execution_count": 6,
     "metadata": {},
     "output_type": "execute_result"
    }
   ],
   "source": [
    "n_remain = len(remain_ages)\n",
    "n_remain"
   ]
  },
  {
   "cell_type": "markdown",
   "metadata": {},
   "source": [
    "Here was the actual difference between the means of the two groups:"
   ]
  },
  {
   "cell_type": "code",
   "execution_count": 7,
   "metadata": {},
   "outputs": [
    {
     "data": {
      "text/plain": [
       "3.6998380833655773"
      ]
     },
     "execution_count": 7,
     "metadata": {},
     "output_type": "execute_result"
    }
   ],
   "source": [
    "actual_diff = np.mean(leave_ages) - np.mean(remain_ages)\n",
    "actual_diff"
   ]
  },
  {
   "cell_type": "markdown",
   "metadata": {},
   "source": [
    "We want to know if we have a reasonable chance of seeing a difference of this magnitude, if the two groups are samples from the same underlying population.  We don't have the actual population to take samples from, so we need to wing it, by using the data we have.\n",
    "\n",
    "We asserted we could use permutation to take random samples from the data that we already have:"
   ]
  },
  {
   "cell_type": "code",
   "execution_count": 8,
   "metadata": {},
   "outputs": [],
   "source": [
    "pooled = np.append(remain_ages, leave_ages)\n",
    "np.random.shuffle(pooled)\n",
    "fake_remainers = pooled[:n_remain]\n",
    "fake_leavers = pooled[n_remain:]"
   ]
  },
  {
   "cell_type": "markdown",
   "metadata": {},
   "source": [
    "Those are our samples.  Now we get the difference in mean ages, as one example of a difference we might see, if the samples are from the same population:"
   ]
  },
  {
   "cell_type": "code",
   "execution_count": 9,
   "metadata": {},
   "outputs": [
    {
     "data": {
      "text/plain": [
       "0.08835680885717778"
      ]
     },
     "execution_count": 9,
     "metadata": {},
     "output_type": "execute_result"
    }
   ],
   "source": [
    "example_diff = np.mean(fake_leavers) - np.mean(fake_remainers)\n",
    "example_diff"
   ]
  },
  {
   "cell_type": "markdown",
   "metadata": {},
   "source": [
    "Now we know how do to this once, we can use the `for` loop to do the\n",
    "shuffle operation many times.  We collect the results in a list.  You will recognize the code in the `for` loop from the code in the cells above."
   ]
  },
  {
   "cell_type": "code",
   "execution_count": 10,
   "metadata": {},
   "outputs": [],
   "source": [
    "# An empty list to store the results\n",
    "example_diffs = []\n",
    "# Do the shuffle / difference steps 10000 times\n",
    "for i in np.arange(10000):\n",
    "    np.random.shuffle(pooled)\n",
    "    fake_remainers = pooled[:n_remain]\n",
    "    fake_leavers = pooled[n_remain:]\n",
    "    eg_diff = np.mean(fake_leavers) - np.mean(fake_remainers)\n",
    "    # Collect the results in a list\n",
    "    example_diffs.append(eg_diff)"
   ]
  },
  {
   "cell_type": "markdown",
   "metadata": {},
   "source": [
    "Our list now has 10000 fake mean differences:"
   ]
  },
  {
   "cell_type": "code",
   "execution_count": 11,
   "metadata": {},
   "outputs": [
    {
     "data": {
      "text/plain": [
       "10000"
      ]
     },
     "execution_count": 11,
     "metadata": {},
     "output_type": "execute_result"
    }
   ],
   "source": [
    "len(example_diffs)"
   ]
  },
  {
   "cell_type": "markdown",
   "metadata": {},
   "source": [
    "What distribution do these differences have?"
   ]
  },
  {
   "cell_type": "code",
   "execution_count": 12,
   "metadata": {},
   "outputs": [
    {
     "data": {
      "image/png": "[encoded data removed]",
      "text/plain": [
       "<Figure size 432x288 with 1 Axes>"
      ]
     },
     "metadata": {
      "needs_background": "light"
     },
     "output_type": "display_data"
    }
   ],
   "source": [
    "plt.hist(example_diffs);"
   ]
  },
  {
   "cell_type": "markdown",
   "metadata": {},
   "source": [
    "This is called the *sampling distribution*.  In our case, this is the\n",
    "sampling distribution of the difference in means.  It is the *sampling*\n",
    "distribution, because it is the distribution we expect to see, when\n",
    "taking random *samples* from the same underlying population.\n",
    "\n",
    "Our question now is, is the difference we actually saw, a likely value, given the sampling distribution.\n",
    "\n",
    "Looking at the distribution above - what do you think?\n",
    "\n",
    "As a first pass, let us check how many of the values from the sampling\n",
    "distribution are as large, or larger than the value we actually saw.\n",
    "\n",
    "First we turn our list into an array, so we can do our `count_nonzero`\n",
    "trick."
   ]
  },
  {
   "cell_type": "code",
   "execution_count": 13,
   "metadata": {},
   "outputs": [
    {
     "data": {
      "text/plain": [
       "1"
      ]
     },
     "execution_count": 13,
     "metadata": {},
     "output_type": "execute_result"
    }
   ],
   "source": [
    "sampling_dist_array = np.array(example_diffs)\n",
    "are_as_high = sampling_dist_array >= actual_diff\n",
    "n_as_high = np.count_nonzero(are_as_high)\n",
    "n_as_high"
   ]
  },
  {
   "cell_type": "markdown",
   "metadata": {},
   "source": [
    "The number above is the number of values in the sampling distribution\n",
    "that are as high as, or higher than, the value we actually saw.  If we\n",
    "divide by 10000, we get the proportion of the sampling distribution\n",
    "that is as high, or higher."
   ]
  },
  {
   "cell_type": "code",
   "execution_count": 14,
   "metadata": {},
   "outputs": [
    {
     "data": {
      "text/plain": [
       "0.0001"
      ]
     },
     "execution_count": 14,
     "metadata": {},
     "output_type": "execute_result"
    }
   ],
   "source": [
    "proportion = n_as_high / 10000\n",
    "proportion"
   ]
  },
  {
   "cell_type": "markdown",
   "metadata": {},
   "source": [
    "We think of this proportion as an estimate of the *probability* that we\n",
    "would see a value this high, or higher, *if these were random samples\n",
    "from the same underlying population*.  We call this a *p value*."
   ]
  }
 ],
 "metadata": {
  "jupytext": {
   "text_representation": {
    "extension": ".Rmd",
    "format_name": "rmarkdown",
    "format_version": "1.0",
    "jupytext_version": "0.8.5"
   }
  },
  "kernelspec": {
   "display_name": "Python 3",
   "language": "python",
   "name": "python3"
  },
  "language_info": {
   "codemirror_mode": {
    "name": "ipython",
    "version": 3
   },
   "file_extension": ".py",
   "mimetype": "text/x-python",
   "name": "python",
   "nbconvert_exporter": "python",
   "pygments_lexer": "ipython3",
   "version": "3.7.1"
  }
 },
 "nbformat": 4,
 "nbformat_minor": 2
}
