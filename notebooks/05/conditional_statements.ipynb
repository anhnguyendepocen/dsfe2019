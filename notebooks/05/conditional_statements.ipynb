{
 "cells": [
  {
   "cell_type": "code",
   "execution_count": 1,
   "metadata": {},
   "outputs": [],
   "source": [
    "# HIDDEN\n",
    "\n",
    "# The standard set of libraries we need\n",
    "import numpy as np\n",
    "import matplotlib.pyplot as plt\n",
    "%matplotlib inline\n",
    "\n",
    "# Make plots look a little bit more fancy\n",
    "plt.style.use('fivethirtyeight')"
   ]
  },
  {
   "cell_type": "markdown",
   "metadata": {},
   "source": [
    "### Conditional Statements ###\n",
    "\n",
    "In many situations, actions and results depends on a specific set of\n",
    "conditions being satisfied. For example, individuals in randomized\n",
    "controlled trials receive the treatment if they have been assigned to\n",
    "the treatment group. A gambler makes money if she wins her bet.\n",
    "\n",
    "In this section we will learn how to describe such situations using\n",
    "code. A *conditional statement* is a multi-line statement that allows\n",
    "Python to choose among different alternatives based on the truth value\n",
    "of an expression.\n",
    "\n",
    "A conditional statement always begins with an `if` header, which is\n",
    "a single line followed by an indented body. The body is only executed\n",
    "if the expression directly following `if` (called the *if expression*)\n",
    "evaluates to a true value. If the *if expression* evaluates to a false\n",
    "value, then the body of the `if` is skipped.\n",
    "\n",
    "Soon we will make a cell that prints \"Positive\" if the variable `x`\n",
    "refers to a positive number.\n",
    "\n",
    "First we set `x` to something."
   ]
  },
  {
   "cell_type": "code",
   "execution_count": 2,
   "metadata": {},
   "outputs": [],
   "source": [
    "# Set x\n",
    "x = 1"
   ]
  },
  {
   "cell_type": "markdown",
   "metadata": {},
   "source": [
    "Here's a comparison *expression*:"
   ]
  },
  {
   "cell_type": "code",
   "execution_count": 3,
   "metadata": {},
   "outputs": [
    {
     "data": {
      "text/plain": [
       "True"
      ]
     },
     "execution_count": 3,
     "metadata": {},
     "output_type": "execute_result"
    }
   ],
   "source": [
    "# True if x is positive\n",
    "x > 0"
   ]
  },
  {
   "cell_type": "markdown",
   "metadata": {},
   "source": [
    "We use the expression as an *if expression*:\n"
   ]
  },
  {
   "cell_type": "code",
   "execution_count": 4,
   "metadata": {},
   "outputs": [
    {
     "name": "stdout",
     "output_type": "stream",
     "text": [
      "Positive\n"
     ]
    }
   ],
   "source": [
    "# Our first conditional statement\n",
    "if x > 0:\n",
    "    print('Positive')"
   ]
  },
  {
   "cell_type": "markdown",
   "metadata": {},
   "source": [
    "This cell prints \"Positive\" if `x` is a positive number. But if `x` is\n",
    "not a positive number, then the *if expression* evaluates to a false\n",
    "value, and so Python skips the `print` statement."
   ]
  },
  {
   "cell_type": "code",
   "execution_count": 5,
   "metadata": {},
   "outputs": [],
   "source": [
    "x = 0"
   ]
  },
  {
   "cell_type": "code",
   "execution_count": 6,
   "metadata": {},
   "outputs": [],
   "source": [
    "# Nothing printed this time\n",
    "if x > 0:\n",
    "    print('Positive')"
   ]
  },
  {
   "cell_type": "markdown",
   "metadata": {},
   "source": [
    "Notice the indentation of the `print` line.  The indentation tells\n",
    "Python which lines are in the *body* of the *if statement*.  Python\n",
    "only runs the indented lines if the *if expression* is a true value.\n",
    "\n",
    "To show that, let's print two things, when the number is positive."
   ]
  },
  {
   "cell_type": "code",
   "execution_count": 7,
   "metadata": {},
   "outputs": [],
   "source": [
    "# Still nothing printed\n",
    "if x > 0:\n",
    "    print('Positive')\n",
    "    print('Positively spiffing')"
   ]
  },
  {
   "cell_type": "markdown",
   "metadata": {},
   "source": [
    "Now when `x` is positive."
   ]
  },
  {
   "cell_type": "code",
   "execution_count": 8,
   "metadata": {},
   "outputs": [],
   "source": [
    "x = 1"
   ]
  },
  {
   "cell_type": "code",
   "execution_count": 9,
   "metadata": {},
   "outputs": [
    {
     "name": "stdout",
     "output_type": "stream",
     "text": [
      "Positive\n",
      "Positively spiffing\n"
     ]
    }
   ],
   "source": [
    "# Both lines printed this time.\n",
    "if x > 0:\n",
    "    print('Positive')\n",
    "    print('Positively spiffing')"
   ]
  },
  {
   "cell_type": "markdown",
   "metadata": {},
   "source": [
    "Let us refine our cell to print `Negative` if `x` is a negative\n",
    "number. We can do this by adding an `elif` clause, where `elif` if\n",
    "Python's shorthand for the phrase \"else if\"."
   ]
  },
  {
   "cell_type": "code",
   "execution_count": 10,
   "metadata": {},
   "outputs": [
    {
     "name": "stdout",
     "output_type": "stream",
     "text": [
      "Positive\n"
     ]
    }
   ],
   "source": [
    "if x > 0:\n",
    "    print('Positive')\n",
    "elif x < 0:\n",
    "    print('Negative')"
   ]
  },
  {
   "cell_type": "markdown",
   "metadata": {},
   "source": [
    "Now the cell gives the correct answer when the input is -3:"
   ]
  },
  {
   "cell_type": "code",
   "execution_count": 11,
   "metadata": {},
   "outputs": [],
   "source": [
    "x = -3"
   ]
  },
  {
   "cell_type": "code",
   "execution_count": 12,
   "metadata": {},
   "outputs": [
    {
     "name": "stdout",
     "output_type": "stream",
     "text": [
      "Negative\n"
     ]
    }
   ],
   "source": [
    "if x > 0:\n",
    "    print('Positive')\n",
    "elif x < 0:\n",
    "    print('Negative')"
   ]
  },
  {
   "cell_type": "markdown",
   "metadata": {},
   "source": [
    "What if `x` is 0?\n"
   ]
  },
  {
   "cell_type": "code",
   "execution_count": 13,
   "metadata": {},
   "outputs": [],
   "source": [
    "x = 0"
   ]
  },
  {
   "cell_type": "markdown",
   "metadata": {},
   "source": [
    "To deal with this case, we can add another `elif` clause:"
   ]
  },
  {
   "cell_type": "code",
   "execution_count": 14,
   "metadata": {},
   "outputs": [
    {
     "name": "stdout",
     "output_type": "stream",
     "text": [
      "Neither positive nor negative\n"
     ]
    }
   ],
   "source": [
    "if x > 0:\n",
    "    print('Positive')\n",
    "elif x < 0:\n",
    "    print('Negative')\n",
    "elif x == 0:\n",
    "    print('Neither positive nor negative')"
   ]
  },
  {
   "cell_type": "markdown",
   "metadata": {},
   "source": [
    "Equivalently, we can replaced the final `elif` clause by an `else` clause, whose body will be executed only if all the previous comparisons are false; that is, if the input value is equal to 0."
   ]
  },
  {
   "cell_type": "code",
   "execution_count": 15,
   "metadata": {},
   "outputs": [
    {
     "name": "stdout",
     "output_type": "stream",
     "text": [
      "Neither positive nor negative\n"
     ]
    }
   ],
   "source": [
    "if x > 0:\n",
    "    print('Positive')\n",
    "elif x < 0:\n",
    "    print('Negative')\n",
    "else:\n",
    "    print('Neither positive nor negative')"
   ]
  },
  {
   "cell_type": "markdown",
   "metadata": {},
   "source": [
    "### The General Form ###\n",
    "\n",
    "A conditional statement can also have multiple clauses with multiple\n",
    "bodies, and only one of those bodies can ever be executed. The general\n",
    "format of a multi-clause conditional statement appears below.\n",
    "\n",
    "    if <if expression>:\n",
    "        <if body>\n",
    "    elif <elif expression 0>:\n",
    "        <elif body 0>\n",
    "    elif <elif expression 1>:\n",
    "        <elif body 1>\n",
    "    ...\n",
    "    else:\n",
    "        <else body>\n",
    "\n",
    "There is always exactly one `if` clause, but there can be any number of\n",
    "`elif` clauses. Python will evaluate the `if` and `elif` expressions in\n",
    "the headers in order until one is found that is a true value, then\n",
    "execute the corresponding body. The `else` clause is optional. When an\n",
    "`else` header is provided, its *else body* is executed only if none of\n",
    "the header expressions of the previous clauses are true. The `else`\n",
    "clause must always come at the end (or not at all).\n",
    "\n",
    "{% data8page Conditional_Statements %}"
   ]
  }
 ],
 "metadata": {
  "jupytext": {
   "text_representation": {
    "extension": ".Rmd",
    "format_name": "rmarkdown",
    "format_version": "1.1",
    "jupytext_version": "0.8.7"
   }
  },
  "kernelspec": {
   "display_name": "Python 3",
   "language": "python",
   "name": "python3"
  },
  "language_info": {
   "codemirror_mode": {
    "name": "ipython",
    "version": 3
   },
   "file_extension": ".py",
   "mimetype": "text/x-python",
   "name": "python",
   "nbconvert_exporter": "python",
   "pygments_lexer": "ipython3",
   "version": "3.7.1"
  }
 },
 "nbformat": 4,
 "nbformat_minor": 2
}
