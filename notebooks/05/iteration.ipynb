{
 "cells": [
  {
   "cell_type": "code",
   "execution_count": 1,
   "metadata": {},
   "outputs": [],
   "source": [
    "# HIDDEN\n",
    "# The standard set of libraries we need\n",
    "import numpy as np\n",
    "import matplotlib.pyplot as plt\n",
    "%matplotlib inline\n",
    "\n",
    "# Make plots look a little bit more fancy\n",
    "plt.style.use('fivethirtyeight')"
   ]
  },
  {
   "cell_type": "markdown",
   "metadata": {},
   "source": [
    "### Iteration ###\n",
    "\n",
    "It is often the case in programming – especially when dealing with randomness\n",
    "– that we want to repeat a process multiple times.\n",
    "\n",
    "Consider the numpy function `random.choice`. It claims to choose randomly\n",
    "between the elements on an array that we pass it.  Here we make an array of\n",
    "strings containing two choices:\n"
   ]
  },
  {
   "cell_type": "code",
   "execution_count": 2,
   "metadata": {},
   "outputs": [],
   "source": [
    "coin = np.array(['Heads', 'Tails'])"
   ]
  },
  {
   "cell_type": "markdown",
   "metadata": {},
   "source": [
    "We use `np.random.choice` to choose randomly between these two elements:"
   ]
  },
  {
   "cell_type": "code",
   "execution_count": 3,
   "metadata": {},
   "outputs": [
    {
     "data": {
      "text/plain": [
       "'Heads'"
      ]
     },
     "execution_count": 3,
     "metadata": {},
     "output_type": "execute_result"
    }
   ],
   "source": [
    "np.random.choice(coin)"
   ]
  },
  {
   "cell_type": "markdown",
   "metadata": {},
   "source": [
    "We might want to check whether `np.random.choice` does in fact pick either\n",
    "option with about the same probability.  To do that, we could start by runing\n",
    "the following cell many times to see if we get roughly equal numbers of `\"Heads\"` and `\"Tails\"`."
   ]
  },
  {
   "cell_type": "code",
   "execution_count": 4,
   "metadata": {},
   "outputs": [
    {
     "data": {
      "text/plain": [
       "'Tails'"
      ]
     },
     "execution_count": 4,
     "metadata": {},
     "output_type": "execute_result"
    }
   ],
   "source": [
    "np.random.choice(coin)"
   ]
  },
  {
   "cell_type": "markdown",
   "metadata": {},
   "source": [
    "We might want to re-run code with slightly different input or other slightly\n",
    "different behavior. We could copy-paste the code multiple times, but that's\n",
    "tedious and prone to typos, and if we wanted to do it a thousand times or\n",
    "a million times, forget it.\n",
    "\n",
    "A more automated solution is to use a `for` statement to loop over the contents\n",
    "of a sequence. This is called *iteration*. A `for` statement begins with the\n",
    "word `for`, followed by a name we want to give each item in the sequence,\n",
    "followed by the word `in`, and ending with an expression that evaluates to\n",
    "a sequence. The indented body of the `for` statement is executed once *for each\n",
    "item in that sequence*."
   ]
  },
  {
   "cell_type": "code",
   "execution_count": 5,
   "metadata": {},
   "outputs": [
    {
     "name": "stdout",
     "output_type": "stream",
     "text": [
      "0\n",
      "1\n",
      "2\n"
     ]
    }
   ],
   "source": [
    "for i in np.arange(3):\n",
    "    print(i)"
   ]
  },
  {
   "cell_type": "markdown",
   "metadata": {},
   "source": [
    "It is instructive to imagine code that exactly replicates a `for` statement\n",
    "without the `for` statement.  (This is called *unrolling* the loop.)  A `for`\n",
    "statement simple replicates the code inside it, but before each iteration, it\n",
    "assigns a new value from the given sequence to the name we chose.  For example,\n",
    "here is an unrolled version of the loop above:"
   ]
  },
  {
   "cell_type": "code",
   "execution_count": 6,
   "metadata": {},
   "outputs": [
    {
     "name": "stdout",
     "output_type": "stream",
     "text": [
      "0\n",
      "1\n",
      "2\n"
     ]
    }
   ],
   "source": [
    "i = np.arange(3)[0]\n",
    "print(i)\n",
    "i = np.arange(3)[1]\n",
    "print(i)\n",
    "i = np.arange(3)[2]\n",
    "print(i)"
   ]
  },
  {
   "cell_type": "markdown",
   "metadata": {},
   "source": [
    "Notice that the name `i` is arbitrary, just like any name we assign with `=`.\n",
    "\n",
    "Here we use a `for` statement in a more realistic way: we print the results of five random choices:"
   ]
  },
  {
   "cell_type": "code",
   "execution_count": 7,
   "metadata": {},
   "outputs": [
    {
     "name": "stdout",
     "output_type": "stream",
     "text": [
      "Tails\n",
      "Heads\n",
      "Heads\n",
      "Heads\n",
      "Heads\n"
     ]
    }
   ],
   "source": [
    "for i in np.arange(5):\n",
    "    print(np.random.choice(coin))"
   ]
  },
  {
   "cell_type": "markdown",
   "metadata": {},
   "source": [
    "In this case, we simply perform exactly the same (random) action several times,\n",
    "so the code inside our `for` statement does not actually refer to the variable\n",
    "`i`."
   ]
  },
  {
   "cell_type": "markdown",
   "metadata": {},
   "source": [
    "### Augmenting Arrays ###\n",
    "\n",
    "While the `for` statement above does simulate the results of five tosses of\n",
    "a coin, the results are simply printed and aren't in a form that we can use for\n",
    "computation. Thus a typical use of a `for` statement is to create an array of\n",
    "results, by augmenting it each time.\n",
    "\n",
    "The `append` method in `numpy` helps us do this. The call\n",
    "`np.append(array_name, value)` evaluates to a new array that is `array_name`\n",
    "augmented by `value`. When you use `append`, keep in mind that all the entries\n",
    "of an array must have the same type."
   ]
  },
  {
   "cell_type": "code",
   "execution_count": 8,
   "metadata": {},
   "outputs": [],
   "source": [
    "# A string array with two values\n",
    "pets = np.array(['Cat', 'Dog'])"
   ]
  },
  {
   "cell_type": "code",
   "execution_count": 9,
   "metadata": {},
   "outputs": [
    {
     "data": {
      "text/plain": [
       "array(['Cat', 'Dog', 'Another Pet'], dtype='<U11')"
      ]
     },
     "execution_count": 9,
     "metadata": {},
     "output_type": "execute_result"
    }
   ],
   "source": [
    "np.append(pets, 'Another Pet')"
   ]
  },
  {
   "cell_type": "markdown",
   "metadata": {},
   "source": [
    "This keeps the array `pets` unchanged:"
   ]
  },
  {
   "cell_type": "code",
   "execution_count": 10,
   "metadata": {},
   "outputs": [
    {
     "data": {
      "text/plain": [
       "array(['Cat', 'Dog'], dtype='<U3')"
      ]
     },
     "execution_count": 10,
     "metadata": {},
     "output_type": "execute_result"
    }
   ],
   "source": [
    "pets"
   ]
  },
  {
   "cell_type": "markdown",
   "metadata": {},
   "source": [
    "But often while using `for` loops it will be convenient to mutate an array\n",
    "– that is, change it – when augmenting it. This is done by assigning the\n",
    "augmented array to the same name as the original."
   ]
  },
  {
   "cell_type": "code",
   "execution_count": 11,
   "metadata": {},
   "outputs": [
    {
     "data": {
      "text/plain": [
       "array(['Cat', 'Dog', 'Another Pet'], dtype='<U11')"
      ]
     },
     "execution_count": 11,
     "metadata": {},
     "output_type": "execute_result"
    }
   ],
   "source": [
    "pets = np.append(pets, 'Another Pet')\n",
    "pets"
   ]
  },
  {
   "cell_type": "markdown",
   "metadata": {},
   "source": [
    "### Example: Counting the Number of Heads ###\n",
    "\n",
    "We can now simulate five tosses of a coin and place the results into an array.\n",
    "We will start by creating an empty array and then appending the result of each\n",
    "toss."
   ]
  },
  {
   "cell_type": "code",
   "execution_count": 12,
   "metadata": {},
   "outputs": [
    {
     "data": {
      "text/plain": [
       "array(['Tails', 'Heads', 'Tails', 'Heads', 'Tails'], dtype='<U32')"
      ]
     },
     "execution_count": 12,
     "metadata": {},
     "output_type": "execute_result"
    }
   ],
   "source": [
    "# An empty array\n",
    "tosses = np.array([])\n",
    "\n",
    "for i in np.arange(5):\n",
    "    tosses = np.append(tosses, np.random.choice(coin))\n",
    "\n",
    "tosses"
   ]
  },
  {
   "cell_type": "markdown",
   "metadata": {},
   "source": [
    "Let us rewrite the cell with the `for` statement unrolled:"
   ]
  },
  {
   "cell_type": "code",
   "execution_count": 13,
   "metadata": {},
   "outputs": [
    {
     "data": {
      "text/plain": [
       "array(['Tails', 'Heads', 'Tails', 'Heads', 'Tails'], dtype='<U32')"
      ]
     },
     "execution_count": 13,
     "metadata": {},
     "output_type": "execute_result"
    }
   ],
   "source": [
    "# An empty array\n",
    "tosses = np.array([])\n",
    "\n",
    "i = np.arange(5)[0]\n",
    "tosses = np.append(tosses, np.random.choice(coin))\n",
    "i = np.arange(5)[1]\n",
    "tosses = np.append(tosses, np.random.choice(coin))\n",
    "i = np.arange(5)[2]\n",
    "tosses = np.append(tosses, np.random.choice(coin))\n",
    "i = np.arange(5)[3]\n",
    "tosses = np.append(tosses, np.random.choice(coin))\n",
    "i = np.arange(5)[4]\n",
    "tosses = np.append(tosses, np.random.choice(coin))\n",
    "\n",
    "tosses"
   ]
  },
  {
   "cell_type": "markdown",
   "metadata": {},
   "source": [
    "By capturing the results in an array we have given ourselves the ability to use\n",
    "array methods to do computations. For example, we can use `np.count_nonzero` to\n",
    "count the number of heads in the five tosses."
   ]
  },
  {
   "cell_type": "code",
   "execution_count": 14,
   "metadata": {},
   "outputs": [
    {
     "data": {
      "text/plain": [
       "2"
      ]
     },
     "execution_count": 14,
     "metadata": {},
     "output_type": "execute_result"
    }
   ],
   "source": [
    "np.count_nonzero(tosses == 'Heads')"
   ]
  },
  {
   "cell_type": "markdown",
   "metadata": {},
   "source": [
    "Iteration is a powerful technique. For example, by running exactly the same\n",
    "code for 1000 tosses instead of 5, we can count the number of heads in 1000\n",
    "tosses."
   ]
  },
  {
   "cell_type": "code",
   "execution_count": 15,
   "metadata": {},
   "outputs": [
    {
     "data": {
      "text/plain": [
       "529"
      ]
     },
     "execution_count": 15,
     "metadata": {},
     "output_type": "execute_result"
    }
   ],
   "source": [
    "tosses = np.array([])\n",
    "\n",
    "for i in np.arange(1000):\n",
    "    tosses = np.append(tosses, np.random.choice(coin))\n",
    "\n",
    "np.count_nonzero(tosses == 'Heads')"
   ]
  },
  {
   "cell_type": "markdown",
   "metadata": {},
   "source": [
    "### Example: Number of Heads in 100 Tosses ###\n",
    "\n",
    "It is natural to expect that in 100 tosses of a coin, there will be 50 heads,\n",
    "give or take a few.\n",
    "\n",
    "But how many is \"a few\"? What's the chance of getting exactly 50 heads?\n",
    "Questions like these matter in data science not only because they are about\n",
    "interesting aspects of randomness, but also because they can be used in\n",
    "analyzing experiments where assignments to treatment and control groups are\n",
    "decided by the toss of a coin.\n",
    "\n",
    "In this example we will simulate 10,000 repetitions of the following\n",
    "experiment:\n",
    "\n",
    "- Toss a coin 100 times and record the number of heads.\n",
    "\n",
    "The histogram of our results will give us some insight into how many heads are\n",
    "likely."
   ]
  },
  {
   "cell_type": "markdown",
   "metadata": {},
   "source": [
    "As a preliminary, note that `np.random.choice` takes an optional second\n",
    "argument that specifies the number of choices to make. By default, the choices\n",
    "are made with replacement, meaning that there is the same chance of getting\n",
    "a `Head` for all the choices returned. Here is a simulation of 10 tosses of\n",
    "a coin:"
   ]
  },
  {
   "cell_type": "code",
   "execution_count": 16,
   "metadata": {},
   "outputs": [
    {
     "data": {
      "text/plain": [
       "array(['Tails', 'Tails', 'Tails', 'Heads', 'Heads', 'Heads', 'Heads',\n",
       "       'Tails', 'Tails', 'Tails'], dtype='<U5')"
      ]
     },
     "execution_count": 16,
     "metadata": {},
     "output_type": "execute_result"
    }
   ],
   "source": [
    "np.random.choice(coin, 10)"
   ]
  },
  {
   "cell_type": "markdown",
   "metadata": {},
   "source": [
    "Now let's study 100 tosses. We will start by creating an empty array called\n",
    "`heads`. Then, in each of the 10,000 repetitions, we will toss a coin 100\n",
    "times, count the number of heads, and append it to `heads`."
   ]
  },
  {
   "cell_type": "code",
   "execution_count": 17,
   "metadata": {},
   "outputs": [
    {
     "data": {
      "text/plain": [
       "array([59., 52., 47., ..., 51., 52., 58.])"
      ]
     },
     "execution_count": 17,
     "metadata": {},
     "output_type": "execute_result"
    }
   ],
   "source": [
    "N = 10000\n",
    "\n",
    "heads = np.array([])\n",
    "\n",
    "for i in np.arange(N):\n",
    "    tosses = np.random.choice(coin, 100)\n",
    "    heads = np.append(heads, np.count_nonzero(tosses == 'Heads'))\n",
    "\n",
    "heads"
   ]
  },
  {
   "cell_type": "markdown",
   "metadata": {},
   "source": [
    "Here is a histogram of the data, with bins of width 1 centered at each value of\n",
    "the number of heads."
   ]
  },
  {
   "cell_type": "code",
   "execution_count": 18,
   "metadata": {},
   "outputs": [
    {
     "data": {
      "text/plain": [
       "(array([  0.,   1.,   6.,   3.,   9.,  10.,  27.,  42.,  64.,  87., 158.,\n",
       "        219., 298., 392., 466., 624., 667., 792., 789., 774., 797., 767.,\n",
       "        624., 563., 457., 418., 300., 209., 142.,  99.,  77.,  50.,  30.,\n",
       "         18.,  11.,   6.,   3.,   1.,   0.]),\n",
       " array([30.5, 31.5, 32.5, 33.5, 34.5, 35.5, 36.5, 37.5, 38.5, 39.5, 40.5,\n",
       "        41.5, 42.5, 43.5, 44.5, 45.5, 46.5, 47.5, 48.5, 49.5, 50.5, 51.5,\n",
       "        52.5, 53.5, 54.5, 55.5, 56.5, 57.5, 58.5, 59.5, 60.5, 61.5, 62.5,\n",
       "        63.5, 64.5, 65.5, 66.5, 67.5, 68.5, 69.5]),\n",
       " <a list of 39 Patch objects>)"
      ]
     },
     "execution_count": 18,
     "metadata": {},
     "output_type": "execute_result"
    },
    {
     "data": {
      "image/png": "[encoded data removed]",
      "text/plain": [
       "<Figure size 432x288 with 1 Axes>"
      ]
     },
     "metadata": {
      "needs_background": "light"
     },
     "output_type": "display_data"
    }
   ],
   "source": [
    "plt.hist(heads, bins=np.arange(30.5, 69.6, 1))"
   ]
  },
  {
   "cell_type": "markdown",
   "metadata": {},
   "source": [
    "Not surprisingly, the histogram looks roughly symmetric around 50 heads. The\n",
    "height of the bar at 50 is about 8% per unit. Since each bin is 1 unit wide,\n",
    "this is the same as saying that about 8% of the repetitions produced exactly 50\n",
    "heads. That's not a huge percent, but it's the largest compared to the percent\n",
    "at every other number of heads.\n",
    "\n",
    "The histogram also shows that in almost all of the repetitions, the number of\n",
    "heads in 100 tosses was somewhere between 35 and 65. Indeed, the bulk of the\n",
    "repetitions produced numbers of heads in the range 45 to 55.\n",
    "\n",
    "While in theory it is *possible* that the number of heads can be anywhere\n",
    "between 0 and 100, the simulation shows that the range of *probable* values is\n",
    "much smaller.\n",
    "\n",
    "This is an instance of a more general phenomenon about the variability in coin\n",
    "tossing, as we will see later in the course.\n",
    "\n",
    "Now see [the for loop exercises](../exercises/for_loops).\n",
    "\n",
    "{% data8page Iteration %}"
   ]
  }
 ],
 "metadata": {
  "jupytext": {
   "text_representation": {
    "extension": ".Rmd",
    "format_name": "rmarkdown",
    "format_version": "1.0",
    "jupytext_version": "0.8.5"
   }
  },
  "kernelspec": {
   "display_name": "Python 3",
   "language": "python",
   "name": "python3"
  },
  "language_info": {
   "codemirror_mode": {
    "name": "ipython",
    "version": 3
   },
   "file_extension": ".py",
   "mimetype": "text/x-python",
   "name": "python",
   "nbconvert_exporter": "python",
   "pygments_lexer": "ipython3",
   "version": "3.7.1"
  }
 },
 "nbformat": 4,
 "nbformat_minor": 2
}
